{
 "cells": [
  {
   "cell_type": "code",
   "execution_count": 70,
   "metadata": {},
   "outputs": [],
   "source": [
    "import pickle\n",
    "import numpy as np\n",
    "import pandas as pd\n",
    "\n",
    "import matplotlib.pyplot as plt\n",
    "%matplotlib inline\n",
    "\n",
    "import seaborn as sns\n",
    "\n",
    "from sklearn.preprocessing import RobustScaler, StandardScaler, Normalizer, MinMaxScaler, MaxAbsScaler\n",
    "from sklearn.cluster import KMeans\n",
    "from sklearn.metrics import calinski_harabasz_score, silhouette_score\n",
    "from sklearn.decomposition import PCA\n",
    "from sklearn.ensemble import RandomForestClassifier\n",
    "from sklearn.tree import DecisionTreeClassifier\n",
    "from sklearn import tree\n",
    "from sklearn.linear_model import LogisticRegression\n",
    "from sklearn.svm import SVC\n",
    "from sklearn.model_selection import train_test_split"
   ]
  },
  {
   "cell_type": "code",
   "execution_count": 2,
   "metadata": {},
   "outputs": [],
   "source": [
    "with open(\"../data/interim/02_extracted_basic_numerical_comparison.pkl\", \"rb\") as f:\n",
    "    wiki_df = pickle.load(f)"
   ]
  },
  {
   "cell_type": "markdown",
   "metadata": {},
   "source": [
    "Get only the numerical data for plotting"
   ]
  },
  {
   "cell_type": "code",
   "execution_count": 3,
   "metadata": {},
   "outputs": [
    {
     "data": {
      "text/plain": [
       "Index(['parent_title', 'parent_url', 'child_title', 'child_url', 'comparison',\n",
       "       'parent_extract', 'parent_links', 'parent_linkshere',\n",
       "       'parent_categories', 'parent_redirects', 'child_extract', 'child_links',\n",
       "       'child_linkshere', 'child_categories', 'child_redirects',\n",
       "       'parent_direct_to_child', 'child_direct_to_parent',\n",
       "       'parent_path_to_child', 'child_path_to_parent', 'shared_categories',\n",
       "       'shared_links', 'shared_linkshere'],\n",
       "      dtype='object')"
      ]
     },
     "execution_count": 3,
     "metadata": {},
     "output_type": "execute_result"
    }
   ],
   "source": [
    "wiki_df.columns"
   ]
  },
  {
   "cell_type": "code",
   "execution_count": 4,
   "metadata": {},
   "outputs": [],
   "source": [
    "wiki_numerical_df = wiki_df[['parent_direct_to_child', 'child_direct_to_parent',\n",
    "       'parent_path_to_child', 'child_path_to_parent', 'shared_categories',\n",
    "       'shared_links', 'shared_linkshere']].copy()"
   ]
  },
  {
   "cell_type": "markdown",
   "metadata": {},
   "source": [
    "## Scaling and clustering"
   ]
  },
  {
   "cell_type": "code",
   "execution_count": 90,
   "metadata": {},
   "outputs": [],
   "source": [
    "# scaler = RobustScaler()\n",
    "# scaler = StandardScaler()\n",
    "# scaler = Normalizer()\n",
    "# scaler = MinMaxScaler()\n",
    "scaler = MaxAbsScaler()\n",
    "\n",
    "\n",
    "scaled = scaler.fit_transform(wiki_numerical_df)\n",
    "scaled_df = pd.DataFrame(scaled, columns=wiki_numerical_df.columns)"
   ]
  },
  {
   "cell_type": "code",
   "execution_count": 91,
   "metadata": {},
   "outputs": [
    {
     "data": {
      "text/html": [
       "<div>\n",
       "<style scoped>\n",
       "    .dataframe tbody tr th:only-of-type {\n",
       "        vertical-align: middle;\n",
       "    }\n",
       "\n",
       "    .dataframe tbody tr th {\n",
       "        vertical-align: top;\n",
       "    }\n",
       "\n",
       "    .dataframe thead th {\n",
       "        text-align: right;\n",
       "    }\n",
       "</style>\n",
       "<table border=\"1\" class=\"dataframe\">\n",
       "  <thead>\n",
       "    <tr style=\"text-align: right;\">\n",
       "      <th></th>\n",
       "      <th>parent_direct_to_child</th>\n",
       "      <th>child_direct_to_parent</th>\n",
       "      <th>parent_path_to_child</th>\n",
       "      <th>child_path_to_parent</th>\n",
       "      <th>shared_categories</th>\n",
       "      <th>shared_links</th>\n",
       "      <th>shared_linkshere</th>\n",
       "      <th>labels</th>\n",
       "    </tr>\n",
       "  </thead>\n",
       "  <tbody>\n",
       "    <tr>\n",
       "      <th>0</th>\n",
       "      <td>1</td>\n",
       "      <td>1</td>\n",
       "      <td>1</td>\n",
       "      <td>2</td>\n",
       "      <td>0</td>\n",
       "      <td>2</td>\n",
       "      <td>1</td>\n",
       "      <td>1</td>\n",
       "    </tr>\n",
       "    <tr>\n",
       "      <th>1</th>\n",
       "      <td>1</td>\n",
       "      <td>1</td>\n",
       "      <td>6</td>\n",
       "      <td>9</td>\n",
       "      <td>0</td>\n",
       "      <td>10</td>\n",
       "      <td>10</td>\n",
       "      <td>1</td>\n",
       "    </tr>\n",
       "    <tr>\n",
       "      <th>2</th>\n",
       "      <td>1</td>\n",
       "      <td>0</td>\n",
       "      <td>8</td>\n",
       "      <td>2</td>\n",
       "      <td>1</td>\n",
       "      <td>21</td>\n",
       "      <td>2</td>\n",
       "      <td>0</td>\n",
       "    </tr>\n",
       "    <tr>\n",
       "      <th>3</th>\n",
       "      <td>1</td>\n",
       "      <td>0</td>\n",
       "      <td>2</td>\n",
       "      <td>1</td>\n",
       "      <td>0</td>\n",
       "      <td>1</td>\n",
       "      <td>1</td>\n",
       "      <td>0</td>\n",
       "    </tr>\n",
       "    <tr>\n",
       "      <th>4</th>\n",
       "      <td>1</td>\n",
       "      <td>1</td>\n",
       "      <td>8</td>\n",
       "      <td>6</td>\n",
       "      <td>0</td>\n",
       "      <td>10</td>\n",
       "      <td>11</td>\n",
       "      <td>1</td>\n",
       "    </tr>\n",
       "  </tbody>\n",
       "</table>\n",
       "</div>"
      ],
      "text/plain": [
       "   parent_direct_to_child  child_direct_to_parent  parent_path_to_child  \\\n",
       "0                       1                       1                     1   \n",
       "1                       1                       1                     6   \n",
       "2                       1                       0                     8   \n",
       "3                       1                       0                     2   \n",
       "4                       1                       1                     8   \n",
       "\n",
       "   child_path_to_parent  shared_categories  shared_links  shared_linkshere  \\\n",
       "0                     2                  0             2                 1   \n",
       "1                     9                  0            10                10   \n",
       "2                     2                  1            21                 2   \n",
       "3                     1                  0             1                 1   \n",
       "4                     6                  0            10                11   \n",
       "\n",
       "   labels  \n",
       "0       1  \n",
       "1       1  \n",
       "2       0  \n",
       "3       0  \n",
       "4       1  "
      ]
     },
     "execution_count": 91,
     "metadata": {},
     "output_type": "execute_result"
    }
   ],
   "source": [
    "kmeans = KMeans(n_clusters=4, n_jobs=-1)\n",
    "\n",
    "kmeans.fit(scaled);\n",
    "# scaled_df[\"clusters\"] = kmeans.labels_\n",
    "\n",
    "scaled_with_labels = scaled_df.copy()\n",
    "scaled_with_labels['labels'] = kmeans.labels_\n",
    "\n",
    "unscaled_with_labels = wiki_numerical_df.copy()\n",
    "unscaled_with_labels['labels'] = kmeans.labels_\n",
    "\n",
    "unscaled_with_labels.head()"
   ]
  },
  {
   "cell_type": "code",
   "execution_count": 41,
   "metadata": {},
   "outputs": [
    {
     "data": {
      "text/plain": [
       "0.949428651375003"
      ]
     },
     "execution_count": 41,
     "metadata": {},
     "output_type": "execute_result"
    }
   ],
   "source": [
    "silhouette_score(scaled, kmeans.labels_)"
   ]
  },
  {
   "cell_type": "code",
   "execution_count": 92,
   "metadata": {},
   "outputs": [
    {
     "name": "stdout",
     "output_type": "stream",
     "text": [
      "score:\t 0.99908655507826\n",
      "Feature Importances:\t [('parent_direct_to_child', 0.04260023536038852), ('child_direct_to_parent', 0.7572671092859526), ('parent_path_to_child', 0.015248624812422604), ('child_path_to_parent', 0.09396528697559385), ('shared_categories', 0.012279254713149378), ('shared_links', 0.038454121064648066), ('shared_linkshere', 0.04018536778784474)]\n"
     ]
    }
   ],
   "source": [
    "rf = RandomForestClassifier(n_estimators=100, max_depth=4, random_state=42)\n",
    "X = scaled_with_labels.drop(\"labels\", axis=1)\n",
    "y = scaled_with_labels.labels\n",
    "\n",
    "X_train, X_test, y_train, y_test = train_test_split(X, y, train_size=0.7, random_state=42)\n",
    "\n",
    "rf.fit(X_train, y_train);\n",
    "\n",
    "print(\"score:\\t\", rf.score(X_test, y_test))\n",
    "print(\"Feature Importances:\\t\", list(zip(X.columns, rf.feature_importances_)))"
   ]
  },
  {
   "cell_type": "markdown",
   "metadata": {},
   "source": [
    "# PCA for graphing"
   ]
  },
  {
   "cell_type": "code",
   "execution_count": 93,
   "metadata": {},
   "outputs": [],
   "source": [
    "pca = PCA(n_components=2)\n",
    "\n",
    "transformed = pca.fit_transform(scaled_df)"
   ]
  },
  {
   "cell_type": "code",
   "execution_count": 98,
   "metadata": {},
   "outputs": [
    {
     "data": {
      "text/plain": [
       "array([0.24773187, 0.26508235])"
      ]
     },
     "execution_count": 98,
     "metadata": {},
     "output_type": "execute_result"
    }
   ],
   "source": [
    "np.cumsum(pca.explained_variance_)"
   ]
  },
  {
   "cell_type": "code",
   "execution_count": 99,
   "metadata": {},
   "outputs": [],
   "source": [
    "transformed_scaled_df = pd.DataFrame(transformed, columns=[\"PC1\", \"PC2\"])\n",
    "transformed_scaled_df['clusters'] = kmeans.labels_"
   ]
  },
  {
   "cell_type": "code",
   "execution_count": 100,
   "metadata": {},
   "outputs": [
    {
     "data": {
      "text/html": [
       "<div>\n",
       "<style scoped>\n",
       "    .dataframe tbody tr th:only-of-type {\n",
       "        vertical-align: middle;\n",
       "    }\n",
       "\n",
       "    .dataframe tbody tr th {\n",
       "        vertical-align: top;\n",
       "    }\n",
       "\n",
       "    .dataframe thead th {\n",
       "        text-align: right;\n",
       "    }\n",
       "</style>\n",
       "<table border=\"1\" class=\"dataframe\">\n",
       "  <thead>\n",
       "    <tr style=\"text-align: right;\">\n",
       "      <th></th>\n",
       "      <th>PC1</th>\n",
       "      <th>PC2</th>\n",
       "      <th>clusters</th>\n",
       "    </tr>\n",
       "  </thead>\n",
       "  <tbody>\n",
       "    <tr>\n",
       "      <th>0</th>\n",
       "      <td>-0.446638</td>\n",
       "      <td>-0.013857</td>\n",
       "      <td>1</td>\n",
       "    </tr>\n",
       "    <tr>\n",
       "      <th>1</th>\n",
       "      <td>-0.446886</td>\n",
       "      <td>-0.013864</td>\n",
       "      <td>1</td>\n",
       "    </tr>\n",
       "    <tr>\n",
       "      <th>2</th>\n",
       "      <td>0.552083</td>\n",
       "      <td>-0.022322</td>\n",
       "      <td>0</td>\n",
       "    </tr>\n",
       "    <tr>\n",
       "      <th>3</th>\n",
       "      <td>0.552530</td>\n",
       "      <td>-0.022314</td>\n",
       "      <td>0</td>\n",
       "    </tr>\n",
       "    <tr>\n",
       "      <th>4</th>\n",
       "      <td>-0.446871</td>\n",
       "      <td>-0.013863</td>\n",
       "      <td>1</td>\n",
       "    </tr>\n",
       "  </tbody>\n",
       "</table>\n",
       "</div>"
      ],
      "text/plain": [
       "        PC1       PC2  clusters\n",
       "0 -0.446638 -0.013857         1\n",
       "1 -0.446886 -0.013864         1\n",
       "2  0.552083 -0.022322         0\n",
       "3  0.552530 -0.022314         0\n",
       "4 -0.446871 -0.013863         1"
      ]
     },
     "execution_count": 100,
     "metadata": {},
     "output_type": "execute_result"
    }
   ],
   "source": [
    "transformed_scaled_df.head()"
   ]
  },
  {
   "cell_type": "code",
   "execution_count": 101,
   "metadata": {},
   "outputs": [
    {
     "data": {
      "image/png": "[encoded data removed]",
      "text/plain": [
       "<Figure size 1152x576 with 1 Axes>"
      ]
     },
     "metadata": {
      "needs_background": "light"
     },
     "output_type": "display_data"
    }
   ],
   "source": [
    "plt.figure(figsize=(16,8))\n",
    "# sns.scatterplot(x=transformed[:, 0], y=transformed[:, 1], hue=scaled_df.clusters)\n",
    "# sns.scatterplot(x=transformed[:, 0], y=transformed[:, 1])\n",
    "sns.scatterplot(data=transformed_scaled_df, x=\"PC1\", y=\"PC2\", hue=\"clusters\", palette=\"viridis\", alpha=0.1)\n",
    "plt.show()"
   ]
  }
 ],
 "metadata": {
  "kernelspec": {
   "display_name": "Python 3",
   "language": "python",
   "name": "python3"
  },
  "language_info": {
   "codemirror_mode": {
    "name": "ipython",
    "version": 3
   },
   "file_extension": ".py",
   "mimetype": "text/x-python",
   "name": "python",
   "nbconvert_exporter": "python",
   "pygments_lexer": "ipython3",
   "version": "3.7.3"
  }
 },
 "nbformat": 4,
 "nbformat_minor": 2
}
