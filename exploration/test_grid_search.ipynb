{
 "cells": [
  {
   "cell_type": "code",
   "execution_count": 3,
   "metadata": {
    "ExecuteTime": {
     "end_time": "2019-09-03T00:53:13.493670Z",
     "start_time": "2019-09-03T00:53:13.487790Z"
    }
   },
   "outputs": [],
   "source": [
    "from sklearn.model_selection import GridSearchCV\n",
    "\n",
    "from sklearn.ensemble import RandomForestClassifier\n",
    "\n",
    "from itertools import product"
   ]
  },
  {
   "cell_type": "code",
   "execution_count": 13,
   "metadata": {
    "ExecuteTime": {
     "end_time": "2019-09-03T01:14:17.408034Z",
     "start_time": "2019-09-03T01:14:17.391763Z"
    }
   },
   "outputs": [
    {
     "data": {
      "text/plain": [
       "[{'n_estimators': [1], 'max_depth': [1]},\n",
       " {'n_estimators': [1], 'max_depth': [2]},\n",
       " {'n_estimators': [1], 'max_depth': [3]},\n",
       " {'n_estimators': [2], 'max_depth': [1]},\n",
       " {'n_estimators': [2], 'max_depth': [2]},\n",
       " {'n_estimators': [2], 'max_depth': [3]},\n",
       " {'n_estimators': [3], 'max_depth': [1]},\n",
       " {'n_estimators': [3], 'max_depth': [2]},\n",
       " {'n_estimators': [3], 'max_depth': [3]}]"
      ]
     },
     "execution_count": 13,
     "metadata": {},
     "output_type": "execute_result"
    }
   ],
   "source": [
    "def param_combinations(param_list):\n",
    "    params, values = tuple(zip(*param_list))\n",
    "    \n",
    "    combs = product(*values)\n",
    "    settings = []\n",
    "    for c in combs:\n",
    "        settings.append({})\n",
    "        for i, p in enumerate(params):\n",
    "            settings[-1][p] = [c[i]]\n",
    "            \n",
    "    return settings\n",
    "\n",
    "param_combinations([\n",
    "    (\"n_estimators\", [1,2,3]),\n",
    "    (\"max_depth\", [1,2,3])\n",
    "])\n",
    "    "
   ]
  },
  {
   "cell_type": "code",
   "execution_count": 10,
   "metadata": {
    "ExecuteTime": {
     "end_time": "2019-09-03T01:11:35.600193Z",
     "start_time": "2019-09-03T01:11:35.590540Z"
    }
   },
   "outputs": [
    {
     "data": {
      "text/plain": [
       "[('n_estimators', 'max_depth'), ([1, 2, 3], [1, 2, 3])]"
      ]
     },
     "execution_count": 10,
     "metadata": {},
     "output_type": "execute_result"
    }
   ],
   "source": [
    "a = [\n",
    "    (\"n_estimators\", [1,2,3]),\n",
    "    (\"max_depth\", [1,2,3])\n",
    "]\n",
    "\n",
    "list(zip(*a))"
   ]
  },
  {
   "cell_type": "code",
   "execution_count": 2,
   "metadata": {
    "ExecuteTime": {
     "end_time": "2019-09-03T00:06:21.300258Z",
     "start_time": "2019-09-03T00:06:21.292889Z"
    }
   },
   "outputs": [],
   "source": [
    "def test_grid_search(X_train, y_train, X_test, y_test, model, param_combs, cv):\n",
    "    \n",
    "    for comb in param_combs:\n",
    "        \n",
    "        grid = GridSearchCV(model, comb, cv=cv)\n",
    "        \n",
    "        grid.fit(X_train, y_train)"
   ]
  },
  {
   "cell_type": "code",
   "execution_count": null,
   "metadata": {},
   "outputs": [],
   "source": []
  }
 ],
 "metadata": {
  "kernelspec": {
   "display_name": "Python 3",
   "language": "python",
   "name": "python3"
  },
  "language_info": {
   "codemirror_mode": {
    "name": "ipython",
    "version": 3
   },
   "file_extension": ".py",
   "mimetype": "text/x-python",
   "name": "python",
   "nbconvert_exporter": "python",
   "pygments_lexer": "ipython3",
   "version": "3.7.3"
  }
 },
 "nbformat": 4,
 "nbformat_minor": 2
}
