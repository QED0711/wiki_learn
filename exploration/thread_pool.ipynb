{
 "cells": [
  {
   "cell_type": "code",
   "execution_count": 1,
   "metadata": {
    "ExecuteTime": {
     "end_time": "2019-08-31T13:54:03.078566Z",
     "start_time": "2019-08-31T13:54:03.041524Z"
    }
   },
   "outputs": [],
   "source": [
    "%load_ext autoreload\n",
    "%autoreload 1\n",
    "\n",
    "import sys\n",
    "sys.path.append(\"../utils/\")\n",
    "\n",
    "import threading\n",
    "import concurrent.futures\n",
    "import time\n",
    "import signal\n",
    "\n",
    "from WikiMultiQuery import wiki_multi_query"
   ]
  },
  {
   "cell_type": "code",
   "execution_count": 2,
   "metadata": {
    "ExecuteTime": {
     "end_time": "2019-08-31T13:54:03.623482Z",
     "start_time": "2019-08-31T13:54:03.617051Z"
    }
   },
   "outputs": [
    {
     "data": {
      "text/plain": [
       "<Handlers.SIG_DFL: 0>"
      ]
     },
     "execution_count": 2,
     "metadata": {},
     "output_type": "execute_result"
    }
   ],
   "source": [
    "def handle_alarm(signum, frame):\n",
    "    raise RuntimeError\n",
    "\n",
    "signal.signal(signal.SIGALRM, handle_alarm)"
   ]
  },
  {
   "cell_type": "code",
   "execution_count": 13,
   "metadata": {
    "ExecuteTime": {
     "end_time": "2019-08-31T13:58:41.476066Z",
     "start_time": "2019-08-31T13:58:41.362907Z"
    }
   },
   "outputs": [],
   "source": [
    "nodes = wiki_multi_query([\"Decision tree\"], max_requests=20)[0]['links'][0:50]"
   ]
  },
  {
   "cell_type": "code",
   "execution_count": 14,
   "metadata": {
    "ExecuteTime": {
     "end_time": "2019-08-31T13:58:51.656282Z",
     "start_time": "2019-08-31T13:58:51.652448Z"
    }
   },
   "outputs": [],
   "source": [
    "def thread_func(node):\n",
    "    try:\n",
    "        signal.alarm(10)\n",
    "        node_info = wiki_multi_query([node], max_requests=20)\n",
    "        signal.alarm(0)\n",
    "        print(len(node_info[0]['links']))\n",
    "    except:\n",
    "        signal.alarm(0)\n",
    "        print(f\"FAILED: {node}\")"
   ]
  },
  {
   "cell_type": "code",
   "execution_count": 15,
   "metadata": {
    "ExecuteTime": {
     "end_time": "2019-08-31T13:58:58.701314Z",
     "start_time": "2019-08-31T13:58:55.474817Z"
    }
   },
   "outputs": [
    {
     "name": "stdout",
     "output_type": "stream",
     "text": [
      "19\n",
      "75\n",
      "151\n",
      "58\n",
      "171\n",
      "124\n",
      "122\n",
      "108\n",
      "63\n",
      "101\n",
      "66\n",
      "76\n",
      "49\n",
      "11\n",
      "46\n",
      "210\n",
      "150\n",
      "22\n",
      "212\n",
      "1001\n",
      "31\n",
      "25\n",
      "156\n",
      "122\n",
      "383\n",
      "310\n",
      "259\n",
      "175\n",
      "112\n",
      "100\n",
      "146\n",
      "131\n",
      "138\n",
      "14\n",
      "476\n",
      "34\n",
      "61\n",
      "389\n",
      "235\n",
      "34\n",
      "256\n",
      "380\n",
      "43\n",
      "59\n",
      "105\n",
      "60\n",
      "324\n",
      "60\n",
      "468\n",
      "546\n"
     ]
    }
   ],
   "source": [
    "with concurrent.futures.ThreadPoolExecutor(max_workers=10) as executor:\n",
    "    executor.map(thread_func, nodes)"
   ]
  }
 ],
 "metadata": {
  "kernelspec": {
   "display_name": "Python 3",
   "language": "python",
   "name": "python3"
  },
  "language_info": {
   "codemirror_mode": {
    "name": "ipython",
    "version": 3
   },
   "file_extension": ".py",
   "mimetype": "text/x-python",
   "name": "python",
   "nbconvert_exporter": "python",
   "pygments_lexer": "ipython3",
   "version": "3.7.3"
  }
 },
 "nbformat": 4,
 "nbformat_minor": 2
}
