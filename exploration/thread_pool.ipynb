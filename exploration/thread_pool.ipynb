{
 "cells": [
  {
   "cell_type": "code",
   "execution_count": 1,
   "metadata": {
    "ExecuteTime": {
     "end_time": "2019-08-31T14:39:47.842283Z",
     "start_time": "2019-08-31T14:39:47.189900Z"
    }
   },
   "outputs": [],
   "source": [
    "%load_ext autoreload\n",
    "%autoreload 1\n",
    "\n",
    "import sys\n",
    "sys.path.append(\"../utils/\")\n",
    "\n",
    "import threading\n",
    "import concurrent.futures\n",
    "import time\n",
    "import signal\n",
    "\n",
    "from WikiMultiQuery import wiki_multi_query\n",
    "\n",
    "from GraphAPI import GraphCreator\n",
    "\n",
    "%aimport WikiMultiQuery\n",
    "%aimport GraphAPI"
   ]
  },
  {
   "cell_type": "code",
   "execution_count": 8,
   "metadata": {
    "ExecuteTime": {
     "end_time": "2019-08-31T14:40:15.385055Z",
     "start_time": "2019-08-31T14:40:15.028750Z"
    }
   },
   "outputs": [
    {
     "data": {
      "text/plain": [
       "35"
      ]
     },
     "execution_count": 8,
     "metadata": {},
     "output_type": "execute_result"
    }
   ],
   "source": [
    "gc = GraphCreator(\"Prevention science\")\n",
    "len(gc.graph.nodes)"
   ]
  },
  {
   "cell_type": "code",
   "execution_count": 9,
   "metadata": {
    "ExecuteTime": {
     "end_time": "2019-08-31T14:40:19.652870Z",
     "start_time": "2019-08-31T14:40:16.297050Z"
    }
   },
   "outputs": [],
   "source": [
    "gc.expand_network_threaded(threads=20)"
   ]
  },
  {
   "cell_type": "code",
   "execution_count": 10,
   "metadata": {
    "ExecuteTime": {
     "end_time": "2019-08-31T14:40:19.657326Z",
     "start_time": "2019-08-31T14:40:19.654124Z"
    }
   },
   "outputs": [
    {
     "data": {
      "text/plain": [
       "39078"
      ]
     },
     "execution_count": 10,
     "metadata": {},
     "output_type": "execute_result"
    }
   ],
   "source": [
    "len(gc.graph.nodes)"
   ]
  },
  {
   "cell_type": "code",
   "execution_count": null,
   "metadata": {},
   "outputs": [],
   "source": []
  },
  {
   "cell_type": "code",
   "execution_count": null,
   "metadata": {},
   "outputs": [],
   "source": []
  },
  {
   "cell_type": "code",
   "execution_count": null,
   "metadata": {},
   "outputs": [],
   "source": []
  },
  {
   "cell_type": "code",
   "execution_count": null,
   "metadata": {
    "ExecuteTime": {
     "end_time": "2019-08-31T13:54:03.623482Z",
     "start_time": "2019-08-31T13:54:03.617051Z"
    }
   },
   "outputs": [],
   "source": [
    "def handle_alarm(signum, frame):\n",
    "    raise RuntimeError\n",
    "\n",
    "signal.signal(signal.SIGALRM, handle_alarm)"
   ]
  },
  {
   "cell_type": "code",
   "execution_count": null,
   "metadata": {
    "ExecuteTime": {
     "end_time": "2019-08-31T13:58:41.476066Z",
     "start_time": "2019-08-31T13:58:41.362907Z"
    }
   },
   "outputs": [],
   "source": [
    "nodes = wiki_multi_query([\"Decision tree\"], max_requests=20)[0]['links'][0:50]"
   ]
  },
  {
   "cell_type": "code",
   "execution_count": null,
   "metadata": {
    "ExecuteTime": {
     "end_time": "2019-08-31T13:58:51.656282Z",
     "start_time": "2019-08-31T13:58:51.652448Z"
    }
   },
   "outputs": [],
   "source": [
    "def thread_func(node):\n",
    "    try:\n",
    "        signal.alarm(10)\n",
    "        node_info = wiki_multi_query([node], max_requests=20)\n",
    "        signal.alarm(0)\n",
    "        print(len(node_info[0]['links']))\n",
    "    except:\n",
    "        signal.alarm(0)\n",
    "        print(f\"FAILED: {node}\")"
   ]
  },
  {
   "cell_type": "code",
   "execution_count": null,
   "metadata": {
    "ExecuteTime": {
     "end_time": "2019-08-31T13:58:58.701314Z",
     "start_time": "2019-08-31T13:58:55.474817Z"
    }
   },
   "outputs": [],
   "source": [
    "with concurrent.futures.ThreadPoolExecutor(max_workers=10) as executor:\n",
    "    executor.map(thread_func, nodes)"
   ]
  }
 ],
 "metadata": {
  "kernelspec": {
   "display_name": "Python 3",
   "language": "python",
   "name": "python3"
  },
  "language_info": {
   "codemirror_mode": {
    "name": "ipython",
    "version": 3
   },
   "file_extension": ".py",
   "mimetype": "text/x-python",
   "name": "python",
   "nbconvert_exporter": "python",
   "pygments_lexer": "ipython3",
   "version": "3.7.3"
  }
 },
 "nbformat": 4,
 "nbformat_minor": 2
}
