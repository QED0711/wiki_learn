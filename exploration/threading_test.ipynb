{
 "cells": [
  {
   "cell_type": "code",
   "execution_count": null,
   "metadata": {
    "ExecuteTime": {
     "end_time": "2019-08-31T11:06:56.428373Z",
     "start_time": "2019-08-31T11:06:55.777202Z"
    }
   },
   "outputs": [],
   "source": [
    "%load_ext autoreload\n",
    "%autoreload 1\n",
    "\n",
    "import sys\n",
    "sys.path.append(\"../utils/\")\n",
    "\n",
    "import pdb\n",
    "\n",
    "import threading\n",
    "from queue import Queue\n",
    "import requests\n",
    "import bs4\n",
    "import time\n",
    "import signal\n",
    "\n",
    "from WikiMultiQuery import *\n",
    "from GraphAPI import GraphCreator\n",
    "\n",
    "%aimport WikiMultiQuery\n",
    "%aimport GraphAPI"
   ]
  },
  {
   "cell_type": "code",
   "execution_count": null,
   "metadata": {
    "ExecuteTime": {
     "end_time": "2019-08-31T11:10:19.965346Z",
     "start_time": "2019-08-31T11:10:19.552096Z"
    }
   },
   "outputs": [],
   "source": [
    "gc = GraphCreator(\"Prevention science\")\n",
    "nodes = list(gc.graph.nodes)\n",
    "len(nodes)"
   ]
  },
  {
   "cell_type": "code",
   "execution_count": null,
   "metadata": {
    "ExecuteTime": {
     "end_time": "2019-08-31T11:10:35.681706Z",
     "start_time": "2019-08-31T11:10:25.677356Z"
    }
   },
   "outputs": [],
   "source": [
    "gc.expand_network_th(threads=10)\n",
    "len(gc.graph.nodes)"
   ]
  },
  {
   "cell_type": "code",
   "execution_count": null,
   "metadata": {
    "ExecuteTime": {
     "end_time": "2019-08-31T11:07:55.125756Z",
     "start_time": "2019-08-31T11:07:55.122674Z"
    }
   },
   "outputs": [],
   "source": []
  },
  {
   "cell_type": "code",
   "execution_count": null,
   "metadata": {
    "ExecuteTime": {
     "end_time": "2019-08-31T10:49:00.355321Z",
     "start_time": "2019-08-31T10:48:58.331223Z"
    }
   },
   "outputs": [],
   "source": [
    "def handle_alarm(signum, frame):\n",
    "    raise RuntimeError\n",
    "\n",
    "signal.signal(signal.SIGALRM, handle_alarm)\n",
    "def test(gc):\n",
    "    try:\n",
    "        signal.alarm(2)\n",
    "        gc.expand_network_th()\n",
    "    except:\n",
    "        signal.alarm(0)\n",
    "        return\n",
    "    \n",
    "test(gc)"
   ]
  },
  {
   "cell_type": "code",
   "execution_count": null,
   "metadata": {
    "ExecuteTime": {
     "end_time": "2019-08-31T10:36:27.169332Z",
     "start_time": "2019-08-31T10:36:27.164404Z"
    }
   },
   "outputs": [],
   "source": [
    "def timeout(article_list):\n",
    "    return len(article_list) / 100 * 5 # 5 seconds for every hundred articles\n",
    "\n",
    "timeout(list(range(225)))"
   ]
  },
  {
   "cell_type": "code",
   "execution_count": null,
   "metadata": {
    "ExecuteTime": {
     "end_time": "2019-08-31T09:33:47.927090Z",
     "start_time": "2019-08-31T09:33:47.921724Z"
    }
   },
   "outputs": [],
   "source": [
    "class Query:\n",
    "    \n",
    "    def __init__(self):\n",
    "        self.count = 0\n",
    "        def handle_alarm(signum, frame):\n",
    "            raise RuntimeError\n",
    "\n",
    "        signal.signal(signal.SIGALRM, handle_alarm)\n",
    "        \n",
    "    def query_wrapper(self, article_titles):\n",
    "        article_queue = Queue()\n",
    "\n",
    "        def get_url(article_title):\n",
    "            try:\n",
    "                result = wiki_multi_query([article_title])\n",
    "                self.count += 1\n",
    "                print(self.count)\n",
    "            except:\n",
    "                print(f\"SKIP - {article_title}\")\n",
    "\n",
    "        def process_queue():\n",
    "            while True:\n",
    "                current_article = article_queue.get()\n",
    "                get_url(current_article)\n",
    "                article_queue.task_done()\n",
    "\n",
    "        for i in range(10): # 20 threads\n",
    "            t = threading.Thread(target=process_queue)  \n",
    "            t.daemon = True\n",
    "            t.start()\n",
    "\n",
    "        for title in article_titles:\n",
    "            article_queue.put(title)\n",
    "\n",
    "        article_queue.join()\n",
    "\n"
   ]
  },
  {
   "cell_type": "code",
   "execution_count": null,
   "metadata": {
    "ExecuteTime": {
     "end_time": "2019-08-31T09:34:04.017422Z",
     "start_time": "2019-08-31T09:33:53.009465Z"
    }
   },
   "outputs": [],
   "source": [
    "q = Query()\n",
    "try:\n",
    "    signal.alarm(int(timeout(nodes)))\n",
    "    q.query_wrapper(nodes)\n",
    "    signal.alarm(0)\n",
    "except:\n",
    "    signal.alarm(0)\n",
    "    print(q.count)"
   ]
  },
  {
   "cell_type": "code",
   "execution_count": null,
   "metadata": {},
   "outputs": [],
   "source": []
  }
 ],
 "metadata": {
  "kernelspec": {
   "display_name": "Python 3",
   "language": "python",
   "name": "python3"
  },
  "language_info": {
   "codemirror_mode": {
    "name": "ipython",
    "version": 3
   },
   "file_extension": ".py",
   "mimetype": "text/x-python",
   "name": "python",
   "nbconvert_exporter": "python",
   "pygments_lexer": "ipython3",
   "version": "3.7.3"
  }
 },
 "nbformat": 4,
 "nbformat_minor": 2
}
