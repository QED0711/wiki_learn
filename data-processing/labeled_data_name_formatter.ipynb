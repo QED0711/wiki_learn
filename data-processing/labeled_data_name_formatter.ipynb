{
 "cells": [
  {
   "cell_type": "code",
   "execution_count": 1,
   "metadata": {},
   "outputs": [],
   "source": [
    "import sys\n",
    "sys.path.append(\"../utils\")\n",
    "\n",
    "\n",
    "%load_ext autoreload\n",
    "\n",
    "%autoreload 1\n",
    "\n",
    "import pandas as pd\n",
    "\n",
    "from wiki_url_utils import *"
   ]
  },
  {
   "cell_type": "markdown",
   "metadata": {},
   "source": [
    "## formatting parent title\n",
    "The child title is already in the correct format (taken directly from end of url string). This is put the parent title in the same format."
   ]
  },
  {
   "cell_type": "code",
   "execution_count": 47,
   "metadata": {},
   "outputs": [],
   "source": [
    "filtered_df = pd.read_csv(\"../data/raw/03_expanded_labeled_filtered.zip\")"
   ]
  },
  {
   "cell_type": "code",
   "execution_count": 48,
   "metadata": {},
   "outputs": [],
   "source": [
    "filtered_df.parent_title = filtered_df.parent_url.apply(extract_title_from_url)"
   ]
  },
  {
   "cell_type": "code",
   "execution_count": 49,
   "metadata": {},
   "outputs": [],
   "source": [
    "filtered_df.to_csv(\"../data/raw/04_expanded_labeled_filtered_parsed_titles.csv\", index=False)"
   ]
  },
  {
   "cell_type": "markdown",
   "metadata": {},
   "source": [
    "***\n",
    "## Remove duplicate comparisons. \n",
    "\n",
    "A parent article might have a _See Also_ to a child article, that in turn has a _See Also_ back to the parent. To avoid gathering the same relational information twice, we need to remove duplicate comparisons (in either direction). "
   ]
  },
  {
   "cell_type": "code",
   "execution_count": 23,
   "metadata": {},
   "outputs": [],
   "source": [
    "formatted_titles = pd.read_csv(\"../data/raw/04_expanded_labeled_filtered_parsed_titles.zip\")"
   ]
  },
  {
   "cell_type": "code",
   "execution_count": 33,
   "metadata": {},
   "outputs": [
    {
     "data": {
      "text/html": [
       "<div>\n",
       "<style scoped>\n",
       "    .dataframe tbody tr th:only-of-type {\n",
       "        vertical-align: middle;\n",
       "    }\n",
       "\n",
       "    .dataframe tbody tr th {\n",
       "        vertical-align: top;\n",
       "    }\n",
       "\n",
       "    .dataframe thead th {\n",
       "        text-align: right;\n",
       "    }\n",
       "</style>\n",
       "<table border=\"1\" class=\"dataframe\">\n",
       "  <thead>\n",
       "    <tr style=\"text-align: right;\">\n",
       "      <th></th>\n",
       "      <th>parent_title</th>\n",
       "      <th>parent_url</th>\n",
       "      <th>child_title</th>\n",
       "      <th>child_url</th>\n",
       "    </tr>\n",
       "  </thead>\n",
       "  <tbody>\n",
       "    <tr>\n",
       "      <th>0</th>\n",
       "      <td>Division_by_Zero_(story)</td>\n",
       "      <td>https://en.wikipedia.org/wiki/Division_by_Zero...</td>\n",
       "      <td>Division_by_zero</td>\n",
       "      <td>https://en.wikipedia.org/wiki/Division_by_zero</td>\n",
       "    </tr>\n",
       "    <tr>\n",
       "      <th>1</th>\n",
       "      <td>Division_by_Zero_(story)</td>\n",
       "      <td>https://en.wikipedia.org/wiki/Division_by_Zero...</td>\n",
       "      <td>Infinity</td>\n",
       "      <td>https://en.wikipedia.org/wiki/Infinity</td>\n",
       "    </tr>\n",
       "    <tr>\n",
       "      <th>2</th>\n",
       "      <td>Division_by_Zero_(story)</td>\n",
       "      <td>https://en.wikipedia.org/wiki/Division_by_Zero...</td>\n",
       "      <td>Zero</td>\n",
       "      <td>https://en.wikipedia.org/wiki/Zero</td>\n",
       "    </tr>\n",
       "    <tr>\n",
       "      <th>3</th>\n",
       "      <td>Indeterminate_form</td>\n",
       "      <td>https://en.wikipedia.org/wiki/Indeterminate_form</td>\n",
       "      <td>Defined_and_undefined</td>\n",
       "      <td>https://en.wikipedia.org/wiki/Defined_and_unde...</td>\n",
       "    </tr>\n",
       "    <tr>\n",
       "      <th>4</th>\n",
       "      <td>Indeterminate_form</td>\n",
       "      <td>https://en.wikipedia.org/wiki/Indeterminate_form</td>\n",
       "      <td>Division_by_zero</td>\n",
       "      <td>https://en.wikipedia.org/wiki/Division_by_zero</td>\n",
       "    </tr>\n",
       "    <tr>\n",
       "      <th>5</th>\n",
       "      <td>Indeterminate_form</td>\n",
       "      <td>https://en.wikipedia.org/wiki/Indeterminate_form</td>\n",
       "      <td>Extended_real_number_line</td>\n",
       "      <td>https://en.wikipedia.org/wiki/Extended_real_nu...</td>\n",
       "    </tr>\n",
       "    <tr>\n",
       "      <th>6</th>\n",
       "      <td>Indeterminate_form</td>\n",
       "      <td>https://en.wikipedia.org/wiki/Indeterminate_form</td>\n",
       "      <td>L%27H%C3%B4pital%27s_rule</td>\n",
       "      <td>https://en.wikipedia.org/wiki/L%27H%C3%B4pital...</td>\n",
       "    </tr>\n",
       "    <tr>\n",
       "      <th>7</th>\n",
       "      <td>Zero_divisor</td>\n",
       "      <td>https://en.wikipedia.org/wiki/Zero_divisor</td>\n",
       "      <td>Zero-product_property</td>\n",
       "      <td>https://en.wikipedia.org/wiki/Zero-product_pro...</td>\n",
       "    </tr>\n",
       "    <tr>\n",
       "      <th>8</th>\n",
       "      <td>Zero_divisor</td>\n",
       "      <td>https://en.wikipedia.org/wiki/Zero_divisor</td>\n",
       "      <td>Glossary_of_commutative_algebra</td>\n",
       "      <td>https://en.wikipedia.org/wiki/Glossary_of_comm...</td>\n",
       "    </tr>\n",
       "    <tr>\n",
       "      <th>9</th>\n",
       "      <td>Zero_divisor</td>\n",
       "      <td>https://en.wikipedia.org/wiki/Zero_divisor</td>\n",
       "      <td>Zero-divisor_graph</td>\n",
       "      <td>https://en.wikipedia.org/wiki/Zero-divisor_graph</td>\n",
       "    </tr>\n",
       "  </tbody>\n",
       "</table>\n",
       "</div>"
      ],
      "text/plain": [
       "               parent_title  \\\n",
       "0  Division_by_Zero_(story)   \n",
       "1  Division_by_Zero_(story)   \n",
       "2  Division_by_Zero_(story)   \n",
       "3        Indeterminate_form   \n",
       "4        Indeterminate_form   \n",
       "5        Indeterminate_form   \n",
       "6        Indeterminate_form   \n",
       "7              Zero_divisor   \n",
       "8              Zero_divisor   \n",
       "9              Zero_divisor   \n",
       "\n",
       "                                          parent_url  \\\n",
       "0  https://en.wikipedia.org/wiki/Division_by_Zero...   \n",
       "1  https://en.wikipedia.org/wiki/Division_by_Zero...   \n",
       "2  https://en.wikipedia.org/wiki/Division_by_Zero...   \n",
       "3   https://en.wikipedia.org/wiki/Indeterminate_form   \n",
       "4   https://en.wikipedia.org/wiki/Indeterminate_form   \n",
       "5   https://en.wikipedia.org/wiki/Indeterminate_form   \n",
       "6   https://en.wikipedia.org/wiki/Indeterminate_form   \n",
       "7         https://en.wikipedia.org/wiki/Zero_divisor   \n",
       "8         https://en.wikipedia.org/wiki/Zero_divisor   \n",
       "9         https://en.wikipedia.org/wiki/Zero_divisor   \n",
       "\n",
       "                       child_title  \\\n",
       "0                 Division_by_zero   \n",
       "1                         Infinity   \n",
       "2                             Zero   \n",
       "3            Defined_and_undefined   \n",
       "4                 Division_by_zero   \n",
       "5        Extended_real_number_line   \n",
       "6        L%27H%C3%B4pital%27s_rule   \n",
       "7            Zero-product_property   \n",
       "8  Glossary_of_commutative_algebra   \n",
       "9               Zero-divisor_graph   \n",
       "\n",
       "                                           child_url  \n",
       "0     https://en.wikipedia.org/wiki/Division_by_zero  \n",
       "1             https://en.wikipedia.org/wiki/Infinity  \n",
       "2                 https://en.wikipedia.org/wiki/Zero  \n",
       "3  https://en.wikipedia.org/wiki/Defined_and_unde...  \n",
       "4     https://en.wikipedia.org/wiki/Division_by_zero  \n",
       "5  https://en.wikipedia.org/wiki/Extended_real_nu...  \n",
       "6  https://en.wikipedia.org/wiki/L%27H%C3%B4pital...  \n",
       "7  https://en.wikipedia.org/wiki/Zero-product_pro...  \n",
       "8  https://en.wikipedia.org/wiki/Glossary_of_comm...  \n",
       "9   https://en.wikipedia.org/wiki/Zero-divisor_graph  "
      ]
     },
     "execution_count": 33,
     "metadata": {},
     "output_type": "execute_result"
    }
   ],
   "source": [
    "formatted_titles.head(10)"
   ]
  },
  {
   "cell_type": "code",
   "execution_count": 36,
   "metadata": {},
   "outputs": [],
   "source": [
    "def get_comparison(row):\n",
    "    comparison = [row.parent_title, row.child_title]\n",
    "    return \"|\".join(sorted(comparison))\n",
    "\n",
    "formatted_titles[\"comparison\"] = formatted_titles.apply(get_comparison, axis=1)"
   ]
  },
  {
   "cell_type": "code",
   "execution_count": 42,
   "metadata": {},
   "outputs": [],
   "source": [
    "formatted_titles.drop_duplicates(subset=\"comparison\", keep=\"first\", inplace=True)"
   ]
  },
  {
   "cell_type": "code",
   "execution_count": 43,
   "metadata": {},
   "outputs": [
    {
     "data": {
      "text/plain": [
       "(207488, 5)"
      ]
     },
     "execution_count": 43,
     "metadata": {},
     "output_type": "execute_result"
    }
   ],
   "source": [
    "formatted_titles.shape"
   ]
  },
  {
   "cell_type": "code",
   "execution_count": 46,
   "metadata": {},
   "outputs": [],
   "source": [
    "formatted_titles.to_csv(\"../data/raw/05_expanded_labaled_removed_comparisons.csv\", index=False)"
   ]
  },
  {
   "cell_type": "code",
   "execution_count": null,
   "metadata": {},
   "outputs": [],
   "source": []
  }
 ],
 "metadata": {
  "kernelspec": {
   "display_name": "Python 3",
   "language": "python",
   "name": "python3"
  },
  "language_info": {
   "codemirror_mode": {
    "name": "ipython",
    "version": 3
   },
   "file_extension": ".py",
   "mimetype": "text/x-python",
   "name": "python",
   "nbconvert_exporter": "python",
   "pygments_lexer": "ipython3",
   "version": "3.7.3"
  }
 },
 "nbformat": 4,
 "nbformat_minor": 2
}
