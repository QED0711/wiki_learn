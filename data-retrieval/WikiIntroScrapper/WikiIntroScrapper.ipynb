{
 "cells": [
  {
   "cell_type": "code",
   "execution_count": 1,
   "metadata": {},
   "outputs": [],
   "source": [
    "import sys\n",
    "sys.path.append(\"../../utils/\")\n",
    "\n",
    "import requests\n",
    "from bs4 import BeautifulSoup\n",
    "\n",
    "from url_utils import parse_url, get_title"
   ]
  },
  {
   "cell_type": "code",
   "execution_count": 10,
   "metadata": {},
   "outputs": [],
   "source": [
    "class WikiIntroScrapper:\n",
    "    \n",
    "    def __init__(self, url):\n",
    "        self.url = url\n",
    "        \n",
    "        self.title = None\n",
    "        \n",
    "        self.intro_links = []\n",
    "        self.parsed_links = []\n",
    "        self.intro_link_titles = []\n",
    "    \n",
    "    def _get_article(self):\n",
    "        resp = requests.get(self.url)\n",
    "        soup = BeautifulSoup(resp.content)\n",
    "        self._set_title(soup)\n",
    "        return soup\n",
    "        \n",
    "    def _set_title(self, soup):\n",
    "        self.title = soup.find_all(\"h1\")[0].text\n",
    "\n",
    "    \n",
    "    def _get_intro_links(self):\n",
    "        soup = self._get_article().find_all(class_=\"mw-parser-output\")[0]\n",
    "        \n",
    "        children = list(soup.children)\n",
    "        \n",
    "        started_intro_text = False\n",
    "        \n",
    "        for child in children:\n",
    "            if child.name == \"p\" and child.has_attr(\"class\") == False:\n",
    "                started_intro_text = True\n",
    "                self.intro_links += child.find_all(\"a\")\n",
    "            if child.name != \"p\" and started_intro_text:\n",
    "                break\n",
    "    \n",
    "    def parse_intro_links(self):\n",
    "        self._get_intro_links()\n",
    "        \n",
    "        for link in self.intro_links:\n",
    "            current_href = link.get('href')\n",
    "            if current_href.startswith(\"/wiki/\") and not (\"Help:\" in current_href):\n",
    "                self.parsed_links.append(parse_url(\"https://en.wikipedia.org\" + current_href))\n",
    "                self.intro_link_titles.append(get_title(current_href))\n",
    "\n",
    "        \n",
    "        return self.parsed_links"
   ]
  },
  {
   "cell_type": "code",
   "execution_count": 11,
   "metadata": {
    "scrolled": false
   },
   "outputs": [
    {
     "name": "stdout",
     "output_type": "stream",
     "text": [
      "Title:\t Random forest\n"
     ]
    },
    {
     "data": {
      "text/plain": [
       "['Ensemble learning',\n",
       " 'Statistical classification',\n",
       " 'Regression analysis',\n",
       " 'Decision tree learning',\n",
       " 'Mode (statistics)',\n",
       " 'Overfitting',\n",
       " 'Test set',\n",
       " 'Tin Kam Ho',\n",
       " 'Random subspace method',\n",
       " 'Leo Breiman',\n",
       " 'Trademark',\n",
       " 'Minitab',\n",
       " 'Bootstrap aggregating',\n",
       " 'Donald Geman']"
      ]
     },
     "execution_count": 11,
     "metadata": {},
     "output_type": "execute_result"
    }
   ],
   "source": [
    "ws = WikiIntroScrapper(\"https://en.wikipedia.org/wiki/Random_forest\")\n",
    "\n",
    "ws.parse_intro_links()\n",
    "\n",
    "print(\"Title:\\t\", ws.title)\n",
    "\n",
    "ws.intro_link_titles\n",
    "\n",
    "# for link in ws.parsed_links:\n",
    "#     print(link)"
   ]
  }
 ],
 "metadata": {
  "kernelspec": {
   "display_name": "Python 3",
   "language": "python",
   "name": "python3"
  },
  "language_info": {
   "codemirror_mode": {
    "name": "ipython",
    "version": 3
   },
   "file_extension": ".py",
   "mimetype": "text/x-python",
   "name": "python",
   "nbconvert_exporter": "python",
   "pygments_lexer": "ipython3",
   "version": "3.7.3"
  }
 },
 "nbformat": 4,
 "nbformat_minor": 2
}
