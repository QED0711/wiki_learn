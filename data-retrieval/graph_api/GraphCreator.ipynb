{
 "cells": [
  {
   "cell_type": "code",
   "execution_count": 1,
   "metadata": {
    "ExecuteTime": {
     "end_time": "2019-08-24T16:53:56.323305Z",
     "start_time": "2019-08-24T16:53:55.706406Z"
    }
   },
   "outputs": [],
   "source": [
    "%load_ext autoreload\n",
    "%autoreload 1\n",
    "\n",
    "import sys\n",
    "sys.path.append(\"../../utils/\")\n",
    "\n",
    "import matplotlib.pyplot as plt\n",
    "%matplotlib inline\n",
    "import seaborn as sns\n",
    "import pdb\n",
    "import requests\n",
    "import re\n",
    "\n",
    "import numpy as np\n",
    "import pandas as pd\n",
    "from functools import reduce\n",
    "from collections import Counter\n",
    "\n",
    "import networkx as nx\n",
    "\n",
    "import signal\n",
    "\n",
    "import warnings\n",
    "warnings.filterwarnings(\"ignore\")\n",
    "\n",
    "from wiki_intro_scrapper import WikiIntroScrapper\n",
    "from WikiMultiQuery import wiki_multi_query\n",
    "from graph_helpers import create_dispersion_df, sort_dict_values, format_categories, compare_categories, rank_order\n",
    "\n",
    "%aimport wiki_intro_scrapper\n",
    "%aimport WikiMultiQuery\n",
    "%aimport graph_helpers"
   ]
  },
  {
   "cell_type": "code",
   "execution_count": 55,
   "metadata": {
    "ExecuteTime": {
     "end_time": "2019-08-24T17:10:37.212665Z",
     "start_time": "2019-08-24T17:10:37.102831Z"
    }
   },
   "outputs": [],
   "source": [
    "class GraphCreator:\n",
    "\n",
    "    def __init__(self, entry):\n",
    "        self.graph = nx.DiGraph()\n",
    "\n",
    "        self.entry = entry\n",
    "\n",
    "        wis = WikiIntroScrapper(f\"https://en.wikipedia.org/wiki/{entry}\")\n",
    "        wis.parse_intro_links()\n",
    "\n",
    "        self.intro_nodes = wis.intro_link_titles\n",
    "\n",
    "        self.visited = {entry}\n",
    "        self.next_links = []\n",
    "        \n",
    "        self.categories = {}\n",
    "        \n",
    "        self.redirect_targets = []\n",
    "        self.redirect_sources = {}\n",
    "        \n",
    "        self.query_articles([entry])\n",
    "\n",
    "        # setup timeout function\n",
    "\n",
    "        def handle_alarm(signum, frame):\n",
    "            raise RuntimeError\n",
    "\n",
    "        signal.signal(signal.SIGALRM, handle_alarm)\n",
    "\n",
    "    def add_edges(self, articles):\n",
    "        for article in articles:\n",
    "            \n",
    "            self.categories[article['title']] = format_categories([category.split(\"Category:\")[1] for category in article['categories'] if not bool(re.findall(r\"(articles)|(uses)|(commons)|(category\\:use)\", category, re.I))])\n",
    "            \n",
    "            self.graph.add_edges_from(\n",
    "                [(article['title'], link) for link in article['links']])\n",
    "            self.graph.add_edges_from(\n",
    "                [(linkhere, article['title']) for linkhere in article['linkshere']])\n",
    "\n",
    "    def update_edge_weights(self):\n",
    "        for edge in self.graph.out_edges:\n",
    "            weight = compare_categories(edge[0], edge[1], self.categories)\n",
    "            self.graph.add_edge(edge[0], edge[1], weight=weight)\n",
    "            \n",
    "        for edge in self.graph.in_edges:\n",
    "            weight = compare_categories(edge[0], edge[1], self.categories)\n",
    "            self.graph.add_edge(edge[0], edge[1], weight=weight)\n",
    "    \n",
    "    def get_edge_weights(self):\n",
    "        edge_weights = []\n",
    "        for edge in self.graph.edges:\n",
    "            edge_weights.append((edge[0], edge[1], self.graph.get_edge_data(edge[0], edge[1])['weight']))\n",
    "        \n",
    "#         for edge in self.graph.in_edges:\n",
    "#             edge_weights.append((edge[0], edge[1], self.graph.get_edge_data(edge[0], edge[1])['weight']))\n",
    "        \n",
    "        return pd.DataFrame(edge_weights, columns=[\"source_node\", \"target_node\", \"edge_weight\"]).sort_values(\"edge_weight\", ascending=False).reset_index().drop(\"index\", axis=1)\n",
    "    \n",
    "    def plot_graph(self):\n",
    "        nx.draw(self.graph)\n",
    "        plt.show()\n",
    "\n",
    "    def get_shared_categories_with_source(self):\n",
    "        cat_matches = {}\n",
    "        for node in self.graph.nodes:\n",
    "            cat_matches[node] = compare_categories(self.entry, node, self.categories, starting_count=0)\n",
    "        return sort_dict_values(cat_matches, ['node', 'category_matches_with_source'], 'category_matches_with_source', ascending=False)\n",
    "            \n",
    "            \n",
    "    def get_degrees(self):\n",
    "        return sort_dict_values(dict(self.graph.degree()), [\"node\", \"degree\"], \"degree\",)\n",
    "\n",
    "    def get_edges(self):\n",
    "        in_edges = sort_dict_values(dict(Counter([edge[1] for edge in self.graph.in_edges()])), \n",
    "                            ['node', 'in_edges'], \"in_edges\")\n",
    "        out_edges = sort_dict_values(dict(Counter([edge[0] for edge in self.graph.out_edges()])), \n",
    "                            [\"node\", 'out_edges'], 'out_edges')\n",
    "\n",
    "        return in_edges.merge(out_edges, on=\"node\")\n",
    "    \n",
    "    def get_centrality(self):\n",
    "        return sort_dict_values(nx.eigenvector_centrality(self.graph, weight=\"weight\"), [\"node\", \"centrality\"], \"centrality\")\n",
    "\n",
    "    def get_dispersion(self, comparison_node=None, max_nodes=25_000):\n",
    "        if not comparison_node:\n",
    "            comparison_node = self.entry\n",
    "            \n",
    "        if max_nodes is None or len(self.graph.nodes) <= max_nodes:\n",
    "            print(\"FULL\")\n",
    "            return sort_dict_values(nx.dispersion(self.graph, u=comparison_node), ['node', 'dispersion'], 'dispersion')\n",
    "        else:\n",
    "            print(\"EGO\")\n",
    "            # if the network is too large, perform calculation on ego graph of entry node\n",
    "            ego = self.create_ego()\n",
    "            return sort_dict_values(nx.dispersion(ego, u=comparison_node), ['node', 'dispersion'], 'dispersion')\n",
    "\n",
    "    def get_pageranks(self):\n",
    "        page_ranks = sorted([(key, value) for key, value in nx.algorithms.link_analysis.pagerank(\n",
    "            self.graph, weight='weight').items()], key=lambda x: x[1], reverse=True)\n",
    "        return pd.DataFrame(page_ranks, columns=[\"node\", \"page_rank\"])\n",
    "\n",
    "    def get_reciprocity(self):\n",
    "        return sort_dict_values(nx.algorithms.reciprocity(self.graph, self.graph.nodes), ['node', 'reciprocity'], 'reciprocity')\n",
    "\n",
    "    def get_adjusted_reciprocity(self):\n",
    "        r = self.get_reciprocity()\n",
    "        d = self.get_degrees()\n",
    "\n",
    "        r_d = r.merge(d, on=\"node\", how=\"inner\")\n",
    "        r_d['adjusted_reciprocity'] = r_d.reciprocity * r_d.degree\n",
    "\n",
    "        adjusted_reci = r_d.sort_values(\"adjusted_reciprocity\", ascending=False)\n",
    "        return adjusted_reci.reset_index().drop([\"degree\", \"reciprocity\", \"index\"], axis=1)\n",
    "    \n",
    "    def get_shortes_path(self, source=None, ascending=False):\n",
    "        if not source:\n",
    "            source = self.entry\n",
    "            \n",
    "        paths = nx.algorithms.single_source_shortest_path_length(self.graph, source)\n",
    "        return sort_dict_values(paths, [\"node\", \"shortest_path_length_from_source\"], \"shortest_path_length_from_source\", ascending=ascending)\n",
    "    \n",
    "    def get_dominator_counts(self, source=None):\n",
    "        if not source:\n",
    "            source = self.entry\n",
    "            \n",
    "        dom_dict = nx.algorithms.dominance.immediate_dominators(self.graph, start=source)\n",
    "        \n",
    "        dom_counts = {}\n",
    "\n",
    "        for key, value in dom_dict.items():\n",
    "            if value in dom_counts:\n",
    "                dom_counts[value] += 1\n",
    "            else:\n",
    "                dom_counts[value] = 1\n",
    "        for node in self.graph.nodes:\n",
    "            if not node in dom_counts:\n",
    "                dom_counts[node] = 0\n",
    "        \n",
    "        return sort_dict_values(dom_counts, ['node', 'immediate_dominator_count'], 'immediate_dominator_count')\n",
    "    \n",
    "    def get_hits(self):\n",
    "        hits = nx.algorithms.link_analysis.hits_alg.hits(self.graph, max_iter=1000)\n",
    "        return (sort_dict_values(hits[1], ['node', 'hits_authority'], 'hits_authority')\n",
    "                .merge(sort_dict_values(hits[0], ['node', 'hits_hub'], 'hits_hub'), on=\"node\"))\n",
    "    \n",
    "    def get_features_df(self):\n",
    "        dfs = []\n",
    "        \n",
    "        dfs.append(rank_order(self.get_degrees(), 'degree', ascending=False))\n",
    "        dfs.append(rank_order(self.get_shared_categories_with_source(), 'category_matches_with_source', ascending=False))\n",
    "        dfs.append(self.get_edges())\n",
    "        dfs.append(rank_order(self.get_centrality(), 'centrality', ascending=True))\n",
    "        dfs.append(rank_order(self.get_dispersion(), \"dispersion\", ascending=True))\n",
    "        dfs.append(rank_order(self.get_pageranks(), \"page_rank\", ascending=False))\n",
    "        dfs.append(rank_order(self.get_adjusted_reciprocity(), \"adjusted_reciprocity\", ascending=False))\n",
    "        dfs.append(rank_order(self.get_shortes_path(), \"shortest_path_length_from_source\", ascending=True))\n",
    "        \n",
    "        return reduce(lambda left, right: pd.merge(left, right, on=\"node\", how=\"outer\"), dfs)\n",
    "        \n",
    "    \n",
    "    def create_ego(self, node=None):\n",
    "        if not node:\n",
    "            node = self.entry\n",
    "\n",
    "        ego = nx.ego_graph(self.graph, node)\n",
    "        ego.name = node\n",
    "        return ego\n",
    "\n",
    "    def expand_network(self, group_size=10, timeout=10):\n",
    "\n",
    "        num_links = len(self.next_links)\n",
    "\n",
    "        link_group = []\n",
    "\n",
    "        for i in range(num_links):\n",
    "            link = self.next_links.pop(0)\n",
    "            if not link in self.visited:\n",
    "\n",
    "                link_group.append(link)\n",
    "\n",
    "                if len(link_group) == group_size or (i == num_links - 1 and len(link_group) > 0):\n",
    "                    print(\"{:.2%}\".format(i/num_links))\n",
    "                    try:\n",
    "                        signal.alarm(timeout)\n",
    "                        self.visited.update(link_group)\n",
    "                        self.query_articles(link_group)\n",
    "                        signal.alarm(0)\n",
    "                        link_group = []\n",
    "                    except:\n",
    "                        link_group = []\n",
    "                        continue\n",
    "        signal.alarm(0)\n",
    "\n",
    "    def update_redirects(self, articles):\n",
    "        for article in articles:\n",
    "            if article.get(\"redirects\"):\n",
    "                self.redirect_targets.append(article[\"title\"])\n",
    "                for redirect in article[\"redirects\"]:\n",
    "                    self.redirect_sources[redirect] = len(self.redirect_targets) - 1\n",
    "    \n",
    "    def redraw_redirects(self):\n",
    "        edges = list(self.graph.edges) # need this copy so 'edges' doesn't change size on iteration\n",
    "        for edge in edges:\n",
    "            if edge[0] in self.redirect_sources:\n",
    "                self.graph.add_edge(self.redirect_targets[self.redirect_sources[edge[0]]], edge[1])\n",
    "                \n",
    "            if edge[1] in self.redirect_sources:\n",
    "                self.graph.add_edge(edge[0], self.redirect_targets[self.redirect_sources[edge[1]]])\n",
    "        \n",
    "        self.remove_redirect_nodes()\n",
    "    \n",
    "    def remove_redirect_nodes(self):\n",
    "        nodes = list(self.graph.nodes) # need this copy so 'nodes' doesn't change size on iteration\n",
    "        for node in nodes:\n",
    "            if node in self.redirect_sources:\n",
    "                self.graph.remove_node(node)\n",
    "    \n",
    "    def update_next_links(self, articles):\n",
    "        for article in articles:\n",
    "            for link in article['links']:\n",
    "                self.next_links.append(link)\n",
    "\n",
    "    def query_articles(self, titles, generate_graph=True):\n",
    "        articles = wiki_multi_query(titles)\n",
    "        \n",
    "        self.update_redirects(articles)\n",
    "        \n",
    "        self.update_next_links(articles)\n",
    "        self.add_edges(articles)"
   ]
  },
  {
   "cell_type": "markdown",
   "metadata": {},
   "source": [
    "## Generating Graph from Entry Point"
   ]
  },
  {
   "cell_type": "code",
   "execution_count": 56,
   "metadata": {
    "ExecuteTime": {
     "end_time": "2019-08-24T17:10:38.428052Z",
     "start_time": "2019-08-24T17:10:37.952573Z"
    }
   },
   "outputs": [],
   "source": [
    "gc = GraphCreator(\"Decision tree\")"
   ]
  },
  {
   "cell_type": "code",
   "execution_count": 57,
   "metadata": {
    "ExecuteTime": {
     "end_time": "2019-08-24T17:10:38.431183Z",
     "start_time": "2019-08-24T17:10:38.429390Z"
    }
   },
   "outputs": [],
   "source": [
    "# gc.get_shared_categories_with_source()"
   ]
  },
  {
   "cell_type": "code",
   "execution_count": 58,
   "metadata": {
    "ExecuteTime": {
     "end_time": "2019-08-24T17:10:38.435420Z",
     "start_time": "2019-08-24T17:10:38.432613Z"
    }
   },
   "outputs": [
    {
     "data": {
      "text/plain": [
       "88"
      ]
     },
     "execution_count": 58,
     "metadata": {},
     "output_type": "execute_result"
    }
   ],
   "source": [
    "len(gc.next_links)"
   ]
  },
  {
   "cell_type": "code",
   "execution_count": 59,
   "metadata": {
    "ExecuteTime": {
     "end_time": "2019-08-24T17:11:18.631622Z",
     "start_time": "2019-08-24T17:10:38.463640Z"
    },
    "scrolled": true
   },
   "outputs": [
    {
     "name": "stdout",
     "output_type": "stream",
     "text": [
      "1.14%\n",
      "3.41%\n",
      "5.68%\n",
      "7.95%\n",
      "10.23%\n",
      "12.50%\n",
      "14.77%\n",
      "17.05%\n",
      "19.32%\n",
      "21.59%\n",
      "23.86%\n",
      "26.14%\n",
      "28.41%\n",
      "30.68%\n",
      "32.95%\n",
      "35.23%\n",
      "37.50%\n",
      "39.77%\n",
      "42.05%\n",
      "44.32%\n",
      "46.59%\n",
      "48.86%\n",
      "51.14%\n",
      "53.41%\n",
      "55.68%\n",
      "57.95%\n",
      "60.23%\n",
      "62.50%\n",
      "64.77%\n",
      "67.05%\n",
      "69.32%\n",
      "71.59%\n",
      "73.86%\n",
      "76.14%\n",
      "78.41%\n",
      "80.68%\n",
      "82.95%\n",
      "85.23%\n",
      "87.50%\n",
      "89.77%\n",
      "92.05%\n",
      "94.32%\n",
      "96.59%\n",
      "98.86%\n"
     ]
    }
   ],
   "source": [
    "gc.expand_network(group_size=2, timeout=5)"
   ]
  },
  {
   "cell_type": "code",
   "execution_count": 60,
   "metadata": {
    "ExecuteTime": {
     "end_time": "2019-08-24T17:11:18.656163Z",
     "start_time": "2019-08-24T17:11:18.634217Z"
    }
   },
   "outputs": [],
   "source": [
    "gc.redraw_redirects()"
   ]
  },
  {
   "cell_type": "code",
   "execution_count": 61,
   "metadata": {
    "ExecuteTime": {
     "end_time": "2019-08-24T17:11:18.771541Z",
     "start_time": "2019-08-24T17:11:18.657612Z"
    }
   },
   "outputs": [],
   "source": [
    "gc.update_edge_weights()"
   ]
  },
  {
   "cell_type": "markdown",
   "metadata": {},
   "source": [
    "# Feature Set"
   ]
  },
  {
   "cell_type": "code",
   "execution_count": 62,
   "metadata": {
    "ExecuteTime": {
     "end_time": "2019-08-24T17:11:18.806150Z",
     "start_time": "2019-08-24T17:11:18.772881Z"
    },
    "scrolled": true
   },
   "outputs": [
    {
     "data": {
      "text/html": [
       "<div>\n",
       "<style scoped>\n",
       "    .dataframe tbody tr th:only-of-type {\n",
       "        vertical-align: middle;\n",
       "    }\n",
       "\n",
       "    .dataframe tbody tr th {\n",
       "        vertical-align: top;\n",
       "    }\n",
       "\n",
       "    .dataframe thead th {\n",
       "        text-align: right;\n",
       "    }\n",
       "</style>\n",
       "<table border=\"1\" class=\"dataframe\">\n",
       "  <thead>\n",
       "    <tr style=\"text-align: right;\">\n",
       "      <th></th>\n",
       "      <th>node</th>\n",
       "      <th>category_matches_with_source</th>\n",
       "    </tr>\n",
       "  </thead>\n",
       "  <tbody>\n",
       "    <tr>\n",
       "      <th>0</th>\n",
       "      <td>Decision tree</td>\n",
       "      <td>1</td>\n",
       "    </tr>\n",
       "    <tr>\n",
       "      <th>1</th>\n",
       "      <td>Random forest</td>\n",
       "      <td>1</td>\n",
       "    </tr>\n",
       "    <tr>\n",
       "      <th>2</th>\n",
       "      <td>Behavior tree (artificial intelligence, roboti...</td>\n",
       "      <td>1</td>\n",
       "    </tr>\n",
       "    <tr>\n",
       "      <th>3</th>\n",
       "      <td>Decision tree model</td>\n",
       "      <td>1</td>\n",
       "    </tr>\n",
       "    <tr>\n",
       "      <th>4</th>\n",
       "      <td>Information gain in decision trees</td>\n",
       "      <td>1</td>\n",
       "    </tr>\n",
       "    <tr>\n",
       "      <th>5</th>\n",
       "      <td>Decision tree learning</td>\n",
       "      <td>1</td>\n",
       "    </tr>\n",
       "    <tr>\n",
       "      <th>6</th>\n",
       "      <td>Decision table</td>\n",
       "      <td>1</td>\n",
       "    </tr>\n",
       "    <tr>\n",
       "      <th>7</th>\n",
       "      <td>Influence diagram</td>\n",
       "      <td>1</td>\n",
       "    </tr>\n",
       "    <tr>\n",
       "      <th>8</th>\n",
       "      <td>ID3 algorithm</td>\n",
       "      <td>1</td>\n",
       "    </tr>\n",
       "    <tr>\n",
       "      <th>9</th>\n",
       "      <td>Decision analysis</td>\n",
       "      <td>1</td>\n",
       "    </tr>\n",
       "    <tr>\n",
       "      <th>10</th>\n",
       "      <td>WE School</td>\n",
       "      <td>0</td>\n",
       "    </tr>\n",
       "    <tr>\n",
       "      <th>11</th>\n",
       "      <td>PRTM</td>\n",
       "      <td>0</td>\n",
       "    </tr>\n",
       "    <tr>\n",
       "      <th>12</th>\n",
       "      <td>Institute for Financial Management and Research</td>\n",
       "      <td>0</td>\n",
       "    </tr>\n",
       "    <tr>\n",
       "      <th>13</th>\n",
       "      <td>Anderson School of Management (University of N...</td>\n",
       "      <td>0</td>\n",
       "    </tr>\n",
       "    <tr>\n",
       "      <th>14</th>\n",
       "      <td>Bridge management system</td>\n",
       "      <td>0</td>\n",
       "    </tr>\n",
       "    <tr>\n",
       "      <th>15</th>\n",
       "      <td>Carroll School of Management</td>\n",
       "      <td>0</td>\n",
       "    </tr>\n",
       "    <tr>\n",
       "      <th>16</th>\n",
       "      <td>Megastructures</td>\n",
       "      <td>0</td>\n",
       "    </tr>\n",
       "    <tr>\n",
       "      <th>17</th>\n",
       "      <td>Bennett S. LeBow College of Business</td>\n",
       "      <td>0</td>\n",
       "    </tr>\n",
       "    <tr>\n",
       "      <th>18</th>\n",
       "      <td>Economic lot scheduling problem</td>\n",
       "      <td>0</td>\n",
       "    </tr>\n",
       "    <tr>\n",
       "      <th>19</th>\n",
       "      <td>Eller College of Management</td>\n",
       "      <td>0</td>\n",
       "    </tr>\n",
       "    <tr>\n",
       "      <th>20</th>\n",
       "      <td>William Gehrlein</td>\n",
       "      <td>0</td>\n",
       "    </tr>\n",
       "    <tr>\n",
       "      <th>21</th>\n",
       "      <td>Indian Institute of Management Kozhikode</td>\n",
       "      <td>0</td>\n",
       "    </tr>\n",
       "    <tr>\n",
       "      <th>22</th>\n",
       "      <td>Yale School of Management</td>\n",
       "      <td>0</td>\n",
       "    </tr>\n",
       "    <tr>\n",
       "      <th>23</th>\n",
       "      <td>List of legal entity types by country</td>\n",
       "      <td>0</td>\n",
       "    </tr>\n",
       "    <tr>\n",
       "      <th>24</th>\n",
       "      <td>Managed services</td>\n",
       "      <td>0</td>\n",
       "    </tr>\n",
       "    <tr>\n",
       "      <th>25</th>\n",
       "      <td>Gokongwei College of Engineering</td>\n",
       "      <td>0</td>\n",
       "    </tr>\n",
       "    <tr>\n",
       "      <th>26</th>\n",
       "      <td>Operations, administration and management</td>\n",
       "      <td>0</td>\n",
       "    </tr>\n",
       "    <tr>\n",
       "      <th>27</th>\n",
       "      <td>IATA delay codes</td>\n",
       "      <td>0</td>\n",
       "    </tr>\n",
       "    <tr>\n",
       "      <th>28</th>\n",
       "      <td>Overstock</td>\n",
       "      <td>0</td>\n",
       "    </tr>\n",
       "    <tr>\n",
       "      <th>29</th>\n",
       "      <td>International SOS</td>\n",
       "      <td>0</td>\n",
       "    </tr>\n",
       "    <tr>\n",
       "      <th>...</th>\n",
       "      <td>...</td>\n",
       "      <td>...</td>\n",
       "    </tr>\n",
       "    <tr>\n",
       "      <th>19679</th>\n",
       "      <td>Mary Eleanor Spear</td>\n",
       "      <td>0</td>\n",
       "    </tr>\n",
       "    <tr>\n",
       "      <th>19680</th>\n",
       "      <td>Climate spiral</td>\n",
       "      <td>0</td>\n",
       "    </tr>\n",
       "    <tr>\n",
       "      <th>19681</th>\n",
       "      <td>Alex Gil (scholar)</td>\n",
       "      <td>0</td>\n",
       "    </tr>\n",
       "    <tr>\n",
       "      <th>19682</th>\n",
       "      <td>Climate change art</td>\n",
       "      <td>0</td>\n",
       "    </tr>\n",
       "    <tr>\n",
       "      <th>19683</th>\n",
       "      <td>Data sonification</td>\n",
       "      <td>0</td>\n",
       "    </tr>\n",
       "    <tr>\n",
       "      <th>19684</th>\n",
       "      <td>James R. Akerman</td>\n",
       "      <td>0</td>\n",
       "    </tr>\n",
       "    <tr>\n",
       "      <th>19685</th>\n",
       "      <td>The Tempestry Project</td>\n",
       "      <td>0</td>\n",
       "    </tr>\n",
       "    <tr>\n",
       "      <th>19686</th>\n",
       "      <td>Amanda Cox</td>\n",
       "      <td>0</td>\n",
       "    </tr>\n",
       "    <tr>\n",
       "      <th>19687</th>\n",
       "      <td>Kyvos</td>\n",
       "      <td>0</td>\n",
       "    </tr>\n",
       "    <tr>\n",
       "      <th>19688</th>\n",
       "      <td>Jenny Sabin</td>\n",
       "      <td>0</td>\n",
       "    </tr>\n",
       "    <tr>\n",
       "      <th>19689</th>\n",
       "      <td>Decision conferencing</td>\n",
       "      <td>0</td>\n",
       "    </tr>\n",
       "    <tr>\n",
       "      <th>19690</th>\n",
       "      <td>Decision making software</td>\n",
       "      <td>0</td>\n",
       "    </tr>\n",
       "    <tr>\n",
       "      <th>19691</th>\n",
       "      <td>Research</td>\n",
       "      <td>0</td>\n",
       "    </tr>\n",
       "    <tr>\n",
       "      <th>19692</th>\n",
       "      <td>Discipline</td>\n",
       "      <td>0</td>\n",
       "    </tr>\n",
       "    <tr>\n",
       "      <th>19693</th>\n",
       "      <td>Professional</td>\n",
       "      <td>0</td>\n",
       "    </tr>\n",
       "    <tr>\n",
       "      <th>19694</th>\n",
       "      <td>Procedure (term)</td>\n",
       "      <td>0</td>\n",
       "    </tr>\n",
       "    <tr>\n",
       "      <th>19695</th>\n",
       "      <td>Planning</td>\n",
       "      <td>0</td>\n",
       "    </tr>\n",
       "    <tr>\n",
       "      <th>19696</th>\n",
       "      <td>Optimal decision</td>\n",
       "      <td>0</td>\n",
       "    </tr>\n",
       "    <tr>\n",
       "      <th>19697</th>\n",
       "      <td>Negotiation</td>\n",
       "      <td>0</td>\n",
       "    </tr>\n",
       "    <tr>\n",
       "      <th>19698</th>\n",
       "      <td>Multiple-criteria decision analysis</td>\n",
       "      <td>0</td>\n",
       "    </tr>\n",
       "    <tr>\n",
       "      <th>19699</th>\n",
       "      <td>Micromort</td>\n",
       "      <td>0</td>\n",
       "    </tr>\n",
       "    <tr>\n",
       "      <th>19700</th>\n",
       "      <td>Marketing</td>\n",
       "      <td>0</td>\n",
       "    </tr>\n",
       "    <tr>\n",
       "      <th>19701</th>\n",
       "      <td>Management</td>\n",
       "      <td>0</td>\n",
       "    </tr>\n",
       "    <tr>\n",
       "      <th>19702</th>\n",
       "      <td>Litigation</td>\n",
       "      <td>0</td>\n",
       "    </tr>\n",
       "    <tr>\n",
       "      <th>19703</th>\n",
       "      <td>Health care</td>\n",
       "      <td>0</td>\n",
       "    </tr>\n",
       "    <tr>\n",
       "      <th>19704</th>\n",
       "      <td>Exploration</td>\n",
       "      <td>0</td>\n",
       "    </tr>\n",
       "    <tr>\n",
       "      <th>19705</th>\n",
       "      <td>Environmental remediation</td>\n",
       "      <td>0</td>\n",
       "    </tr>\n",
       "    <tr>\n",
       "      <th>19706</th>\n",
       "      <td>Energy</td>\n",
       "      <td>0</td>\n",
       "    </tr>\n",
       "    <tr>\n",
       "      <th>19707</th>\n",
       "      <td>Dispute resolution</td>\n",
       "      <td>0</td>\n",
       "    </tr>\n",
       "    <tr>\n",
       "      <th>19708</th>\n",
       "      <td>Linton Wells II</td>\n",
       "      <td>0</td>\n",
       "    </tr>\n",
       "  </tbody>\n",
       "</table>\n",
       "<p>19709 rows × 2 columns</p>\n",
       "</div>"
      ],
      "text/plain": [
       "                                                    node  \\\n",
       "0                                          Decision tree   \n",
       "1                                          Random forest   \n",
       "2      Behavior tree (artificial intelligence, roboti...   \n",
       "3                                    Decision tree model   \n",
       "4                     Information gain in decision trees   \n",
       "...                                                  ...   \n",
       "19704                                        Exploration   \n",
       "19705                          Environmental remediation   \n",
       "19706                                             Energy   \n",
       "19707                                 Dispute resolution   \n",
       "19708                                    Linton Wells II   \n",
       "\n",
       "       category_matches_with_source  \n",
       "0                                 1  \n",
       "1                                 1  \n",
       "2                                 1  \n",
       "3                                 1  \n",
       "4                                 1  \n",
       "...                             ...  \n",
       "19704                             0  \n",
       "19705                             0  \n",
       "19706                             0  \n",
       "19707                             0  \n",
       "19708                             0  \n",
       "\n",
       "[19709 rows x 2 columns]"
      ]
     },
     "execution_count": 62,
     "metadata": {},
     "output_type": "execute_result"
    }
   ],
   "source": [
    "gc.get_shared_categories_with_source()"
   ]
  },
  {
   "cell_type": "code",
   "execution_count": 63,
   "metadata": {
    "ExecuteTime": {
     "end_time": "2019-08-24T17:11:23.617624Z",
     "start_time": "2019-08-24T17:11:18.807603Z"
    }
   },
   "outputs": [
    {
     "name": "stdout",
     "output_type": "stream",
     "text": [
      "FULL\n"
     ]
    }
   ],
   "source": [
    "features_df = gc.get_features_df()"
   ]
  },
  {
   "cell_type": "code",
   "execution_count": 68,
   "metadata": {
    "ExecuteTime": {
     "end_time": "2019-08-24T17:14:50.622772Z",
     "start_time": "2019-08-24T17:14:49.321693Z"
    }
   },
   "outputs": [
    {
     "data": {
      "text/html": [
       "<div>\n",
       "<style scoped>\n",
       "    .dataframe tbody tr th:only-of-type {\n",
       "        vertical-align: middle;\n",
       "    }\n",
       "\n",
       "    .dataframe tbody tr th {\n",
       "        vertical-align: top;\n",
       "    }\n",
       "\n",
       "    .dataframe thead th {\n",
       "        text-align: right;\n",
       "    }\n",
       "</style>\n",
       "<table border=\"1\" class=\"dataframe\">\n",
       "  <thead>\n",
       "    <tr style=\"text-align: right;\">\n",
       "      <th></th>\n",
       "      <th>node</th>\n",
       "      <th>rank_average</th>\n",
       "    </tr>\n",
       "  </thead>\n",
       "  <tbody>\n",
       "    <tr>\n",
       "      <th>81</th>\n",
       "      <td>Decision tree model</td>\n",
       "      <td>220.4</td>\n",
       "    </tr>\n",
       "    <tr>\n",
       "      <th>76</th>\n",
       "      <td>Decision table</td>\n",
       "      <td>232.8</td>\n",
       "    </tr>\n",
       "    <tr>\n",
       "      <th>65</th>\n",
       "      <td>ID3 algorithm</td>\n",
       "      <td>245.6</td>\n",
       "    </tr>\n",
       "    <tr>\n",
       "      <th>28</th>\n",
       "      <td>Diminishing returns</td>\n",
       "      <td>272.8</td>\n",
       "    </tr>\n",
       "    <tr>\n",
       "      <th>67</th>\n",
       "      <td>Topological combinatorics</td>\n",
       "      <td>273.6</td>\n",
       "    </tr>\n",
       "    <tr>\n",
       "      <th>75</th>\n",
       "      <td>Information gain in decision trees</td>\n",
       "      <td>282.0</td>\n",
       "    </tr>\n",
       "    <tr>\n",
       "      <th>66</th>\n",
       "      <td>Decision cycle</td>\n",
       "      <td>284.8</td>\n",
       "    </tr>\n",
       "    <tr>\n",
       "      <th>56</th>\n",
       "      <td>Linearization</td>\n",
       "      <td>292.8</td>\n",
       "    </tr>\n",
       "    <tr>\n",
       "      <th>93</th>\n",
       "      <td>Behavior tree (artificial intelligence, roboti...</td>\n",
       "      <td>306.0</td>\n",
       "    </tr>\n",
       "    <tr>\n",
       "      <th>34</th>\n",
       "      <td>Random forest</td>\n",
       "      <td>306.4</td>\n",
       "    </tr>\n",
       "    <tr>\n",
       "      <th>91</th>\n",
       "      <td>Odds algorithm</td>\n",
       "      <td>308.0</td>\n",
       "    </tr>\n",
       "    <tr>\n",
       "      <th>74</th>\n",
       "      <td>Influence diagram</td>\n",
       "      <td>313.6</td>\n",
       "    </tr>\n",
       "    <tr>\n",
       "      <th>79</th>\n",
       "      <td>White box (software engineering)</td>\n",
       "      <td>314.4</td>\n",
       "    </tr>\n",
       "    <tr>\n",
       "      <th>32</th>\n",
       "      <td>Decision tree learning</td>\n",
       "      <td>316.8</td>\n",
       "    </tr>\n",
       "    <tr>\n",
       "      <th>53</th>\n",
       "      <td>Decision analysis</td>\n",
       "      <td>330.4</td>\n",
       "    </tr>\n",
       "    <tr>\n",
       "      <th>58</th>\n",
       "      <td>Preference</td>\n",
       "      <td>344.8</td>\n",
       "    </tr>\n",
       "    <tr>\n",
       "      <th>39</th>\n",
       "      <td>Conditional probability</td>\n",
       "      <td>449.6</td>\n",
       "    </tr>\n",
       "    <tr>\n",
       "      <th>27</th>\n",
       "      <td>Goal</td>\n",
       "      <td>475.2</td>\n",
       "    </tr>\n",
       "    <tr>\n",
       "      <th>12</th>\n",
       "      <td>Markov chain</td>\n",
       "      <td>488.8</td>\n",
       "    </tr>\n",
       "    <tr>\n",
       "      <th>10</th>\n",
       "      <td>Operations management</td>\n",
       "      <td>496.8</td>\n",
       "    </tr>\n",
       "    <tr>\n",
       "      <th>9</th>\n",
       "      <td>Expected value</td>\n",
       "      <td>508.8</td>\n",
       "    </tr>\n",
       "    <tr>\n",
       "      <th>35</th>\n",
       "      <td>Boosting (machine learning)</td>\n",
       "      <td>520.8</td>\n",
       "    </tr>\n",
       "    <tr>\n",
       "      <th>26</th>\n",
       "      <td>Truth table</td>\n",
       "      <td>526.4</td>\n",
       "    </tr>\n",
       "    <tr>\n",
       "      <th>41</th>\n",
       "      <td>Management science</td>\n",
       "      <td>612.8</td>\n",
       "    </tr>\n",
       "    <tr>\n",
       "      <th>108</th>\n",
       "      <td>Decision list</td>\n",
       "      <td>617.6</td>\n",
       "    </tr>\n",
       "    <tr>\n",
       "      <th>8</th>\n",
       "      <td>Utility</td>\n",
       "      <td>621.6</td>\n",
       "    </tr>\n",
       "    <tr>\n",
       "      <th>37</th>\n",
       "      <td>Association rule learning</td>\n",
       "      <td>627.2</td>\n",
       "    </tr>\n",
       "    <tr>\n",
       "      <th>24</th>\n",
       "      <td>Expected utility hypothesis</td>\n",
       "      <td>632.0</td>\n",
       "    </tr>\n",
       "    <tr>\n",
       "      <th>30</th>\n",
       "      <td>Tree (graph theory)</td>\n",
       "      <td>657.6</td>\n",
       "    </tr>\n",
       "    <tr>\n",
       "      <th>3</th>\n",
       "      <td>Probability</td>\n",
       "      <td>664.8</td>\n",
       "    </tr>\n",
       "    <tr>\n",
       "      <th>...</th>\n",
       "      <td>...</td>\n",
       "      <td>...</td>\n",
       "    </tr>\n",
       "    <tr>\n",
       "      <th>19679</th>\n",
       "      <td>Laboratory experimentation in psychology</td>\n",
       "      <td>NaN</td>\n",
       "    </tr>\n",
       "    <tr>\n",
       "      <th>19680</th>\n",
       "      <td>Timetable (disambiguation)</td>\n",
       "      <td>NaN</td>\n",
       "    </tr>\n",
       "    <tr>\n",
       "      <th>19681</th>\n",
       "      <td>Fraction (mathematics)</td>\n",
       "      <td>NaN</td>\n",
       "    </tr>\n",
       "    <tr>\n",
       "      <th>19682</th>\n",
       "      <td>Aaron Swartz</td>\n",
       "      <td>NaN</td>\n",
       "    </tr>\n",
       "    <tr>\n",
       "      <th>19683</th>\n",
       "      <td>Hype cycle</td>\n",
       "      <td>NaN</td>\n",
       "    </tr>\n",
       "    <tr>\n",
       "      <th>19684</th>\n",
       "      <td>Deborah McGuinness</td>\n",
       "      <td>NaN</td>\n",
       "    </tr>\n",
       "    <tr>\n",
       "      <th>19685</th>\n",
       "      <td>BioMOBY</td>\n",
       "      <td>NaN</td>\n",
       "    </tr>\n",
       "    <tr>\n",
       "      <th>19686</th>\n",
       "      <td>SI unit</td>\n",
       "      <td>NaN</td>\n",
       "    </tr>\n",
       "    <tr>\n",
       "      <th>19687</th>\n",
       "      <td>AGROVOC</td>\n",
       "      <td>NaN</td>\n",
       "    </tr>\n",
       "    <tr>\n",
       "      <th>19688</th>\n",
       "      <td>Virtuoso Universal Server</td>\n",
       "      <td>NaN</td>\n",
       "    </tr>\n",
       "    <tr>\n",
       "      <th>19689</th>\n",
       "      <td>Relational time</td>\n",
       "      <td>NaN</td>\n",
       "    </tr>\n",
       "    <tr>\n",
       "      <th>19690</th>\n",
       "      <td>Reference.com</td>\n",
       "      <td>NaN</td>\n",
       "    </tr>\n",
       "    <tr>\n",
       "      <th>19691</th>\n",
       "      <td>Oracle Spatial and Graph</td>\n",
       "      <td>NaN</td>\n",
       "    </tr>\n",
       "    <tr>\n",
       "      <th>19692</th>\n",
       "      <td>Josh Kopelman</td>\n",
       "      <td>NaN</td>\n",
       "    </tr>\n",
       "    <tr>\n",
       "      <th>19693</th>\n",
       "      <td>LSID</td>\n",
       "      <td>NaN</td>\n",
       "    </tr>\n",
       "    <tr>\n",
       "      <th>19694</th>\n",
       "      <td>Boeing X-53 Active Aeroelastic Wing</td>\n",
       "      <td>NaN</td>\n",
       "    </tr>\n",
       "    <tr>\n",
       "      <th>19695</th>\n",
       "      <td>Index term</td>\n",
       "      <td>NaN</td>\n",
       "    </tr>\n",
       "    <tr>\n",
       "      <th>19696</th>\n",
       "      <td>Dan Connolly (computer scientist)</td>\n",
       "      <td>NaN</td>\n",
       "    </tr>\n",
       "    <tr>\n",
       "      <th>19697</th>\n",
       "      <td>Roman Empire</td>\n",
       "      <td>NaN</td>\n",
       "    </tr>\n",
       "    <tr>\n",
       "      <th>19698</th>\n",
       "      <td>Relativity of simultaneity</td>\n",
       "      <td>NaN</td>\n",
       "    </tr>\n",
       "    <tr>\n",
       "      <th>19699</th>\n",
       "      <td>AI winter</td>\n",
       "      <td>NaN</td>\n",
       "    </tr>\n",
       "    <tr>\n",
       "      <th>19700</th>\n",
       "      <td>Oracle Enterprise Metadata Manager</td>\n",
       "      <td>NaN</td>\n",
       "    </tr>\n",
       "    <tr>\n",
       "      <th>19701</th>\n",
       "      <td>Monster.com</td>\n",
       "      <td>NaN</td>\n",
       "    </tr>\n",
       "    <tr>\n",
       "      <th>19702</th>\n",
       "      <td>Object hyperlinking</td>\n",
       "      <td>NaN</td>\n",
       "    </tr>\n",
       "    <tr>\n",
       "      <th>19703</th>\n",
       "      <td>SI</td>\n",
       "      <td>NaN</td>\n",
       "    </tr>\n",
       "    <tr>\n",
       "      <th>19704</th>\n",
       "      <td>Pat Hayes</td>\n",
       "      <td>NaN</td>\n",
       "    </tr>\n",
       "    <tr>\n",
       "      <th>19705</th>\n",
       "      <td>Royal Observatory, Greenwich</td>\n",
       "      <td>NaN</td>\n",
       "    </tr>\n",
       "    <tr>\n",
       "      <th>19706</th>\n",
       "      <td>Royal Navy</td>\n",
       "      <td>NaN</td>\n",
       "    </tr>\n",
       "    <tr>\n",
       "      <th>19707</th>\n",
       "      <td>Open-world assumption</td>\n",
       "      <td>NaN</td>\n",
       "    </tr>\n",
       "    <tr>\n",
       "      <th>19708</th>\n",
       "      <td>Linton Wells II</td>\n",
       "      <td>NaN</td>\n",
       "    </tr>\n",
       "  </tbody>\n",
       "</table>\n",
       "<p>19709 rows × 2 columns</p>\n",
       "</div>"
      ],
      "text/plain": [
       "                               node  rank_average\n",
       "81              Decision tree model         220.4\n",
       "76                   Decision table         232.8\n",
       "65                    ID3 algorithm         245.6\n",
       "28              Diminishing returns         272.8\n",
       "67        Topological combinatorics         273.6\n",
       "...                             ...           ...\n",
       "19704                     Pat Hayes           NaN\n",
       "19705  Royal Observatory, Greenwich           NaN\n",
       "19706                    Royal Navy           NaN\n",
       "19707         Open-world assumption           NaN\n",
       "19708               Linton Wells II           NaN\n",
       "\n",
       "[19709 rows x 2 columns]"
      ]
     },
     "execution_count": 68,
     "metadata": {},
     "output_type": "execute_result"
    }
   ],
   "source": [
    "def average_rank(row):\n",
    "    return np.mean([\n",
    "        row.degree_ranked,\n",
    "        row.centrality_ranked,\n",
    "        row.dispersion_ranked,\n",
    "        row.page_rank_ranked,\n",
    "        row.adjusted_reciprocity_ranked,\n",
    "    ]) * row.category_matches_with_source_ranked * row.shortest_path_length_from_source_ranked \n",
    "\n",
    "features_df[\"rank_average\"] = features_df.apply(average_rank, axis=1)\n",
    "\n",
    "features_df[[\"node\", \"rank_average\"]].sort_values(\"rank_average\", ascending=True)"
   ]
  },
  {
   "cell_type": "code",
   "execution_count": null,
   "metadata": {},
   "outputs": [],
   "source": []
  },
  {
   "cell_type": "code",
   "execution_count": null,
   "metadata": {},
   "outputs": [],
   "source": []
  },
  {
   "cell_type": "code",
   "execution_count": null,
   "metadata": {
    "ExecuteTime": {
     "end_time": "2019-08-24T14:01:23.537870Z",
     "start_time": "2019-08-24T14:01:23.510705Z"
    }
   },
   "outputs": [],
   "source": [
    "# features_df.sort_values(\"dispersion\", ascending=True)\n",
    "features_df[features_df.node.str.contains(\"Decision\")].sort_values(\"page_rank\", ascending=False)"
   ]
  },
  {
   "cell_type": "code",
   "execution_count": null,
   "metadata": {
    "ExecuteTime": {
     "end_time": "2019-08-24T10:52:43.152524Z",
     "start_time": "2019-08-24T10:52:43.148607Z"
    }
   },
   "outputs": [],
   "source": [
    "features_df.dispersion = features_df.dispersion.fillna(0.0)\n",
    "features_df.shortest_path_length_from_source = features_df.shortest_path_length_from_source.fillna(-1)"
   ]
  },
  {
   "cell_type": "code",
   "execution_count": null,
   "metadata": {
    "ExecuteTime": {
     "end_time": "2019-08-24T10:53:05.258079Z",
     "start_time": "2019-08-24T10:52:44.900079Z"
    }
   },
   "outputs": [],
   "source": [
    "sns.pairplot(features_df)"
   ]
  },
  {
   "cell_type": "code",
   "execution_count": null,
   "metadata": {
    "ExecuteTime": {
     "end_time": "2019-08-23T22:34:57.490246Z",
     "start_time": "2019-08-23T22:34:57.274255Z"
    }
   },
   "outputs": [],
   "source": [
    "sns.heatmap(features_df.corr())"
   ]
  },
  {
   "cell_type": "code",
   "execution_count": null,
   "metadata": {
    "ExecuteTime": {
     "end_time": "2019-08-23T10:15:07.479158Z",
     "start_time": "2019-08-23T10:15:07.472501Z"
    }
   },
   "outputs": [],
   "source": [
    "features_df.info()"
   ]
  },
  {
   "cell_type": "code",
   "execution_count": null,
   "metadata": {
    "ExecuteTime": {
     "end_time": "2019-08-23T10:02:27.249740Z",
     "start_time": "2019-08-23T10:02:27.247073Z"
    }
   },
   "outputs": [],
   "source": [
    "len(gc.graph.nodes)"
   ]
  },
  {
   "cell_type": "code",
   "execution_count": null,
   "metadata": {
    "ExecuteTime": {
     "end_time": "2019-08-23T09:37:44.827492Z",
     "start_time": "2019-08-23T09:37:44.824523Z"
    }
   },
   "outputs": [],
   "source": [
    "gc.intro_nodes"
   ]
  },
  {
   "cell_type": "code",
   "execution_count": null,
   "metadata": {
    "ExecuteTime": {
     "end_time": "2019-08-23T09:36:27.213806Z",
     "start_time": "2019-08-23T09:34:09.309868Z"
    },
    "scrolled": true
   },
   "outputs": [],
   "source": [
    "gc.get_dispersion(max_nodes=100)"
   ]
  },
  {
   "cell_type": "code",
   "execution_count": null,
   "metadata": {
    "ExecuteTime": {
     "end_time": "2019-08-23T09:23:21.321639Z",
     "start_time": "2019-08-23T09:23:21.318462Z"
    }
   },
   "outputs": [],
   "source": [
    "len(gc.graph.nodes)\n"
   ]
  },
  {
   "cell_type": "code",
   "execution_count": null,
   "metadata": {
    "ExecuteTime": {
     "end_time": "2019-08-23T09:23:21.828285Z",
     "start_time": "2019-08-23T09:23:21.744315Z"
    }
   },
   "outputs": [],
   "source": [
    "gc.get_degrees().head(25)"
   ]
  },
  {
   "cell_type": "code",
   "execution_count": null,
   "metadata": {
    "ExecuteTime": {
     "end_time": "2019-08-23T09:23:25.841372Z",
     "start_time": "2019-08-23T09:23:22.424484Z"
    }
   },
   "outputs": [],
   "source": [
    "gc.get_centrality().head(25)"
   ]
  },
  {
   "cell_type": "code",
   "execution_count": null,
   "metadata": {
    "ExecuteTime": {
     "end_time": "2019-08-23T09:23:25.909964Z",
     "start_time": "2019-08-23T09:23:25.842596Z"
    }
   },
   "outputs": [],
   "source": [
    "gc.get_shortes_path().head(25)"
   ]
  },
  {
   "cell_type": "code",
   "execution_count": null,
   "metadata": {
    "ExecuteTime": {
     "end_time": "2019-08-23T09:23:43.863492Z",
     "start_time": "2019-08-23T09:23:41.444117Z"
    }
   },
   "outputs": [],
   "source": [
    "gc.get_pageranks().head(25)"
   ]
  },
  {
   "cell_type": "code",
   "execution_count": null,
   "metadata": {
    "ExecuteTime": {
     "end_time": "2019-08-23T09:23:45.250686Z",
     "start_time": "2019-08-23T09:23:45.021278Z"
    }
   },
   "outputs": [],
   "source": [
    "gc.get_adjusted_reciprocity().head(25)"
   ]
  },
  {
   "cell_type": "code",
   "execution_count": null,
   "metadata": {
    "ExecuteTime": {
     "end_time": "2019-08-23T09:23:47.903932Z",
     "start_time": "2019-08-23T09:23:47.661390Z"
    }
   },
   "outputs": [],
   "source": [
    "gc.get_dominator_counts().head(25)"
   ]
  },
  {
   "cell_type": "code",
   "execution_count": null,
   "metadata": {},
   "outputs": [],
   "source": []
  },
  {
   "cell_type": "code",
   "execution_count": null,
   "metadata": {},
   "outputs": [],
   "source": []
  },
  {
   "cell_type": "code",
   "execution_count": null,
   "metadata": {
    "ExecuteTime": {
     "end_time": "2019-08-22T13:39:28.263750Z",
     "start_time": "2019-08-22T13:39:27.791000Z"
    }
   },
   "outputs": [],
   "source": [
    "ego = nx.ego_graph(gc.graph, \"Regression analysis\", undirected=True)\n",
    "ego.name = \"Regression analysis\"\n",
    "print(nx.info(ego))"
   ]
  },
  {
   "cell_type": "code",
   "execution_count": null,
   "metadata": {
    "ExecuteTime": {
     "end_time": "2019-08-22T13:35:43.063996Z",
     "start_time": "2019-08-22T13:35:43.061182Z"
    }
   },
   "outputs": [],
   "source": [
    "len(ego.nodes)"
   ]
  },
  {
   "cell_type": "code",
   "execution_count": null,
   "metadata": {
    "ExecuteTime": {
     "end_time": "2019-08-22T13:12:42.738601Z",
     "start_time": "2019-08-22T13:12:25.142840Z"
    }
   },
   "outputs": [],
   "source": [
    "nx.draw(ego)\n",
    "plt.show()"
   ]
  },
  {
   "cell_type": "code",
   "execution_count": null,
   "metadata": {
    "ExecuteTime": {
     "end_time": "2019-08-22T13:35:47.695602Z",
     "start_time": "2019-08-22T13:35:47.566518Z"
    }
   },
   "outputs": [],
   "source": [
    "sorted([(key, value) for key, value in nx.eigenvector_centrality(ego).items()], key=lambda x: x[1], reverse=True)"
   ]
  },
  {
   "cell_type": "code",
   "execution_count": null,
   "metadata": {
    "ExecuteTime": {
     "end_time": "2019-08-22T14:03:04.479112Z",
     "start_time": "2019-08-22T14:03:04.475257Z"
    }
   },
   "outputs": [],
   "source": [
    "def sort_dict_values(dict, columns, sort_column, ascending=False):\n",
    "    to_list = [(key, value) for key, value in dict.items()]\n",
    "    return pd.DataFrame(to_list, columns=columns).sort_values(sort_column, ascending=ascending).reset_index().drop(\"index\", axis=1)"
   ]
  },
  {
   "cell_type": "code",
   "execution_count": null,
   "metadata": {
    "ExecuteTime": {
     "end_time": "2019-08-22T14:05:52.670285Z",
     "start_time": "2019-08-22T14:05:48.287824Z"
    }
   },
   "outputs": [],
   "source": [
    "regression_ego = sort_dict_values(nx.betweenness_centrality(ego), [\"node\", \"betweenness\"], \"betweenness\")\n",
    "regression_ego\n",
    "# regression_ego[regression_ego.node == \"Random forest\"]"
   ]
  }
 ],
 "metadata": {
  "kernelspec": {
   "display_name": "Python 3",
   "language": "python",
   "name": "python3"
  },
  "language_info": {
   "codemirror_mode": {
    "name": "ipython",
    "version": 3
   },
   "file_extension": ".py",
   "mimetype": "text/x-python",
   "name": "python",
   "nbconvert_exporter": "python",
   "pygments_lexer": "ipython3",
   "version": "3.7.3"
  }
 },
 "nbformat": 4,
 "nbformat_minor": 2
}
