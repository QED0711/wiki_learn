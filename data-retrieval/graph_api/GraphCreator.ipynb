{
 "cells": [
  {
   "cell_type": "code",
   "execution_count": 1,
   "metadata": {
    "ExecuteTime": {
     "end_time": "2019-08-22T17:21:47.134134Z",
     "start_time": "2019-08-22T17:21:46.640315Z"
    }
   },
   "outputs": [],
   "source": [
    "%load_ext autoreload\n",
    "%autoreload 1\n",
    "\n",
    "import sys\n",
    "sys.path.append(\"../../utils/\")\n",
    "\n",
    "import matplotlib.pyplot as plt\n",
    "%matplotlib inline\n",
    "import pdb\n",
    "import requests\n",
    "import re\n",
    "\n",
    "import pandas as pd\n",
    "\n",
    "import networkx as nx\n",
    "\n",
    "import signal\n",
    "\n",
    "import warnings\n",
    "warnings.filterwarnings(\"ignore\")\n",
    "\n",
    "from wiki_intro_scrapper import WikiIntroScrapper\n",
    "from WikiMultiQuery import wiki_multi_query\n",
    "from graph_helpers import create_dispersion_df, sort_dict_values\n",
    "\n",
    "%aimport wiki_intro_scrapper\n",
    "%aimport WikiMultiQuery"
   ]
  },
  {
   "cell_type": "code",
   "execution_count": 113,
   "metadata": {
    "ExecuteTime": {
     "end_time": "2019-08-22T18:18:22.387620Z",
     "start_time": "2019-08-22T18:18:22.371108Z"
    }
   },
   "outputs": [],
   "source": [
    "class GraphCreator:\n",
    "\n",
    "    def __init__(self, entry):\n",
    "        self.graph = nx.DiGraph()\n",
    "        \n",
    "        self.entry = entry\n",
    "        \n",
    "        wis = WikiIntroScrapper(f\"https://en.wikipedia.org/wiki/{entry}\")\n",
    "        wis.parse_intro_links()\n",
    "        \n",
    "        self.intro_nodes = wis.intro_link_titles\n",
    "        \n",
    "        self.visited = {entry}\n",
    "        self.next_links = []\n",
    "        \n",
    "        self.query_articles([entry])\n",
    "        \n",
    "\n",
    "        # setup timeout function\n",
    "        def handle_alarm(signum, frame):\n",
    "            raise RuntimeError\n",
    "\n",
    "        signal.signal(signal.SIGALRM, handle_alarm)\n",
    "\n",
    "    def add_edges(self, articles):\n",
    "        for article in articles:\n",
    "            self.graph.add_edges_from([(article['title'], link) for link in article['links']])\n",
    "            self.graph.add_edges_from([(linkhere, article['title']) for linkhere in article['linkshere']])\n",
    "\n",
    "    def plot_graph(self):\n",
    "        nx.draw(self.graph)\n",
    "        plt.show()\n",
    "\n",
    "    def get_degrees(self):\n",
    "        return sort_dict_values(dict(self.graph.degree()), [\"node\", \"degrees\"], \"degrees\",)\n",
    "\n",
    "    def get_centrality(self):\n",
    "        return sort_dict_values(nx.eigenvector_centrality(self.graph), [\"node\", \"centrality\"], \"centrality\")\n",
    "    \n",
    "    def get_dispersion(self, nodes=None, comparison_node=None):        \n",
    "        if not nodes:\n",
    "            nodes = self.graph.nodes\n",
    "        if not comparison_node:\n",
    "            comparison_node = self.entry\n",
    "            \n",
    "        return create_dispersion_df(gc.graph, comparison_node, nodes)\n",
    "        \n",
    "    def get_pageranks(self):\n",
    "        page_ranks = sorted([(key, value) for key, value in nx.algorithms.link_analysis.pagerank(self.graph).items()], key=lambda x: x[1], reverse=True)\n",
    "        return pd.DataFrame(page_ranks, columns=[\"node\", \"page_rank\"])\n",
    "    \n",
    "    def get_reciprocity(self, nodes=None):\n",
    "        if not nodes:\n",
    "            nodes = self.graph.nodes # all the nodes\n",
    "        return sort_dict_values(nx.algorithms.reciprocity(self.graph, nodes), ['node', 'reciprocity'], 'reciprocity')\n",
    "    \n",
    "    def create_ego(self, node=None):\n",
    "        if not node:\n",
    "            node = self.entry\n",
    "            \n",
    "        ego = nx.ego_graph(self.graph, node)\n",
    "        ego.name = node\n",
    "        return ego\n",
    "\n",
    "    def expand_network(self, group_size=10, timeout=10):\n",
    "        \n",
    "        num_links = len(self.next_links)\n",
    "        \n",
    "        link_group = []\n",
    "        \n",
    "        for i in range(num_links):\n",
    "            link = self.next_links.pop(0)\n",
    "            if not link in self.visited:\n",
    "                \n",
    "                link_group.append(link)\n",
    "                \n",
    "                if len(link_group) == group_size or (i == num_links - 1 and len(link_group) > 0):\n",
    "                    print(\"{:.2%}\".format(i/num_links))\n",
    "                    try:\n",
    "                        signal.alarm(timeout)\n",
    "                        self.visited.update(link_group)\n",
    "                        self.query_articles(link_group)\n",
    "                        signal.alarm(0)\n",
    "                        link_group = []\n",
    "                    except:\n",
    "#                         print(\"==SKIPPED==\")\n",
    "                        link_group = []\n",
    "                        continue\n",
    "        signal.alarm(0)\n",
    "    \n",
    "    def update_next_links(self, articles):\n",
    "        for article in articles:\n",
    "            for link in article['links']:\n",
    "                self.next_links.append(link)\n",
    "            \n",
    "        \n",
    "    def query_articles(self, titles, generate_graph=True):            \n",
    "        articles = wiki_multi_query(titles)\n",
    "        \n",
    "        self.update_next_links(articles)\n",
    "        self.add_edges(articles)\n"
   ]
  },
  {
   "cell_type": "markdown",
   "metadata": {},
   "source": [
    "## TESTS"
   ]
  },
  {
   "cell_type": "code",
   "execution_count": 114,
   "metadata": {
    "ExecuteTime": {
     "end_time": "2019-08-22T18:18:26.390437Z",
     "start_time": "2019-08-22T18:18:25.952443Z"
    }
   },
   "outputs": [],
   "source": [
    "gc = GraphCreator(\"Overfitting\")"
   ]
  },
  {
   "cell_type": "code",
   "execution_count": 107,
   "metadata": {
    "ExecuteTime": {
     "end_time": "2019-08-22T18:16:34.994196Z",
     "start_time": "2019-08-22T18:15:49.635561Z"
    },
    "scrolled": true
   },
   "outputs": [
    {
     "name": "stdout",
     "output_type": "stream",
     "text": [
      "1.61%\n",
      "4.84%\n",
      "8.06%\n",
      "11.29%\n",
      "14.52%\n",
      "17.74%\n",
      "20.97%\n",
      "24.19%\n",
      "27.42%\n",
      "30.65%\n",
      "33.87%\n",
      "37.10%\n",
      "40.32%\n",
      "43.55%\n",
      "46.77%\n",
      "50.00%\n",
      "53.23%\n",
      "56.45%\n",
      "59.68%\n",
      "62.90%\n",
      "66.13%\n",
      "69.35%\n",
      "72.58%\n",
      "75.81%\n",
      "79.03%\n",
      "82.26%\n",
      "85.48%\n",
      "88.71%\n",
      "91.94%\n",
      "95.16%\n",
      "98.39%\n"
     ]
    }
   ],
   "source": [
    "gc.expand_network(group_size=2, timeout=5)"
   ]
  },
  {
   "cell_type": "code",
   "execution_count": 108,
   "metadata": {
    "ExecuteTime": {
     "end_time": "2019-08-22T18:16:35.037985Z",
     "start_time": "2019-08-22T18:16:34.995472Z"
    }
   },
   "outputs": [
    {
     "data": {
      "text/html": [
       "<div>\n",
       "<style scoped>\n",
       "    .dataframe tbody tr th:only-of-type {\n",
       "        vertical-align: middle;\n",
       "    }\n",
       "\n",
       "    .dataframe tbody tr th {\n",
       "        vertical-align: top;\n",
       "    }\n",
       "\n",
       "    .dataframe thead th {\n",
       "        text-align: right;\n",
       "    }\n",
       "</style>\n",
       "<table border=\"1\" class=\"dataframe\">\n",
       "  <thead>\n",
       "    <tr style=\"text-align: right;\">\n",
       "      <th></th>\n",
       "      <th>node</th>\n",
       "      <th>degrees</th>\n",
       "    </tr>\n",
       "  </thead>\n",
       "  <tbody>\n",
       "    <tr>\n",
       "      <th>0</th>\n",
       "      <td>HarperCollins</td>\n",
       "      <td>6951</td>\n",
       "    </tr>\n",
       "    <tr>\n",
       "      <th>1</th>\n",
       "      <td>Algorithm</td>\n",
       "      <td>3376</td>\n",
       "    </tr>\n",
       "    <tr>\n",
       "      <th>2</th>\n",
       "      <td>Machine learning</td>\n",
       "      <td>2610</td>\n",
       "    </tr>\n",
       "    <tr>\n",
       "      <th>3</th>\n",
       "      <td>Stony Brook University</td>\n",
       "      <td>1854</td>\n",
       "    </tr>\n",
       "    <tr>\n",
       "      <th>4</th>\n",
       "      <td>Occam's razor</td>\n",
       "      <td>1420</td>\n",
       "    </tr>\n",
       "    <tr>\n",
       "      <th>5</th>\n",
       "      <td>Linear regression</td>\n",
       "      <td>1293</td>\n",
       "    </tr>\n",
       "    <tr>\n",
       "      <th>6</th>\n",
       "      <td>Logistic regression</td>\n",
       "      <td>1222</td>\n",
       "    </tr>\n",
       "    <tr>\n",
       "      <th>7</th>\n",
       "      <td>Statistical model</td>\n",
       "      <td>1152</td>\n",
       "    </tr>\n",
       "    <tr>\n",
       "      <th>8</th>\n",
       "      <td>Polynomial</td>\n",
       "      <td>1112</td>\n",
       "    </tr>\n",
       "    <tr>\n",
       "      <th>9</th>\n",
       "      <td>Statistical inference</td>\n",
       "      <td>1037</td>\n",
       "    </tr>\n",
       "  </tbody>\n",
       "</table>\n",
       "</div>"
      ],
      "text/plain": [
       "                     node  degrees\n",
       "0           HarperCollins     6951\n",
       "1               Algorithm     3376\n",
       "2        Machine learning     2610\n",
       "3  Stony Brook University     1854\n",
       "4           Occam's razor     1420\n",
       "5       Linear regression     1293\n",
       "6     Logistic regression     1222\n",
       "7       Statistical model     1152\n",
       "8              Polynomial     1112\n",
       "9   Statistical inference     1037"
      ]
     },
     "execution_count": 108,
     "metadata": {},
     "output_type": "execute_result"
    }
   ],
   "source": [
    "gc.get_degrees().head(10)"
   ]
  },
  {
   "cell_type": "code",
   "execution_count": 115,
   "metadata": {
    "ExecuteTime": {
     "end_time": "2019-08-22T18:18:31.815692Z",
     "start_time": "2019-08-22T18:18:31.805929Z"
    }
   },
   "outputs": [
    {
     "data": {
      "text/html": [
       "<div>\n",
       "<style scoped>\n",
       "    .dataframe tbody tr th:only-of-type {\n",
       "        vertical-align: middle;\n",
       "    }\n",
       "\n",
       "    .dataframe tbody tr th {\n",
       "        vertical-align: top;\n",
       "    }\n",
       "\n",
       "    .dataframe thead th {\n",
       "        text-align: right;\n",
       "    }\n",
       "</style>\n",
       "<table border=\"1\" class=\"dataframe\">\n",
       "  <thead>\n",
       "    <tr style=\"text-align: right;\">\n",
       "      <th></th>\n",
       "      <th>entry</th>\n",
       "      <th>node</th>\n",
       "      <th>dispersion</th>\n",
       "    </tr>\n",
       "  </thead>\n",
       "  <tbody>\n",
       "    <tr>\n",
       "      <th>0</th>\n",
       "      <td>Overfitting</td>\n",
       "      <td>Overfitting</td>\n",
       "      <td>30.5</td>\n",
       "    </tr>\n",
       "    <tr>\n",
       "      <th>1</th>\n",
       "      <td>Overfitting</td>\n",
       "      <td>Algorithm</td>\n",
       "      <td>0.0</td>\n",
       "    </tr>\n",
       "    <tr>\n",
       "      <th>2</th>\n",
       "      <td>Overfitting</td>\n",
       "      <td>American Journal of Epidemiology</td>\n",
       "      <td>0.0</td>\n",
       "    </tr>\n",
       "    <tr>\n",
       "      <th>3</th>\n",
       "      <td>Overfitting</td>\n",
       "      <td>Andrew Gelman</td>\n",
       "      <td>0.0</td>\n",
       "    </tr>\n",
       "    <tr>\n",
       "      <th>4</th>\n",
       "      <td>Overfitting</td>\n",
       "      <td>Bias–variance tradeoff</td>\n",
       "      <td>0.0</td>\n",
       "    </tr>\n",
       "    <tr>\n",
       "      <th>5</th>\n",
       "      <td>Overfitting</td>\n",
       "      <td>BioData Mining</td>\n",
       "      <td>0.0</td>\n",
       "    </tr>\n",
       "    <tr>\n",
       "      <th>6</th>\n",
       "      <td>Overfitting</td>\n",
       "      <td>Brian Christian</td>\n",
       "      <td>0.0</td>\n",
       "    </tr>\n",
       "    <tr>\n",
       "      <th>7</th>\n",
       "      <td>Overfitting</td>\n",
       "      <td>Cambridge University Press</td>\n",
       "      <td>0.0</td>\n",
       "    </tr>\n",
       "    <tr>\n",
       "      <th>8</th>\n",
       "      <td>Overfitting</td>\n",
       "      <td>Causal relation</td>\n",
       "      <td>0.0</td>\n",
       "    </tr>\n",
       "    <tr>\n",
       "      <th>9</th>\n",
       "      <td>Overfitting</td>\n",
       "      <td>Coefficient of determination</td>\n",
       "      <td>0.0</td>\n",
       "    </tr>\n",
       "  </tbody>\n",
       "</table>\n",
       "</div>"
      ],
      "text/plain": [
       "         entry                              node  dispersion\n",
       "0  Overfitting                       Overfitting        30.5\n",
       "1  Overfitting                         Algorithm         0.0\n",
       "2  Overfitting  American Journal of Epidemiology         0.0\n",
       "3  Overfitting                     Andrew Gelman         0.0\n",
       "4  Overfitting            Bias–variance tradeoff         0.0\n",
       "5  Overfitting                    BioData Mining         0.0\n",
       "6  Overfitting                   Brian Christian         0.0\n",
       "7  Overfitting        Cambridge University Press         0.0\n",
       "8  Overfitting                   Causal relation         0.0\n",
       "9  Overfitting      Coefficient of determination         0.0"
      ]
     },
     "execution_count": 115,
     "metadata": {},
     "output_type": "execute_result"
    }
   ],
   "source": [
    "gc.get_dispersion().head(10)"
   ]
  },
  {
   "cell_type": "code",
   "execution_count": 110,
   "metadata": {
    "ExecuteTime": {
     "end_time": "2019-08-22T18:16:36.088323Z",
     "start_time": "2019-08-22T18:16:35.269493Z"
    }
   },
   "outputs": [
    {
     "data": {
      "text/html": [
       "<div>\n",
       "<style scoped>\n",
       "    .dataframe tbody tr th:only-of-type {\n",
       "        vertical-align: middle;\n",
       "    }\n",
       "\n",
       "    .dataframe tbody tr th {\n",
       "        vertical-align: top;\n",
       "    }\n",
       "\n",
       "    .dataframe thead th {\n",
       "        text-align: right;\n",
       "    }\n",
       "</style>\n",
       "<table border=\"1\" class=\"dataframe\">\n",
       "  <thead>\n",
       "    <tr style=\"text-align: right;\">\n",
       "      <th></th>\n",
       "      <th>node</th>\n",
       "      <th>page_rank</th>\n",
       "    </tr>\n",
       "  </thead>\n",
       "  <tbody>\n",
       "    <tr>\n",
       "      <th>0</th>\n",
       "      <td>HarperCollins</td>\n",
       "      <td>0.120678</td>\n",
       "    </tr>\n",
       "    <tr>\n",
       "      <th>1</th>\n",
       "      <td>Algorithm</td>\n",
       "      <td>0.049821</td>\n",
       "    </tr>\n",
       "    <tr>\n",
       "      <th>2</th>\n",
       "      <td>Stony Brook University</td>\n",
       "      <td>0.030973</td>\n",
       "    </tr>\n",
       "    <tr>\n",
       "      <th>3</th>\n",
       "      <td>Machine learning</td>\n",
       "      <td>0.030712</td>\n",
       "    </tr>\n",
       "    <tr>\n",
       "      <th>4</th>\n",
       "      <td>Polynomial</td>\n",
       "      <td>0.017745</td>\n",
       "    </tr>\n",
       "    <tr>\n",
       "      <th>5</th>\n",
       "      <td>Occam's razor</td>\n",
       "      <td>0.017272</td>\n",
       "    </tr>\n",
       "    <tr>\n",
       "      <th>6</th>\n",
       "      <td>Oxford Dictionaries</td>\n",
       "      <td>0.008957</td>\n",
       "    </tr>\n",
       "    <tr>\n",
       "      <th>7</th>\n",
       "      <td>Statistical model</td>\n",
       "      <td>0.008158</td>\n",
       "    </tr>\n",
       "    <tr>\n",
       "      <th>8</th>\n",
       "      <td>Linear regression</td>\n",
       "      <td>0.007719</td>\n",
       "    </tr>\n",
       "    <tr>\n",
       "      <th>9</th>\n",
       "      <td>Logistic regression</td>\n",
       "      <td>0.006475</td>\n",
       "    </tr>\n",
       "  </tbody>\n",
       "</table>\n",
       "</div>"
      ],
      "text/plain": [
       "                     node  page_rank\n",
       "0           HarperCollins   0.120678\n",
       "1               Algorithm   0.049821\n",
       "2  Stony Brook University   0.030973\n",
       "3        Machine learning   0.030712\n",
       "4              Polynomial   0.017745\n",
       "5           Occam's razor   0.017272\n",
       "6     Oxford Dictionaries   0.008957\n",
       "7       Statistical model   0.008158\n",
       "8       Linear regression   0.007719\n",
       "9     Logistic regression   0.006475"
      ]
     },
     "execution_count": 110,
     "metadata": {},
     "output_type": "execute_result"
    }
   ],
   "source": [
    "gc.get_pageranks().head(10)"
   ]
  },
  {
   "cell_type": "code",
   "execution_count": 111,
   "metadata": {
    "ExecuteTime": {
     "end_time": "2019-08-22T18:16:36.149842Z",
     "start_time": "2019-08-22T18:16:36.089696Z"
    }
   },
   "outputs": [
    {
     "data": {
      "text/html": [
       "<div>\n",
       "<style scoped>\n",
       "    .dataframe tbody tr th:only-of-type {\n",
       "        vertical-align: middle;\n",
       "    }\n",
       "\n",
       "    .dataframe tbody tr th {\n",
       "        vertical-align: top;\n",
       "    }\n",
       "\n",
       "    .dataframe thead th {\n",
       "        text-align: right;\n",
       "    }\n",
       "</style>\n",
       "<table border=\"1\" class=\"dataframe\">\n",
       "  <thead>\n",
       "    <tr style=\"text-align: right;\">\n",
       "      <th></th>\n",
       "      <th>node</th>\n",
       "      <th>reciprocity</th>\n",
       "    </tr>\n",
       "  </thead>\n",
       "  <tbody>\n",
       "    <tr>\n",
       "      <th>1720</th>\n",
       "      <td>Overfitting</td>\n",
       "      <td>0.182796</td>\n",
       "    </tr>\n",
       "  </tbody>\n",
       "</table>\n",
       "</div>"
      ],
      "text/plain": [
       "             node  reciprocity\n",
       "1720  Overfitting     0.182796"
      ]
     },
     "execution_count": 111,
     "metadata": {},
     "output_type": "execute_result"
    }
   ],
   "source": [
    "reciprocity_df = gc.get_reciprocity(nodes=gc.graph.nodes)\n",
    "reciprocity_df[reciprocity_df.node == \"Overfitting\"]"
   ]
  },
  {
   "cell_type": "code",
   "execution_count": null,
   "metadata": {},
   "outputs": [],
   "source": []
  },
  {
   "cell_type": "code",
   "execution_count": null,
   "metadata": {},
   "outputs": [],
   "source": []
  },
  {
   "cell_type": "code",
   "execution_count": null,
   "metadata": {},
   "outputs": [],
   "source": []
  },
  {
   "cell_type": "code",
   "execution_count": null,
   "metadata": {
    "ExecuteTime": {
     "end_time": "2019-08-22T13:39:28.263750Z",
     "start_time": "2019-08-22T13:39:27.791000Z"
    }
   },
   "outputs": [],
   "source": [
    "ego = nx.ego_graph(gc.graph, \"Regression analysis\", undirected=True)\n",
    "ego.name = \"Regression analysis\"\n",
    "print(nx.info(ego))"
   ]
  },
  {
   "cell_type": "code",
   "execution_count": null,
   "metadata": {
    "ExecuteTime": {
     "end_time": "2019-08-22T13:35:43.063996Z",
     "start_time": "2019-08-22T13:35:43.061182Z"
    }
   },
   "outputs": [],
   "source": [
    "len(ego.nodes)"
   ]
  },
  {
   "cell_type": "code",
   "execution_count": null,
   "metadata": {
    "ExecuteTime": {
     "end_time": "2019-08-22T13:12:42.738601Z",
     "start_time": "2019-08-22T13:12:25.142840Z"
    }
   },
   "outputs": [],
   "source": [
    "nx.draw(ego)\n",
    "plt.show()"
   ]
  },
  {
   "cell_type": "code",
   "execution_count": null,
   "metadata": {
    "ExecuteTime": {
     "end_time": "2019-08-22T13:35:47.695602Z",
     "start_time": "2019-08-22T13:35:47.566518Z"
    }
   },
   "outputs": [],
   "source": [
    "sorted([(key, value) for key, value in nx.eigenvector_centrality(ego).items()], key=lambda x: x[1], reverse=True)"
   ]
  },
  {
   "cell_type": "code",
   "execution_count": null,
   "metadata": {
    "ExecuteTime": {
     "end_time": "2019-08-22T14:03:04.479112Z",
     "start_time": "2019-08-22T14:03:04.475257Z"
    }
   },
   "outputs": [],
   "source": [
    "def sort_dict_values(dict, columns, sort_column, ascending=False):\n",
    "    to_list = [(key, value) for key, value in dict.items()]\n",
    "    return pd.DataFrame(to_list, columns=columns).sort_values(sort_column, ascending=ascending).reset_index().drop(\"index\", axis=1)"
   ]
  },
  {
   "cell_type": "code",
   "execution_count": null,
   "metadata": {
    "ExecuteTime": {
     "end_time": "2019-08-22T14:05:52.670285Z",
     "start_time": "2019-08-22T14:05:48.287824Z"
    }
   },
   "outputs": [],
   "source": [
    "regression_ego = sort_dict_values(nx.betweenness_centrality(ego), [\"node\", \"betweenness\"], \"betweenness\")\n",
    "regression_ego\n",
    "# regression_ego[regression_ego.node == \"Random forest\"]"
   ]
  }
 ],
 "metadata": {
  "kernelspec": {
   "display_name": "Python 3",
   "language": "python",
   "name": "python3"
  },
  "language_info": {
   "codemirror_mode": {
    "name": "ipython",
    "version": 3
   },
   "file_extension": ".py",
   "mimetype": "text/x-python",
   "name": "python",
   "nbconvert_exporter": "python",
   "pygments_lexer": "ipython3",
   "version": "3.7.3"
  }
 },
 "nbformat": 4,
 "nbformat_minor": 2
}
