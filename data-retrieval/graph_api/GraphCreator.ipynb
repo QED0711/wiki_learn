{
 "cells": [
  {
   "cell_type": "code",
   "execution_count": 1,
   "metadata": {
    "ExecuteTime": {
     "end_time": "2019-08-22T09:26:49.432512Z",
     "start_time": "2019-08-22T09:26:48.946239Z"
    }
   },
   "outputs": [],
   "source": [
    "%load_ext autoreload\n",
    "%autoreload 1\n",
    "\n",
    "import sys\n",
    "sys.path.append(\"../../utils/\")\n",
    "\n",
    "import matplotlib.pyplot as plt\n",
    "%matplotlib inline\n",
    "import pdb\n",
    "import requests\n",
    "import re\n",
    "\n",
    "import pandas as pd\n",
    "\n",
    "import networkx as nx\n",
    "\n",
    "import signal\n",
    "\n",
    "import warnings\n",
    "warnings.filterwarnings(\"ignore\")\n",
    "\n",
    "from wiki_intro_scrapper import WikiIntroScrapper\n",
    "from WikiMultiQuery import wiki_multi_query\n",
    "\n",
    "%aimport wiki_intro_scrapper\n",
    "%aimport WikiMultiQuery"
   ]
  },
  {
   "cell_type": "code",
   "execution_count": 37,
   "metadata": {
    "ExecuteTime": {
     "end_time": "2019-08-22T09:44:26.524219Z",
     "start_time": "2019-08-22T09:44:26.513179Z"
    }
   },
   "outputs": [],
   "source": [
    "class GraphCreator:\n",
    "\n",
    "    def __init__(self, entry):\n",
    "        self.graph = nx.DiGraph()\n",
    "\n",
    "        self.visited = {entry}\n",
    "        self.next_links = []\n",
    "        \n",
    "        self.query_articles([entry])\n",
    "        \n",
    "\n",
    "        # setup timeout function\n",
    "        def handle_alarm(signum, frame):\n",
    "            raise RuntimeError\n",
    "\n",
    "        signal.signal(signal.SIGALRM, handle_alarm)\n",
    "\n",
    "    def add_edges(self, articles):\n",
    "        for article in articles:\n",
    "            self.graph.add_edges_from([(article['title'], link) for link in article['links']])\n",
    "            self.graph.add_edges_from([(linkhere, article['title']) for linkhere in article['linkshere']])\n",
    "\n",
    "    def plot_graph(self):\n",
    "        nx.draw(self.graph)\n",
    "        plt.show()\n",
    "\n",
    "    def get_degrees(self):\n",
    "        return sorted([(key, val) for key, val in dict(self.graph.degree()).items()], key=lambda x: x[1], reverse=True)\n",
    "\n",
    "    def get_centrality(self, sort_results=False):\n",
    "        if sort_results:\n",
    "            return sorted([(key, val) for key, val in dict(nx.eigenvector_centrality(self.graph)).items()], key=lambda x: x[1], reverse=True)\n",
    "        else:\n",
    "            return nx.eigenvector_centrality(self.graph)\n",
    "\n",
    "    def expand_network(self, group_size=10, timeout=10):\n",
    "        \n",
    "        num_links = len(self.next_links)\n",
    "        \n",
    "        link_group = []\n",
    "        \n",
    "        for i in range(num_links):\n",
    "            link = self.next_links.pop(0)\n",
    "            if not link in self.visited:\n",
    "                \n",
    "                link_group.append(link)\n",
    "                \n",
    "                if len(link_group) == group_size or (i == num_links - 1 and len(link_group) > 0):\n",
    "#                     print(\"{:.2%}\".format(i/num_links))\n",
    "                    try:\n",
    "                        signal.alarm(timeout)\n",
    "                        self.visited.update(link_group)\n",
    "                        self.query_articles(link_group)\n",
    "                        signal.alarm(0)\n",
    "                        link_group = []\n",
    "                    except:\n",
    "                        print(\"==SKIPPED==\")\n",
    "                        link_group = []\n",
    "                        continue\n",
    "        signal.alarm(0)\n",
    "    \n",
    "    def update_next_links(self, articles):\n",
    "        for article in articles:\n",
    "            for link in article['links']:\n",
    "                self.next_links.append(link)\n",
    "            \n",
    "        \n",
    "    def query_articles(self, titles, generate_graph=True):            \n",
    "        articles = wiki_multi_query(titles)\n",
    "        \n",
    "        self.update_next_links(articles)\n",
    "        self.add_edges(articles)\n"
   ]
  },
  {
   "cell_type": "markdown",
   "metadata": {},
   "source": [
    "## TESTS"
   ]
  },
  {
   "cell_type": "code",
   "execution_count": 44,
   "metadata": {
    "ExecuteTime": {
     "end_time": "2019-08-22T09:54:49.463704Z",
     "start_time": "2019-08-22T09:54:48.788494Z"
    }
   },
   "outputs": [],
   "source": [
    "gc = GraphCreator(\"Sonata form\")\n",
    "wis = WikiIntroScrapper(\"https://en.wikipedia.org/wiki/Sonata_form\")\n",
    "wis.parse_intro_links();"
   ]
  },
  {
   "cell_type": "code",
   "execution_count": 45,
   "metadata": {
    "ExecuteTime": {
     "end_time": "2019-08-22T09:54:51.940917Z",
     "start_time": "2019-08-22T09:54:51.937654Z"
    }
   },
   "outputs": [
    {
     "data": {
      "text/plain": [
       "['Musical form',\n",
       " 'Classical music era',\n",
       " 'Movement (music)',\n",
       " 'Tonality',\n",
       " 'Exposition (music)',\n",
       " 'Musical development',\n",
       " 'Recapitulation (music)',\n",
       " 'Introduction (music)',\n",
       " 'Coda (music)',\n",
       " 'Sonata',\n",
       " 'Symphony',\n",
       " 'Concerto',\n",
       " 'String quartet',\n",
       " 'Musical analysis']"
      ]
     },
     "execution_count": 45,
     "metadata": {},
     "output_type": "execute_result"
    }
   ],
   "source": [
    "wis.intro_link_titles"
   ]
  },
  {
   "cell_type": "code",
   "execution_count": 46,
   "metadata": {
    "ExecuteTime": {
     "end_time": "2019-08-22T09:54:55.021883Z",
     "start_time": "2019-08-22T09:54:54.948673Z"
    }
   },
   "outputs": [
    {
     "name": "stdout",
     "output_type": "stream",
     "text": [
      "Sonata form 0.6044296161693198\n",
      "Musical form 0.04517436170326216\n",
      "Classical music era 0.04517436170326216\n",
      "Movement (music) 0.04517436170326216\n",
      "Tonality 0.04517436170326216\n",
      "Exposition (music) 0.04517436170326216\n",
      "Musical development 0.04517436170326216\n",
      "Recapitulation (music) 0.04517436170326216\n",
      "Introduction (music) 0.04517436170326216\n",
      "Coda (music) 0.04517436170326216\n",
      "Sonata 0.04517436170326216\n",
      "Symphony 0.04517436170326216\n",
      "Concerto 0.04517436170326216\n",
      "String quartet 0.04517436170326216\n",
      "Musical analysis 0.04517436170326216\n"
     ]
    }
   ],
   "source": [
    "centrality = gc.get_centrality()\n",
    "print (wis.title, centrality[wis.title])\n",
    "for title in wis.intro_link_titles:\n",
    "    print(title, centrality[title])"
   ]
  },
  {
   "cell_type": "code",
   "execution_count": 47,
   "metadata": {
    "ExecuteTime": {
     "end_time": "2019-08-22T09:57:10.715297Z",
     "start_time": "2019-08-22T09:54:58.920839Z"
    },
    "scrolled": true
   },
   "outputs": [
    {
     "name": "stdout",
     "output_type": "stream",
     "text": [
      "==SKIPPED==\n",
      "==SKIPPED==\n",
      "==SKIPPED==\n",
      "==SKIPPED==\n",
      "==SKIPPED==\n",
      "==SKIPPED==\n",
      "==SKIPPED==\n"
     ]
    }
   ],
   "source": [
    "gc.expand_network(group_size=5, timeout=20)"
   ]
  },
  {
   "cell_type": "code",
   "execution_count": 48,
   "metadata": {
    "ExecuteTime": {
     "end_time": "2019-08-22T09:57:14.932792Z",
     "start_time": "2019-08-22T09:57:10.716582Z"
    },
    "scrolled": false
   },
   "outputs": [
    {
     "data": {
      "text/html": [
       "<div>\n",
       "<style scoped>\n",
       "    .dataframe tbody tr th:only-of-type {\n",
       "        vertical-align: middle;\n",
       "    }\n",
       "\n",
       "    .dataframe tbody tr th {\n",
       "        vertical-align: top;\n",
       "    }\n",
       "\n",
       "    .dataframe thead th {\n",
       "        text-align: right;\n",
       "    }\n",
       "</style>\n",
       "<table border=\"1\" class=\"dataframe\">\n",
       "  <thead>\n",
       "    <tr style=\"text-align: right;\">\n",
       "      <th></th>\n",
       "      <th>title</th>\n",
       "      <th>centrality</th>\n",
       "    </tr>\n",
       "  </thead>\n",
       "  <tbody>\n",
       "    <tr>\n",
       "      <th>0</th>\n",
       "      <td>Sonata form</td>\n",
       "      <td>0.141145</td>\n",
       "    </tr>\n",
       "    <tr>\n",
       "      <th>1</th>\n",
       "      <td>Sonata</td>\n",
       "      <td>0.108460</td>\n",
       "    </tr>\n",
       "    <tr>\n",
       "      <th>2</th>\n",
       "      <td>Symphony</td>\n",
       "      <td>0.080875</td>\n",
       "    </tr>\n",
       "    <tr>\n",
       "      <th>3</th>\n",
       "      <td>Concerto</td>\n",
       "      <td>0.071836</td>\n",
       "    </tr>\n",
       "    <tr>\n",
       "      <th>4</th>\n",
       "      <td>Movement (music)</td>\n",
       "      <td>0.065589</td>\n",
       "    </tr>\n",
       "    <tr>\n",
       "      <th>5</th>\n",
       "      <td>String quartet</td>\n",
       "      <td>0.065478</td>\n",
       "    </tr>\n",
       "    <tr>\n",
       "      <th>6</th>\n",
       "      <td>Musical form</td>\n",
       "      <td>0.047803</td>\n",
       "    </tr>\n",
       "    <tr>\n",
       "      <th>7</th>\n",
       "      <td>Coda (music)</td>\n",
       "      <td>0.039774</td>\n",
       "    </tr>\n",
       "    <tr>\n",
       "      <th>8</th>\n",
       "      <td>Tonality</td>\n",
       "      <td>0.037013</td>\n",
       "    </tr>\n",
       "    <tr>\n",
       "      <th>9</th>\n",
       "      <td>Recapitulation (music)</td>\n",
       "      <td>0.032453</td>\n",
       "    </tr>\n",
       "    <tr>\n",
       "      <th>10</th>\n",
       "      <td>Exposition (music)</td>\n",
       "      <td>0.028997</td>\n",
       "    </tr>\n",
       "    <tr>\n",
       "      <th>11</th>\n",
       "      <td>Musical development</td>\n",
       "      <td>0.026649</td>\n",
       "    </tr>\n",
       "    <tr>\n",
       "      <th>12</th>\n",
       "      <td>Introduction (music)</td>\n",
       "      <td>0.022266</td>\n",
       "    </tr>\n",
       "    <tr>\n",
       "      <th>13</th>\n",
       "      <td>Classical music era</td>\n",
       "      <td>0.015435</td>\n",
       "    </tr>\n",
       "    <tr>\n",
       "      <th>14</th>\n",
       "      <td>Musical analysis</td>\n",
       "      <td>0.005288</td>\n",
       "    </tr>\n",
       "  </tbody>\n",
       "</table>\n",
       "</div>"
      ],
      "text/plain": [
       "                     title  centrality\n",
       "0              Sonata form    0.141145\n",
       "1                   Sonata    0.108460\n",
       "2                 Symphony    0.080875\n",
       "3                 Concerto    0.071836\n",
       "4         Movement (music)    0.065589\n",
       "5           String quartet    0.065478\n",
       "6             Musical form    0.047803\n",
       "7             Coda (music)    0.039774\n",
       "8                 Tonality    0.037013\n",
       "9   Recapitulation (music)    0.032453\n",
       "10      Exposition (music)    0.028997\n",
       "11     Musical development    0.026649\n",
       "12    Introduction (music)    0.022266\n",
       "13     Classical music era    0.015435\n",
       "14        Musical analysis    0.005288"
      ]
     },
     "execution_count": 48,
     "metadata": {},
     "output_type": "execute_result"
    }
   ],
   "source": [
    "centrality = gc.get_centrality()\n",
    "\n",
    "rankings = []\n",
    "\n",
    "rankings.append((wis.title, centrality[wis.title]))\n",
    "for title in wis.intro_link_titles:\n",
    "    rankings.append((title, centrality[title]))\n",
    "    \n",
    "ranking_df = pd.DataFrame(rankings, columns=[\"title\", \"centrality\"])\n",
    "ranking_df.sort_values(\"centrality\", ascending=False).reset_index().drop('index', axis=1)"
   ]
  },
  {
   "cell_type": "code",
   "execution_count": 57,
   "metadata": {
    "ExecuteTime": {
     "end_time": "2019-08-22T10:12:10.861168Z",
     "start_time": "2019-08-22T10:12:10.611846Z"
    }
   },
   "outputs": [
    {
     "data": {
      "text/plain": [
       "50.97427652733119"
      ]
     },
     "execution_count": 57,
     "metadata": {},
     "output_type": "execute_result"
    }
   ],
   "source": [
    "nx.dispersion(gc.graph, u=\"Sonata form\", v=\"Sonata form\")"
   ]
  },
  {
   "cell_type": "code",
   "execution_count": 65,
   "metadata": {
    "ExecuteTime": {
     "end_time": "2019-08-22T10:21:45.878453Z",
     "start_time": "2019-08-22T10:21:45.555738Z"
    }
   },
   "outputs": [
    {
     "data": {
      "text/html": [
       "<div>\n",
       "<style scoped>\n",
       "    .dataframe tbody tr th:only-of-type {\n",
       "        vertical-align: middle;\n",
       "    }\n",
       "\n",
       "    .dataframe tbody tr th {\n",
       "        vertical-align: top;\n",
       "    }\n",
       "\n",
       "    .dataframe thead th {\n",
       "        text-align: right;\n",
       "    }\n",
       "</style>\n",
       "<table border=\"1\" class=\"dataframe\">\n",
       "  <thead>\n",
       "    <tr style=\"text-align: right;\">\n",
       "      <th></th>\n",
       "      <th>node1</th>\n",
       "      <th>node2</th>\n",
       "      <th>dispersion</th>\n",
       "    </tr>\n",
       "  </thead>\n",
       "  <tbody>\n",
       "    <tr>\n",
       "      <th>0</th>\n",
       "      <td>sonata form</td>\n",
       "      <td>Sonata form</td>\n",
       "      <td>50.974277</td>\n",
       "    </tr>\n",
       "    <tr>\n",
       "      <th>1</th>\n",
       "      <td>sonata form</td>\n",
       "      <td>Musical form</td>\n",
       "      <td>2.166667</td>\n",
       "    </tr>\n",
       "    <tr>\n",
       "      <th>2</th>\n",
       "      <td>sonata form</td>\n",
       "      <td>Classical music era</td>\n",
       "      <td>0.000000</td>\n",
       "    </tr>\n",
       "    <tr>\n",
       "      <th>3</th>\n",
       "      <td>sonata form</td>\n",
       "      <td>Movement (music)</td>\n",
       "      <td>0.534884</td>\n",
       "    </tr>\n",
       "    <tr>\n",
       "      <th>4</th>\n",
       "      <td>sonata form</td>\n",
       "      <td>Tonality</td>\n",
       "      <td>3.000000</td>\n",
       "    </tr>\n",
       "    <tr>\n",
       "      <th>5</th>\n",
       "      <td>sonata form</td>\n",
       "      <td>Exposition (music)</td>\n",
       "      <td>2.517857</td>\n",
       "    </tr>\n",
       "    <tr>\n",
       "      <th>6</th>\n",
       "      <td>sonata form</td>\n",
       "      <td>Musical development</td>\n",
       "      <td>0.000000</td>\n",
       "    </tr>\n",
       "    <tr>\n",
       "      <th>7</th>\n",
       "      <td>sonata form</td>\n",
       "      <td>Recapitulation (music)</td>\n",
       "      <td>1.468085</td>\n",
       "    </tr>\n",
       "    <tr>\n",
       "      <th>8</th>\n",
       "      <td>sonata form</td>\n",
       "      <td>Introduction (music)</td>\n",
       "      <td>2.081633</td>\n",
       "    </tr>\n",
       "    <tr>\n",
       "      <th>9</th>\n",
       "      <td>sonata form</td>\n",
       "      <td>Coda (music)</td>\n",
       "      <td>2.358491</td>\n",
       "    </tr>\n",
       "    <tr>\n",
       "      <th>10</th>\n",
       "      <td>sonata form</td>\n",
       "      <td>Sonata</td>\n",
       "      <td>7.560000</td>\n",
       "    </tr>\n",
       "    <tr>\n",
       "      <th>11</th>\n",
       "      <td>sonata form</td>\n",
       "      <td>Symphony</td>\n",
       "      <td>1.241379</td>\n",
       "    </tr>\n",
       "    <tr>\n",
       "      <th>12</th>\n",
       "      <td>sonata form</td>\n",
       "      <td>Concerto</td>\n",
       "      <td>1.709677</td>\n",
       "    </tr>\n",
       "    <tr>\n",
       "      <th>13</th>\n",
       "      <td>sonata form</td>\n",
       "      <td>String quartet</td>\n",
       "      <td>3.200000</td>\n",
       "    </tr>\n",
       "    <tr>\n",
       "      <th>14</th>\n",
       "      <td>sonata form</td>\n",
       "      <td>Musical analysis</td>\n",
       "      <td>0.666667</td>\n",
       "    </tr>\n",
       "  </tbody>\n",
       "</table>\n",
       "</div>"
      ],
      "text/plain": [
       "          node1                   node2  dispersion\n",
       "0   sonata form             Sonata form   50.974277\n",
       "1   sonata form            Musical form    2.166667\n",
       "2   sonata form     Classical music era    0.000000\n",
       "3   sonata form        Movement (music)    0.534884\n",
       "4   sonata form                Tonality    3.000000\n",
       "5   sonata form      Exposition (music)    2.517857\n",
       "6   sonata form     Musical development    0.000000\n",
       "7   sonata form  Recapitulation (music)    1.468085\n",
       "8   sonata form    Introduction (music)    2.081633\n",
       "9   sonata form            Coda (music)    2.358491\n",
       "10  sonata form                  Sonata    7.560000\n",
       "11  sonata form                Symphony    1.241379\n",
       "12  sonata form                Concerto    1.709677\n",
       "13  sonata form          String quartet    3.200000\n",
       "14  sonata form        Musical analysis    0.666667"
      ]
     },
     "execution_count": 65,
     "metadata": {},
     "output_type": "execute_result"
    }
   ],
   "source": [
    "pd.DataFrame([(\"sonata form\", node, nx.dispersion(gc.graph, \"Sonata form\", node)) for node in ranking_df.title], columns=[\"node1\", \"node2\", \"dispersion\"])"
   ]
  },
  {
   "cell_type": "code",
   "execution_count": 68,
   "metadata": {
    "ExecuteTime": {
     "end_time": "2019-08-22T10:25:29.513129Z",
     "start_time": "2019-08-22T10:25:29.508396Z"
    }
   },
   "outputs": [
    {
     "data": {
      "text/plain": [
       "0.11732223870820191"
      ]
     },
     "execution_count": 68,
     "metadata": {},
     "output_type": "execute_result"
    }
   ],
   "source": [
    "nx.degree_pearson_correlation_coefficient(gc.graph, nodes=list(ranking_df.title))"
   ]
  }
 ],
 "metadata": {
  "kernelspec": {
   "display_name": "Python 3",
   "language": "python",
   "name": "python3"
  },
  "language_info": {
   "codemirror_mode": {
    "name": "ipython",
    "version": 3
   },
   "file_extension": ".py",
   "mimetype": "text/x-python",
   "name": "python",
   "nbconvert_exporter": "python",
   "pygments_lexer": "ipython3",
   "version": "3.7.3"
  }
 },
 "nbformat": 4,
 "nbformat_minor": 2
}
