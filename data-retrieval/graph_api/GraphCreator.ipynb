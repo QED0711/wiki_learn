{
 "cells": [
  {
   "cell_type": "code",
   "execution_count": 1,
   "metadata": {
    "ExecuteTime": {
     "end_time": "2019-08-22T09:26:49.432512Z",
     "start_time": "2019-08-22T09:26:48.946239Z"
    }
   },
   "outputs": [],
   "source": [
    "%load_ext autoreload\n",
    "%autoreload 1\n",
    "\n",
    "import sys\n",
    "sys.path.append(\"../../utils/\")\n",
    "\n",
    "import matplotlib.pyplot as plt\n",
    "%matplotlib inline\n",
    "import pdb\n",
    "import requests\n",
    "import re\n",
    "\n",
    "import pandas as pd\n",
    "\n",
    "import networkx as nx\n",
    "\n",
    "import signal\n",
    "\n",
    "import warnings\n",
    "warnings.filterwarnings(\"ignore\")\n",
    "\n",
    "from wiki_intro_scrapper import WikiIntroScrapper\n",
    "from WikiMultiQuery import wiki_multi_query\n",
    "\n",
    "%aimport wiki_intro_scrapper\n",
    "%aimport WikiMultiQuery"
   ]
  },
  {
   "cell_type": "code",
   "execution_count": 26,
   "metadata": {
    "ExecuteTime": {
     "end_time": "2019-08-22T09:37:23.900664Z",
     "start_time": "2019-08-22T09:37:23.887359Z"
    }
   },
   "outputs": [],
   "source": [
    "class GraphCreator:\n",
    "\n",
    "    def __init__(self, entry):\n",
    "        self.graph = nx.DiGraph()\n",
    "\n",
    "        self.visited = {entry}\n",
    "        self.next_links = []\n",
    "        \n",
    "        self.query_articles([entry])\n",
    "        \n",
    "\n",
    "        # setup timeout function\n",
    "        def handle_alarm(signum, frame):\n",
    "            raise RuntimeError\n",
    "\n",
    "        signal.signal(signal.SIGALRM, handle_alarm)\n",
    "\n",
    "    def add_edges(self, articles):\n",
    "        for article in articles:\n",
    "            self.graph.add_edges_from([(article['title'], link) for link in article['links']])\n",
    "            self.graph.add_edges_from([(linkhere, article['title']) for linkhere in article['linkshere']])\n",
    "\n",
    "    def plot_graph(self):\n",
    "        nx.draw(self.graph)\n",
    "        plt.show()\n",
    "\n",
    "    def get_degrees(self):\n",
    "        return sorted([(key, val) for key, val in dict(self.graph.degree()).items()], key=lambda x: x[1], reverse=True)\n",
    "\n",
    "    def get_centrality(self, sort_results=False):\n",
    "        if sort_results:\n",
    "            return sorted([(key, val) for key, val in dict(nx.eigenvector_centrality(self.graph)).items()], key=lambda x: x[1], reverse=True)\n",
    "        else:\n",
    "            return nx.eigenvector_centrality(self.graph)\n",
    "\n",
    "    def expand_network(self, group_size=10, timeout=10):\n",
    "        \n",
    "        num_links = len(self.next_links)\n",
    "        \n",
    "        link_group = []\n",
    "        \n",
    "        for i in range(num_links):\n",
    "            link = self.next_links.pop(0)\n",
    "            if not link in self.visited:\n",
    "                \n",
    "                link_group.append(link)\n",
    "                \n",
    "                if len(link_group) == group_size or (i == num_links - 1 and len(link_group) > 0):\n",
    "                    print(\"{:.2%}\".format(i/num_links))\n",
    "                    try:\n",
    "                        signal.alarm(timeout)\n",
    "                        self.visited.update(link_group)\n",
    "                        self.query_articles(link_group)\n",
    "                        signal.alarm(0)\n",
    "                        link_group = []\n",
    "                    except:\n",
    "                        print(\"==SKIPPED==\")\n",
    "                        link_group = []\n",
    "                        continue\n",
    "        signal.alarm(0)\n",
    "    \n",
    "    def update_next_links(self, articles):\n",
    "        for article in articles:\n",
    "            for link in article['links']:\n",
    "                self.next_links.append(link)\n",
    "            \n",
    "        \n",
    "    def query_articles(self, titles, generate_graph=True):            \n",
    "        articles = wiki_multi_query(titles)\n",
    "        \n",
    "        self.update_next_links(articles)\n",
    "        self.add_edges(articles)\n"
   ]
  },
  {
   "cell_type": "markdown",
   "metadata": {},
   "source": [
    "## TESTS"
   ]
  },
  {
   "cell_type": "code",
   "execution_count": 27,
   "metadata": {
    "ExecuteTime": {
     "end_time": "2019-08-22T09:37:25.256816Z",
     "start_time": "2019-08-22T09:37:24.753930Z"
    }
   },
   "outputs": [],
   "source": [
    "gc = GraphCreator(\"Random forest\")\n",
    "wis = WikiIntroScrapper(\"https://en.wikipedia.org/wiki/Random_forest\")\n",
    "wis.parse_intro_links();"
   ]
  },
  {
   "cell_type": "code",
   "execution_count": 28,
   "metadata": {
    "ExecuteTime": {
     "end_time": "2019-08-22T09:37:25.260951Z",
     "start_time": "2019-08-22T09:37:25.258190Z"
    }
   },
   "outputs": [
    {
     "data": {
      "text/plain": [
       "['Ensemble learning',\n",
       " 'Statistical classification',\n",
       " 'Regression analysis',\n",
       " 'Decision tree learning',\n",
       " 'Mode (statistics)',\n",
       " 'Overfitting',\n",
       " 'Test set',\n",
       " 'Tin Kam Ho',\n",
       " 'Random subspace method',\n",
       " 'Leo Breiman',\n",
       " 'Trademark',\n",
       " 'Minitab',\n",
       " 'Bootstrap aggregating',\n",
       " 'Donald Geman']"
      ]
     },
     "execution_count": 28,
     "metadata": {},
     "output_type": "execute_result"
    }
   ],
   "source": [
    "wis.intro_link_titles"
   ]
  },
  {
   "cell_type": "code",
   "execution_count": 29,
   "metadata": {
    "ExecuteTime": {
     "end_time": "2019-08-22T09:37:25.278843Z",
     "start_time": "2019-08-22T09:37:25.262306Z"
    }
   },
   "outputs": [
    {
     "name": "stdout",
     "output_type": "stream",
     "text": [
      "Random forest 0.6037188521312119\n",
      "Ensemble learning 0.06835910518451588\n",
      "Statistical classification 0.06835910518451588\n",
      "Regression analysis 0.06835910518451588\n",
      "Decision tree learning 0.06835910518451588\n",
      "Mode (statistics) 0.06835910518451588\n",
      "Overfitting 0.06835910518451588\n",
      "Test set 0.06835910518451588\n",
      "Tin Kam Ho 0.06835910518451588\n",
      "Random subspace method 0.06835910518451588\n",
      "Leo Breiman 0.06835910518451588\n",
      "Trademark 0.06835910518451588\n",
      "Minitab 0.06835910518451588\n",
      "Bootstrap aggregating 0.06835910518451588\n",
      "Donald Geman 0.06835910518451588\n"
     ]
    }
   ],
   "source": [
    "centrality = gc.get_centrality()\n",
    "print (wis.title, centrality[wis.title])\n",
    "for title in wis.intro_link_titles:\n",
    "    print(title, centrality[title])"
   ]
  },
  {
   "cell_type": "code",
   "execution_count": 30,
   "metadata": {
    "ExecuteTime": {
     "end_time": "2019-08-22T09:38:31.569929Z",
     "start_time": "2019-08-22T09:37:25.788257Z"
    },
    "scrolled": true
   },
   "outputs": [
    {
     "name": "stdout",
     "output_type": "stream",
     "text": [
      "2.94%\n",
      "==SKIPPED==\n",
      "6.62%\n",
      "10.29%\n",
      "13.97%\n",
      "==SKIPPED==\n",
      "17.65%\n",
      "21.32%\n",
      "25.00%\n",
      "==SKIPPED==\n",
      "28.68%\n",
      "32.35%\n",
      "36.03%\n",
      "39.71%\n",
      "43.38%\n",
      "==SKIPPED==\n",
      "47.06%\n",
      "50.74%\n",
      "54.41%\n",
      "58.09%\n",
      "61.76%\n",
      "65.44%\n",
      "69.12%\n",
      "72.79%\n",
      "76.47%\n",
      "==SKIPPED==\n",
      "80.15%\n",
      "83.82%\n",
      "87.50%\n",
      "91.18%\n",
      "94.85%\n",
      "98.53%\n",
      "99.26%\n"
     ]
    }
   ],
   "source": [
    "gc.expand_network(group_size=5)"
   ]
  },
  {
   "cell_type": "code",
   "execution_count": 31,
   "metadata": {
    "ExecuteTime": {
     "end_time": "2019-08-22T09:38:32.635287Z",
     "start_time": "2019-08-22T09:38:31.571534Z"
    },
    "scrolled": false
   },
   "outputs": [
    {
     "data": {
      "text/html": [
       "<div>\n",
       "<style scoped>\n",
       "    .dataframe tbody tr th:only-of-type {\n",
       "        vertical-align: middle;\n",
       "    }\n",
       "\n",
       "    .dataframe tbody tr th {\n",
       "        vertical-align: top;\n",
       "    }\n",
       "\n",
       "    .dataframe thead th {\n",
       "        text-align: right;\n",
       "    }\n",
       "</style>\n",
       "<table border=\"1\" class=\"dataframe\">\n",
       "  <thead>\n",
       "    <tr style=\"text-align: right;\">\n",
       "      <th></th>\n",
       "      <th>title</th>\n",
       "      <th>centrality</th>\n",
       "    </tr>\n",
       "  </thead>\n",
       "  <tbody>\n",
       "    <tr>\n",
       "      <th>0</th>\n",
       "      <td>Regression analysis</td>\n",
       "      <td>0.175859</td>\n",
       "    </tr>\n",
       "    <tr>\n",
       "      <th>1</th>\n",
       "      <td>Statistical classification</td>\n",
       "      <td>0.163980</td>\n",
       "    </tr>\n",
       "    <tr>\n",
       "      <th>2</th>\n",
       "      <td>Mode (statistics)</td>\n",
       "      <td>0.099105</td>\n",
       "    </tr>\n",
       "    <tr>\n",
       "      <th>3</th>\n",
       "      <td>Decision tree learning</td>\n",
       "      <td>0.081395</td>\n",
       "    </tr>\n",
       "    <tr>\n",
       "      <th>4</th>\n",
       "      <td>Bootstrap aggregating</td>\n",
       "      <td>0.079864</td>\n",
       "    </tr>\n",
       "    <tr>\n",
       "      <th>5</th>\n",
       "      <td>Random forest</td>\n",
       "      <td>0.078881</td>\n",
       "    </tr>\n",
       "    <tr>\n",
       "      <th>6</th>\n",
       "      <td>Ensemble learning</td>\n",
       "      <td>0.078719</td>\n",
       "    </tr>\n",
       "    <tr>\n",
       "      <th>7</th>\n",
       "      <td>Overfitting</td>\n",
       "      <td>0.026219</td>\n",
       "    </tr>\n",
       "    <tr>\n",
       "      <th>8</th>\n",
       "      <td>Leo Breiman</td>\n",
       "      <td>0.007834</td>\n",
       "    </tr>\n",
       "    <tr>\n",
       "      <th>9</th>\n",
       "      <td>Test set</td>\n",
       "      <td>0.004663</td>\n",
       "    </tr>\n",
       "    <tr>\n",
       "      <th>10</th>\n",
       "      <td>Minitab</td>\n",
       "      <td>0.004318</td>\n",
       "    </tr>\n",
       "    <tr>\n",
       "      <th>11</th>\n",
       "      <td>Random subspace method</td>\n",
       "      <td>0.003848</td>\n",
       "    </tr>\n",
       "    <tr>\n",
       "      <th>12</th>\n",
       "      <td>Trademark</td>\n",
       "      <td>0.001329</td>\n",
       "    </tr>\n",
       "    <tr>\n",
       "      <th>13</th>\n",
       "      <td>Tin Kam Ho</td>\n",
       "      <td>0.000986</td>\n",
       "    </tr>\n",
       "    <tr>\n",
       "      <th>14</th>\n",
       "      <td>Donald Geman</td>\n",
       "      <td>0.000986</td>\n",
       "    </tr>\n",
       "  </tbody>\n",
       "</table>\n",
       "</div>"
      ],
      "text/plain": [
       "                         title  centrality\n",
       "0          Regression analysis    0.175859\n",
       "1   Statistical classification    0.163980\n",
       "2            Mode (statistics)    0.099105\n",
       "3       Decision tree learning    0.081395\n",
       "4        Bootstrap aggregating    0.079864\n",
       "5                Random forest    0.078881\n",
       "6            Ensemble learning    0.078719\n",
       "7                  Overfitting    0.026219\n",
       "8                  Leo Breiman    0.007834\n",
       "9                     Test set    0.004663\n",
       "10                     Minitab    0.004318\n",
       "11      Random subspace method    0.003848\n",
       "12                   Trademark    0.001329\n",
       "13                  Tin Kam Ho    0.000986\n",
       "14                Donald Geman    0.000986"
      ]
     },
     "execution_count": 31,
     "metadata": {},
     "output_type": "execute_result"
    }
   ],
   "source": [
    "centrality = gc.get_centrality()\n",
    "\n",
    "rankings = []\n",
    "\n",
    "rankings.append((wis.title, centrality[wis.title]))\n",
    "for title in wis.intro_link_titles:\n",
    "    rankings.append((title, centrality[title]))\n",
    "    \n",
    "ranking_df = pd.DataFrame(rankings, columns=[\"title\", \"centrality\"])\n",
    "ranking_df.sort_values(\"centrality\", ascending=False).reset_index().drop('index', axis=1)"
   ]
  }
 ],
 "metadata": {
  "kernelspec": {
   "display_name": "Python 3",
   "language": "python",
   "name": "python3"
  },
  "language_info": {
   "codemirror_mode": {
    "name": "ipython",
    "version": 3
   },
   "file_extension": ".py",
   "mimetype": "text/x-python",
   "name": "python",
   "nbconvert_exporter": "python",
   "pygments_lexer": "ipython3",
   "version": "3.7.3"
  }
 },
 "nbformat": 4,
 "nbformat_minor": 2
}
