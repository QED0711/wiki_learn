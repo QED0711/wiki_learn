{
 "cells": [
  {
   "cell_type": "code",
   "execution_count": 2,
   "metadata": {
    "ExecuteTime": {
     "end_time": "2019-08-22T11:43:37.053614Z",
     "start_time": "2019-08-22T11:43:36.522837Z"
    }
   },
   "outputs": [],
   "source": [
    "%load_ext autoreload\n",
    "%autoreload 1\n",
    "\n",
    "import sys\n",
    "sys.path.append(\"../../utils/\")\n",
    "\n",
    "import matplotlib.pyplot as plt\n",
    "%matplotlib inline\n",
    "import pdb\n",
    "import requests\n",
    "import re\n",
    "\n",
    "import pandas as pd\n",
    "\n",
    "import networkx as nx\n",
    "\n",
    "import signal\n",
    "\n",
    "import warnings\n",
    "warnings.filterwarnings(\"ignore\")\n",
    "\n",
    "from wiki_intro_scrapper import WikiIntroScrapper\n",
    "from WikiMultiQuery import wiki_multi_query\n",
    "\n",
    "%aimport wiki_intro_scrapper\n",
    "%aimport WikiMultiQuery"
   ]
  },
  {
   "cell_type": "code",
   "execution_count": 3,
   "metadata": {
    "ExecuteTime": {
     "end_time": "2019-08-22T11:43:37.094092Z",
     "start_time": "2019-08-22T11:43:37.055574Z"
    }
   },
   "outputs": [],
   "source": [
    "class GraphCreator:\n",
    "\n",
    "    def __init__(self, entry):\n",
    "        self.graph = nx.DiGraph()\n",
    "\n",
    "        self.visited = {entry}\n",
    "        self.next_links = []\n",
    "        \n",
    "        self.query_articles([entry])\n",
    "        \n",
    "\n",
    "        # setup timeout function\n",
    "        def handle_alarm(signum, frame):\n",
    "            raise RuntimeError\n",
    "\n",
    "        signal.signal(signal.SIGALRM, handle_alarm)\n",
    "\n",
    "    def add_edges(self, articles):\n",
    "        for article in articles:\n",
    "            self.graph.add_edges_from([(article['title'], link) for link in article['links']])\n",
    "            self.graph.add_edges_from([(linkhere, article['title']) for linkhere in article['linkshere']])\n",
    "\n",
    "    def plot_graph(self):\n",
    "        nx.draw(self.graph)\n",
    "        plt.show()\n",
    "\n",
    "    def get_degrees(self):\n",
    "        return sorted([(key, val) for key, val in dict(self.graph.degree()).items()], key=lambda x: x[1], reverse=True)\n",
    "\n",
    "    def get_centrality(self, sort_results=False):\n",
    "        if sort_results:\n",
    "            return sorted([(key, val) for key, val in dict(nx.eigenvector_centrality(self.graph)).items()], key=lambda x: x[1], reverse=True)\n",
    "        else:\n",
    "            return nx.eigenvector_centrality(self.graph)\n",
    "\n",
    "    def expand_network(self, group_size=10, timeout=10):\n",
    "        \n",
    "        num_links = len(self.next_links)\n",
    "        \n",
    "        link_group = []\n",
    "        \n",
    "        for i in range(num_links):\n",
    "            link = self.next_links.pop(0)\n",
    "            if not link in self.visited:\n",
    "                \n",
    "                link_group.append(link)\n",
    "                \n",
    "                if len(link_group) == group_size or (i == num_links - 1 and len(link_group) > 0):\n",
    "#                     print(\"{:.2%}\".format(i/num_links))\n",
    "                    try:\n",
    "                        signal.alarm(timeout)\n",
    "                        self.visited.update(link_group)\n",
    "                        self.query_articles(link_group)\n",
    "                        signal.alarm(0)\n",
    "                        link_group = []\n",
    "                    except:\n",
    "                        print(\"==SKIPPED==\")\n",
    "                        link_group = []\n",
    "                        continue\n",
    "        signal.alarm(0)\n",
    "    \n",
    "    def update_next_links(self, articles):\n",
    "        for article in articles:\n",
    "            for link in article['links']:\n",
    "                self.next_links.append(link)\n",
    "            \n",
    "        \n",
    "    def query_articles(self, titles, generate_graph=True):            \n",
    "        articles = wiki_multi_query(titles)\n",
    "        \n",
    "        self.update_next_links(articles)\n",
    "        self.add_edges(articles)\n"
   ]
  },
  {
   "cell_type": "markdown",
   "metadata": {},
   "source": [
    "## TESTS"
   ]
  },
  {
   "cell_type": "code",
   "execution_count": 18,
   "metadata": {
    "ExecuteTime": {
     "end_time": "2019-08-22T11:52:54.212864Z",
     "start_time": "2019-08-22T11:52:53.617006Z"
    }
   },
   "outputs": [],
   "source": [
    "gc = GraphCreator(\"Random forest\")\n",
    "wis = WikiIntroScrapper(\"https://en.wikipedia.org/wiki/Random_forest\")\n",
    "wis.parse_intro_links();"
   ]
  },
  {
   "cell_type": "code",
   "execution_count": 19,
   "metadata": {
    "ExecuteTime": {
     "end_time": "2019-08-22T11:52:54.848584Z",
     "start_time": "2019-08-22T11:52:54.839563Z"
    }
   },
   "outputs": [
    {
     "data": {
      "text/plain": [
       "['Ensemble learning',\n",
       " 'Statistical classification',\n",
       " 'Regression analysis',\n",
       " 'Decision tree learning',\n",
       " 'Mode (statistics)',\n",
       " 'Overfitting',\n",
       " 'Test set',\n",
       " 'Tin Kam Ho',\n",
       " 'Random subspace method',\n",
       " 'Leo Breiman',\n",
       " 'Trademark',\n",
       " 'Minitab',\n",
       " 'Bootstrap aggregating',\n",
       " 'Donald Geman']"
      ]
     },
     "execution_count": 19,
     "metadata": {},
     "output_type": "execute_result"
    }
   ],
   "source": [
    "wis.intro_link_titles"
   ]
  },
  {
   "cell_type": "code",
   "execution_count": 20,
   "metadata": {
    "ExecuteTime": {
     "end_time": "2019-08-22T11:52:55.409600Z",
     "start_time": "2019-08-22T11:52:55.371488Z"
    }
   },
   "outputs": [
    {
     "name": "stdout",
     "output_type": "stream",
     "text": [
      "Random forest 0.6037188521312119\n",
      "Ensemble learning 0.06835910518451588\n",
      "Statistical classification 0.06835910518451588\n",
      "Regression analysis 0.06835910518451588\n",
      "Decision tree learning 0.06835910518451588\n",
      "Mode (statistics) 0.06835910518451588\n",
      "Overfitting 0.06835910518451588\n",
      "Test set 0.06835910518451588\n",
      "Tin Kam Ho 0.06835910518451588\n",
      "Random subspace method 0.06835910518451588\n",
      "Leo Breiman 0.06835910518451588\n",
      "Trademark 0.06835910518451588\n",
      "Minitab 0.06835910518451588\n",
      "Bootstrap aggregating 0.06835910518451588\n",
      "Donald Geman 0.06835910518451588\n"
     ]
    }
   ],
   "source": [
    "centrality = gc.get_centrality()\n",
    "print (wis.title, centrality[wis.title])\n",
    "for title in wis.intro_link_titles:\n",
    "    print(title, centrality[title])"
   ]
  },
  {
   "cell_type": "code",
   "execution_count": 21,
   "metadata": {
    "ExecuteTime": {
     "end_time": "2019-08-22T11:54:35.219856Z",
     "start_time": "2019-08-22T11:52:55.557427Z"
    },
    "scrolled": true
   },
   "outputs": [
    {
     "name": "stdout",
     "output_type": "stream",
     "text": [
      "==SKIPPED==\n",
      "==SKIPPED==\n",
      "==SKIPPED==\n",
      "==SKIPPED==\n",
      "==SKIPPED==\n"
     ]
    }
   ],
   "source": [
    "gc.expand_network(group_size=5, timeout=20)"
   ]
  },
  {
   "cell_type": "code",
   "execution_count": 22,
   "metadata": {
    "ExecuteTime": {
     "end_time": "2019-08-22T11:54:36.128215Z",
     "start_time": "2019-08-22T11:54:35.225111Z"
    },
    "scrolled": false
   },
   "outputs": [
    {
     "data": {
      "text/html": [
       "<div>\n",
       "<style scoped>\n",
       "    .dataframe tbody tr th:only-of-type {\n",
       "        vertical-align: middle;\n",
       "    }\n",
       "\n",
       "    .dataframe tbody tr th {\n",
       "        vertical-align: top;\n",
       "    }\n",
       "\n",
       "    .dataframe thead th {\n",
       "        text-align: right;\n",
       "    }\n",
       "</style>\n",
       "<table border=\"1\" class=\"dataframe\">\n",
       "  <thead>\n",
       "    <tr style=\"text-align: right;\">\n",
       "      <th></th>\n",
       "      <th>title</th>\n",
       "      <th>centrality</th>\n",
       "    </tr>\n",
       "  </thead>\n",
       "  <tbody>\n",
       "    <tr>\n",
       "      <th>0</th>\n",
       "      <td>Regression analysis</td>\n",
       "      <td>0.175859</td>\n",
       "    </tr>\n",
       "    <tr>\n",
       "      <th>1</th>\n",
       "      <td>Statistical classification</td>\n",
       "      <td>0.163980</td>\n",
       "    </tr>\n",
       "    <tr>\n",
       "      <th>2</th>\n",
       "      <td>Mode (statistics)</td>\n",
       "      <td>0.099105</td>\n",
       "    </tr>\n",
       "    <tr>\n",
       "      <th>3</th>\n",
       "      <td>Decision tree learning</td>\n",
       "      <td>0.081395</td>\n",
       "    </tr>\n",
       "    <tr>\n",
       "      <th>4</th>\n",
       "      <td>Bootstrap aggregating</td>\n",
       "      <td>0.079864</td>\n",
       "    </tr>\n",
       "    <tr>\n",
       "      <th>5</th>\n",
       "      <td>Random forest</td>\n",
       "      <td>0.078881</td>\n",
       "    </tr>\n",
       "    <tr>\n",
       "      <th>6</th>\n",
       "      <td>Ensemble learning</td>\n",
       "      <td>0.078719</td>\n",
       "    </tr>\n",
       "    <tr>\n",
       "      <th>7</th>\n",
       "      <td>Overfitting</td>\n",
       "      <td>0.026219</td>\n",
       "    </tr>\n",
       "    <tr>\n",
       "      <th>8</th>\n",
       "      <td>Leo Breiman</td>\n",
       "      <td>0.007834</td>\n",
       "    </tr>\n",
       "    <tr>\n",
       "      <th>9</th>\n",
       "      <td>Test set</td>\n",
       "      <td>0.004663</td>\n",
       "    </tr>\n",
       "    <tr>\n",
       "      <th>10</th>\n",
       "      <td>Minitab</td>\n",
       "      <td>0.004318</td>\n",
       "    </tr>\n",
       "    <tr>\n",
       "      <th>11</th>\n",
       "      <td>Random subspace method</td>\n",
       "      <td>0.003848</td>\n",
       "    </tr>\n",
       "    <tr>\n",
       "      <th>12</th>\n",
       "      <td>Trademark</td>\n",
       "      <td>0.001329</td>\n",
       "    </tr>\n",
       "    <tr>\n",
       "      <th>13</th>\n",
       "      <td>Tin Kam Ho</td>\n",
       "      <td>0.000986</td>\n",
       "    </tr>\n",
       "    <tr>\n",
       "      <th>14</th>\n",
       "      <td>Donald Geman</td>\n",
       "      <td>0.000986</td>\n",
       "    </tr>\n",
       "  </tbody>\n",
       "</table>\n",
       "</div>"
      ],
      "text/plain": [
       "                         title  centrality\n",
       "0          Regression analysis    0.175859\n",
       "1   Statistical classification    0.163980\n",
       "2            Mode (statistics)    0.099105\n",
       "3       Decision tree learning    0.081395\n",
       "4        Bootstrap aggregating    0.079864\n",
       "5                Random forest    0.078881\n",
       "6            Ensemble learning    0.078719\n",
       "7                  Overfitting    0.026219\n",
       "8                  Leo Breiman    0.007834\n",
       "9                     Test set    0.004663\n",
       "10                     Minitab    0.004318\n",
       "11      Random subspace method    0.003848\n",
       "12                   Trademark    0.001329\n",
       "13                  Tin Kam Ho    0.000986\n",
       "14                Donald Geman    0.000986"
      ]
     },
     "execution_count": 22,
     "metadata": {},
     "output_type": "execute_result"
    }
   ],
   "source": [
    "centrality = gc.get_centrality()\n",
    "\n",
    "rankings = []\n",
    "\n",
    "rankings.append((wis.title, centrality[wis.title]))\n",
    "for title in wis.intro_link_titles:\n",
    "    rankings.append((title, centrality[title]))\n",
    "    \n",
    "ranking_df = pd.DataFrame(rankings, columns=[\"title\", \"centrality\"])\n",
    "ranking_df.sort_values(\"centrality\", ascending=False).reset_index().drop('index', axis=1)"
   ]
  },
  {
   "cell_type": "code",
   "execution_count": 23,
   "metadata": {
    "ExecuteTime": {
     "end_time": "2019-08-22T11:54:36.145025Z",
     "start_time": "2019-08-22T11:54:36.130333Z"
    }
   },
   "outputs": [
    {
     "data": {
      "text/plain": [
       "0.0"
      ]
     },
     "execution_count": 23,
     "metadata": {},
     "output_type": "execute_result"
    }
   ],
   "source": [
    "nx.dispersion(gc.graph, u=\"Decision tree\", v=\"Probability\")"
   ]
  },
  {
   "cell_type": "code",
   "execution_count": 24,
   "metadata": {
    "ExecuteTime": {
     "end_time": "2019-08-22T11:54:36.173378Z",
     "start_time": "2019-08-22T11:54:36.147689Z"
    }
   },
   "outputs": [
    {
     "data": {
      "text/html": [
       "<div>\n",
       "<style scoped>\n",
       "    .dataframe tbody tr th:only-of-type {\n",
       "        vertical-align: middle;\n",
       "    }\n",
       "\n",
       "    .dataframe tbody tr th {\n",
       "        vertical-align: top;\n",
       "    }\n",
       "\n",
       "    .dataframe thead th {\n",
       "        text-align: right;\n",
       "    }\n",
       "</style>\n",
       "<table border=\"1\" class=\"dataframe\">\n",
       "  <thead>\n",
       "    <tr style=\"text-align: right;\">\n",
       "      <th></th>\n",
       "      <th>node1</th>\n",
       "      <th>node2</th>\n",
       "      <th>dispersion</th>\n",
       "    </tr>\n",
       "  </thead>\n",
       "  <tbody>\n",
       "    <tr>\n",
       "      <th>7</th>\n",
       "      <td>Decision tree</td>\n",
       "      <td>Test set</td>\n",
       "      <td>0.000000</td>\n",
       "    </tr>\n",
       "    <tr>\n",
       "      <th>14</th>\n",
       "      <td>Decision tree</td>\n",
       "      <td>Donald Geman</td>\n",
       "      <td>0.000000</td>\n",
       "    </tr>\n",
       "    <tr>\n",
       "      <th>13</th>\n",
       "      <td>Decision tree</td>\n",
       "      <td>Bootstrap aggregating</td>\n",
       "      <td>0.166667</td>\n",
       "    </tr>\n",
       "    <tr>\n",
       "      <th>1</th>\n",
       "      <td>Decision tree</td>\n",
       "      <td>Ensemble learning</td>\n",
       "      <td>0.285714</td>\n",
       "    </tr>\n",
       "    <tr>\n",
       "      <th>5</th>\n",
       "      <td>Decision tree</td>\n",
       "      <td>Mode (statistics)</td>\n",
       "      <td>0.500000</td>\n",
       "    </tr>\n",
       "    <tr>\n",
       "      <th>11</th>\n",
       "      <td>Decision tree</td>\n",
       "      <td>Trademark</td>\n",
       "      <td>0.500000</td>\n",
       "    </tr>\n",
       "    <tr>\n",
       "      <th>12</th>\n",
       "      <td>Decision tree</td>\n",
       "      <td>Minitab</td>\n",
       "      <td>0.500000</td>\n",
       "    </tr>\n",
       "    <tr>\n",
       "      <th>8</th>\n",
       "      <td>Decision tree</td>\n",
       "      <td>Tin Kam Ho</td>\n",
       "      <td>0.666667</td>\n",
       "    </tr>\n",
       "    <tr>\n",
       "      <th>10</th>\n",
       "      <td>Decision tree</td>\n",
       "      <td>Leo Breiman</td>\n",
       "      <td>0.666667</td>\n",
       "    </tr>\n",
       "    <tr>\n",
       "      <th>3</th>\n",
       "      <td>Decision tree</td>\n",
       "      <td>Regression analysis</td>\n",
       "      <td>1.000000</td>\n",
       "    </tr>\n",
       "    <tr>\n",
       "      <th>9</th>\n",
       "      <td>Decision tree</td>\n",
       "      <td>Random subspace method</td>\n",
       "      <td>1.428571</td>\n",
       "    </tr>\n",
       "    <tr>\n",
       "      <th>0</th>\n",
       "      <td>Decision tree</td>\n",
       "      <td>Random forest</td>\n",
       "      <td>1.500000</td>\n",
       "    </tr>\n",
       "    <tr>\n",
       "      <th>6</th>\n",
       "      <td>Decision tree</td>\n",
       "      <td>Overfitting</td>\n",
       "      <td>2.000000</td>\n",
       "    </tr>\n",
       "    <tr>\n",
       "      <th>2</th>\n",
       "      <td>Decision tree</td>\n",
       "      <td>Statistical classification</td>\n",
       "      <td>2.111111</td>\n",
       "    </tr>\n",
       "    <tr>\n",
       "      <th>4</th>\n",
       "      <td>Decision tree</td>\n",
       "      <td>Decision tree learning</td>\n",
       "      <td>4.416667</td>\n",
       "    </tr>\n",
       "  </tbody>\n",
       "</table>\n",
       "</div>"
      ],
      "text/plain": [
       "            node1                       node2  dispersion\n",
       "7   Decision tree                    Test set    0.000000\n",
       "14  Decision tree                Donald Geman    0.000000\n",
       "13  Decision tree       Bootstrap aggregating    0.166667\n",
       "1   Decision tree           Ensemble learning    0.285714\n",
       "5   Decision tree           Mode (statistics)    0.500000\n",
       "11  Decision tree                   Trademark    0.500000\n",
       "12  Decision tree                     Minitab    0.500000\n",
       "8   Decision tree                  Tin Kam Ho    0.666667\n",
       "10  Decision tree                 Leo Breiman    0.666667\n",
       "3   Decision tree         Regression analysis    1.000000\n",
       "9   Decision tree      Random subspace method    1.428571\n",
       "0   Decision tree               Random forest    1.500000\n",
       "6   Decision tree                 Overfitting    2.000000\n",
       "2   Decision tree  Statistical classification    2.111111\n",
       "4   Decision tree      Decision tree learning    4.416667"
      ]
     },
     "execution_count": 24,
     "metadata": {},
     "output_type": "execute_result"
    }
   ],
   "source": [
    "dispersion_df = pd.DataFrame([(\"Decision tree\", node, nx.dispersion(gc.graph, \"Decision tree\", node)) for node in ranking_df.title], columns=[\"node1\", \"node2\", \"dispersion\"])\n",
    "dispersion_df.sort_values(\"dispersion\")"
   ]
  },
  {
   "cell_type": "code",
   "execution_count": 16,
   "metadata": {
    "ExecuteTime": {
     "end_time": "2019-08-22T11:52:03.125031Z",
     "start_time": "2019-08-22T11:52:02.897152Z"
    }
   },
   "outputs": [
    {
     "data": {
      "text/plain": [
       "0.23983522533074186"
      ]
     },
     "execution_count": 16,
     "metadata": {},
     "output_type": "execute_result"
    }
   ],
   "source": [
    "nx.degree_pearson_correlation_coefficient(gc.graph, nodes=list(ranking_df.title))"
   ]
  }
 ],
 "metadata": {
  "kernelspec": {
   "display_name": "Python 3",
   "language": "python",
   "name": "python3"
  },
  "language_info": {
   "codemirror_mode": {
    "name": "ipython",
    "version": 3
   },
   "file_extension": ".py",
   "mimetype": "text/x-python",
   "name": "python",
   "nbconvert_exporter": "python",
   "pygments_lexer": "ipython3",
   "version": "3.7.3"
  }
 },
 "nbformat": 4,
 "nbformat_minor": 2
}
