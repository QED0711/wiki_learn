{
 "cells": [
  {
   "cell_type": "code",
   "execution_count": 2,
   "metadata": {},
   "outputs": [],
   "source": [
    "import pdb\n",
    "import pandas as pd\n",
    "import requests\n",
    "import signal\n",
    "import pickle"
   ]
  },
  {
   "cell_type": "markdown",
   "metadata": {},
   "source": [
    "## Get Redirect helper functions"
   ]
  },
  {
   "cell_type": "code",
   "execution_count": 2,
   "metadata": {},
   "outputs": [],
   "source": [
    "def has_key(key, resp, pageid):\n",
    "    return bool(resp['query'][\"pages\"][pageid].get(key))\n",
    "\n",
    "def matches(lst1, lst2):\n",
    "    return [x for x in lst1 if x in lst2]\n",
    "    \n",
    "    \n",
    "def get_redirect_info(title):\n",
    "    params = {\n",
    "        \"action\": \"query\",\n",
    "        \"format\": \"json\",\n",
    "\n",
    "        \"titles\": title,\n",
    "\n",
    "        \"prop\": \"redirects\",\n",
    "        \n",
    "        # redirects\n",
    "        \"rdlimit\": \"max\",\n",
    "        \"rdnamespace\": 0,\n",
    "        \"rdprops\": \"pageid|title|fragment\",\n",
    "        \"rdshow\": \"!fragment\",\n",
    "        \n",
    "    }\n",
    "\n",
    "    redirects = []\n",
    "\n",
    "    def query_info(title, params):\n",
    "\n",
    "        resp = requests.get(\n",
    "            url=\"https://en.wikipedia.org/w/api.php\",\n",
    "            params=params).json()\n",
    "\n",
    "        pageid = list(resp[\"query\"]['pages'].keys())[0]\n",
    "        \n",
    "        if has_key(\"redirects\", resp, pageid):\n",
    "            for rd in resp['query'][\"pages\"][pageid]['redirects']:                \n",
    "                redirects.append(rd['title'])\n",
    "        \n",
    "        if resp.get('continue'):\n",
    "            params.update(resp.get(\"continue\"))\n",
    "            query_info(title, params)\n",
    "\n",
    "    query_info(title, params)\n",
    "    \n",
    "    return redirects"
   ]
  },
  {
   "cell_type": "markdown",
   "metadata": {},
   "source": [
    "## RedirectsAPI class"
   ]
  },
  {
   "cell_type": "code",
   "execution_count": 3,
   "metadata": {},
   "outputs": [],
   "source": [
    "class RedirectsAPI:\n",
    "\n",
    "    def __init__(self, df, min_index=0, max_index=10**7):\n",
    "        self.df = df        \n",
    "        \n",
    "        self.reset_save_df()\n",
    "        \n",
    "        # setup timeout function\n",
    "        def handle_alarm(signum, frame):\n",
    "            raise RuntimeError\n",
    "\n",
    "        signal.signal(signal.SIGALRM, handle_alarm)\n",
    "\n",
    "    def reset_save_df(self):\n",
    "        self.save_df = pd.DataFrame(columns=['title', 'redirects'])\n",
    "        \n",
    "    def verify_results(self, redirect_info):\n",
    "        if type(redirect_info) == dict:\n",
    "            return True\n",
    "        \n",
    "        return False\n",
    "        \n",
    "    def get_redirect_info(self, title):\n",
    "        try:\n",
    "            signal.alarm(5)  # allow up to 5 seconds for each api call\n",
    "            redirects = get_redirect_info(title)\n",
    "            formatted_info = {\"title\": title, \"redirects\": redirects}\n",
    "            signal.alarm(0)\n",
    "            return formatted_info\n",
    "        except:\n",
    "            return None\n",
    "    \n",
    "    def pickle_save_df(self, filename):\n",
    "        with open(\"../../data/raw/pickled_redirect_info/{}\".format(filename), \"wb\") as handler:\n",
    "            pickle.dump(self.save_df, handler,\n",
    "                        protocol=pickle.HIGHEST_PROTOCOL)\n",
    "    \n",
    "    def get_redirects(self, save_size=1000, save_index=0, save_name=\"redirect_api\"):\n",
    "\n",
    "        for i, row in self.df.iterrows():\n",
    "\n",
    "            if row[\"visited\"] == \"fail\":\n",
    "                continue\n",
    "\n",
    "            # get info for article (None if API call error)\n",
    "            redirect_info = self.get_redirect_info(row[\"title\"])\n",
    "            \n",
    "            if self.verify_results(redirect_info):\n",
    "\n",
    "                # append to df to be saved later\n",
    "                self.save_df = self.save_df.append(\n",
    "                    redirect_info, ignore_index=True)\n",
    "\n",
    "                # if the save df is at capacity, save it to a pkl file and reinitialize\n",
    "                if self.save_df.shape[0] == save_size:\n",
    "                    self.pickle_save_df(f\"{save_index}-{save_name}.pkl\")\n",
    "                    save_index += 1\n",
    "                    self.reset_save_df()\n",
    "\n",
    "        # at the end, save what remaining entries to their own pkl file\n",
    "        self.pickle_save_df(f\"{save_index}-{save_name}.pkl\")"
   ]
  },
  {
   "cell_type": "markdown",
   "metadata": {},
   "source": [
    "## Call API"
   ]
  },
  {
   "cell_type": "code",
   "execution_count": 4,
   "metadata": {},
   "outputs": [],
   "source": [
    "unique_df = pd.read_csv(\"../../data/raw/07_updated_unique_articles_visited_api.csv\")[0:14000]\n",
    "rd_api = RedirectsAPI(unique_df)\n",
    "\n",
    "rd_api.get_redirects(save_name=\"redirect_api_6\")"
   ]
  }
 ],
 "metadata": {
  "kernelspec": {
   "display_name": "Python 3",
   "language": "python",
   "name": "python3"
  },
  "language_info": {
   "codemirror_mode": {
    "name": "ipython",
    "version": 3
   },
   "file_extension": ".py",
   "mimetype": "text/x-python",
   "name": "python",
   "nbconvert_exporter": "python",
   "pygments_lexer": "ipython3",
   "version": "3.7.3"
  }
 },
 "nbformat": 4,
 "nbformat_minor": 2
}
