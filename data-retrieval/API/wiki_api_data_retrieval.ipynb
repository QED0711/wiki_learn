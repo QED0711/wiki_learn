{
 "cells": [
  {
   "cell_type": "code",
   "execution_count": 71,
   "metadata": {},
   "outputs": [],
   "source": [
    "import pdb\n",
    "\n",
    "import requests\n",
    "import pandas as pd\n",
    "import re"
   ]
  },
  {
   "cell_type": "code",
   "execution_count": 102,
   "metadata": {},
   "outputs": [],
   "source": [
    "def has_key(key, resp, pageid):\n",
    "    return bool(resp['query'][\"pages\"][pageid].get(key))\n",
    "\n",
    "def get_article_info(title):\n",
    "    params = {\n",
    "        \"action\": \"query\",\n",
    "        \"format\": \"json\",\n",
    "\n",
    "        \"titles\": title,\n",
    "\n",
    "        \"prop\": \"info|links|categories\",\n",
    "        \n",
    "        # links\n",
    "        \"pllimit\": \"max\",\n",
    "        \"plnamespace\": 0,\n",
    "        \n",
    "        # categories\n",
    "        \"cllimit\": \"max\"\n",
    "    }\n",
    "\n",
    "    links = []\n",
    "    categories = []\n",
    "\n",
    "    def query_info(title, params):\n",
    "\n",
    "        resp = requests.get(\n",
    "            url=\"https://en.wikipedia.org/w/api.php\",\n",
    "            params=params).json()\n",
    "\n",
    "        pageid = list(resp[\"query\"]['pages'].keys())[0]\n",
    "\n",
    "        if has_key(\"links\", resp, pageid):\n",
    "            for link in resp['query'][\"pages\"][pageid][\"links\"]:\n",
    "                links.append(link[\"title\"])\n",
    "        \n",
    "        if has_key(\"categories\", resp, pageid):\n",
    "            for cat in resp['query'][\"pages\"][pageid][\"categories\"]:\n",
    "                if not bool(re.findall(r\"(articles)|(uses)|(commons)\", cat[\"title\"], re.I)):\n",
    "                    categories.append(cat[\"title\"])\n",
    "        \n",
    "        if resp.get('continue'):\n",
    "            params.update(resp.get(\"continue\"))\n",
    "            query_info(title, params)\n",
    "\n",
    "    query_info(title, params)\n",
    "    \n",
    "    return links, categories"
   ]
  },
  {
   "cell_type": "code",
   "execution_count": 108,
   "metadata": {
    "scrolled": false
   },
   "outputs": [],
   "source": [
    "links1, categories1 = get_article_info(\"Random forest\")\n",
    "\n",
    "links2, categories2 = get_article_info(\"Decision tree\")"
   ]
  },
  {
   "cell_type": "code",
   "execution_count": 111,
   "metadata": {},
   "outputs": [
    {
     "name": "stdout",
     "output_type": "stream",
     "text": [
      "Association rule learning\n",
      "Boosting (machine learning)\n",
      "CiteSeerX\n",
      "Decision tree learning\n",
      "Digital object identifier\n",
      "International Standard Book Number\n",
      "PubMed Central\n",
      "PubMed Identifier\n"
     ]
    },
    {
     "data": {
      "text/plain": [
       "8"
      ]
     },
     "execution_count": 111,
     "metadata": {},
     "output_type": "execute_result"
    }
   ],
   "source": [
    "matches = 0\n",
    "for link in links1:\n",
    "    if link in links2:\n",
    "        print(link)\n",
    "        matches += 1\n",
    "        \n",
    "matches"
   ]
  },
  {
   "cell_type": "code",
   "execution_count": 81,
   "metadata": {},
   "outputs": [
    {
     "data": {
      "text/plain": [
       "True"
      ]
     },
     "execution_count": 81,
     "metadata": {},
     "output_type": "execute_result"
    }
   ],
   "source": [
    "string = \"Articles containing potentially dated statements from 2019\"\n",
    "\n",
    "bool(re.findall(r\"article[s]\", string, re.I))"
   ]
  }
 ],
 "metadata": {
  "kernelspec": {
   "display_name": "Python 3",
   "language": "python",
   "name": "python3"
  },
  "language_info": {
   "codemirror_mode": {
    "name": "ipython",
    "version": 3
   },
   "file_extension": ".py",
   "mimetype": "text/x-python",
   "name": "python",
   "nbconvert_exporter": "python",
   "pygments_lexer": "ipython3",
   "version": "3.7.3"
  }
 },
 "nbformat": 4,
 "nbformat_minor": 2
}
