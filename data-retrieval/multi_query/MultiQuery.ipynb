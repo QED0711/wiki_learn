{
 "cells": [
  {
   "cell_type": "code",
   "execution_count": 5,
   "metadata": {},
   "outputs": [],
   "source": [
    "import pdb\n",
    "import requests"
   ]
  },
  {
   "cell_type": "markdown",
   "metadata": {},
   "source": [
    "## Helper Functions"
   ]
  },
  {
   "cell_type": "code",
   "execution_count": 72,
   "metadata": {},
   "outputs": [],
   "source": [
    "def query_wiki_api(params):\n",
    "    url=\"https://en.wikipedia.org/w/api.php\"\n",
    "    return requests.get(url, params).json()\n",
    "\n",
    "def get_pages(resp):\n",
    "    return list(resp['query'][\"pages\"].keys())\n",
    "\n",
    "def page_dicts(resp):\n",
    "    pages = get_pages(resp)\n",
    "    return [{\"pageid\": page} for page in pages]\n",
    "\n",
    "def add_links(resp, pages):\n",
    "    for article in pages:\n",
    "        try:\n",
    "            pageid = article['pageid']\n",
    "            links = [link['title'] for link in resp['query']['pages'][pageid]['links']]\n",
    "            if \"links\" in article:\n",
    "                article['links'] += links\n",
    "            else:\n",
    "                article['links'] = links\n",
    "        except:\n",
    "            continue\n",
    "            \n",
    "    return pages\n",
    "\n",
    "def add_linkshere(resp, pages):\n",
    "    for article in pages:\n",
    "        try:\n",
    "            pageid = article['pageid']\n",
    "            links = [link['title'] for link in resp['query']['pages'][pageid]['linkshere']]\n",
    "            if \"linkshere\" in article:\n",
    "                article['linkshere'] += links\n",
    "            else:\n",
    "                article['linkshere'] = links\n",
    "        except:\n",
    "            continue\n",
    "            \n",
    "    return pages\n",
    "\n",
    "def add_categories(resp, pages):\n",
    "    for article in pages:\n",
    "        try:\n",
    "            pageid = article['pageid']\n",
    "            categories = [cat['title'] for cat in resp['query']['pages'][pageid]['categories']]\n",
    "            if \"categories\" in article:\n",
    "                article['categories'] += categories\n",
    "            else:\n",
    "                article['categories'] = categories\n",
    "        except:\n",
    "            continue\n",
    "            \n",
    "    return pages\n",
    "\n",
    "def update_continue(resp, params):\n",
    "    if resp.get(\"continue\"):\n",
    "        # remove any previous continue strings\n",
    "        keys = list(params.keys())\n",
    "        for key in keys:\n",
    "            if \"continue\" in key:\n",
    "                del params[key]\n",
    "                \n",
    "        # update with new params\n",
    "        params.update(resp.get(\"continue\"))        \n",
    "        return params\n",
    "    else:\n",
    "        return False\n",
    "    \n",
    "        "
   ]
  },
  {
   "cell_type": "code",
   "execution_count": 73,
   "metadata": {},
   "outputs": [],
   "source": [
    "class WikiMultiQuery:\n",
    "    \n",
    "    def __init__(self):\n",
    "        pass\n",
    "    \n",
    "    def get(self, articles, params=None, pages=None):\n",
    "        \n",
    "        if not params:\n",
    "            params = {\n",
    "                \"action\": \"query\",\n",
    "                \"format\": \"json\",\n",
    "\n",
    "                \"prop\": \"redirects|links|linkshere|categories\",\n",
    "\n",
    "                # redirects\n",
    "                \"rdnamespace\": 0,\n",
    "                \"rdlimit\": \"max\",\n",
    "\n",
    "                # links\n",
    "                \"pllimit\": \"max\",\n",
    "                \"plnamespace\": 0,\n",
    "\n",
    "                # linkshere\n",
    "                \"lhlimit\": \"max\",\n",
    "                \"lhnamespace\": 0,\n",
    "                \"lhshow\": \"!redirect\",\n",
    "\n",
    "                # categories\n",
    "                \"cllimit\": \"max\",\n",
    "\n",
    "                # automatic redirect\n",
    "                \"redirects\": 1\n",
    "            }\n",
    "            \n",
    "        \n",
    "        \n",
    "        params['titles'] = \"|\".join(articles)\n",
    "        \n",
    "        resp = query_wiki_api(params)\n",
    "        \n",
    "        if not pages:\n",
    "            pages = page_dicts(resp)\n",
    "        \n",
    "        pages = add_links(resp, pages)\n",
    "        pages = add_linkshere(resp, pages)\n",
    "        pages = add_categories(resp, pages)\n",
    "        \n",
    "        # will return an updated params with continue statements OR False\n",
    "        params = update_continue(resp, params)\n",
    "        \n",
    "        # if params still is truthy, then it was updated with a continue\n",
    "        # start the process again on the continued work\n",
    "        if params:\n",
    "            return self.get(articles, params, pages)\n",
    "        \n",
    "        return pages"
   ]
  },
  {
   "cell_type": "code",
   "execution_count": 77,
   "metadata": {},
   "outputs": [
    {
     "data": {
      "text/plain": [
       "'Aesthetics'"
      ]
     },
     "execution_count": 77,
     "metadata": {},
     "output_type": "execute_result"
    }
   ],
   "source": [
    "wmq = WikiMultiQuery()\n",
    "\n",
    "wmq.get([\"Random forest\", \"Decision tree\", \"Machine learning\", \"Sonata\"])[1]['linkshere'][3]"
   ]
  },
  {
   "cell_type": "code",
   "execution_count": null,
   "metadata": {},
   "outputs": [],
   "source": []
  }
 ],
 "metadata": {
  "kernelspec": {
   "display_name": "Python 3",
   "language": "python",
   "name": "python3"
  },
  "language_info": {
   "codemirror_mode": {
    "name": "ipython",
    "version": 3
   },
   "file_extension": ".py",
   "mimetype": "text/x-python",
   "name": "python",
   "nbconvert_exporter": "python",
   "pygments_lexer": "ipython3",
   "version": "3.7.3"
  }
 },
 "nbformat": 4,
 "nbformat_minor": 2
}
