{
 "cells": [
  {
   "cell_type": "code",
   "execution_count": 8,
   "metadata": {
    "ExecuteTime": {
     "end_time": "2019-09-02T10:24:34.969106Z",
     "start_time": "2019-09-02T10:24:34.966404Z"
    }
   },
   "outputs": [],
   "source": [
    "import os\n",
    "import pdb\n",
    "import numpy as np\n",
    "import pandas as pd"
   ]
  },
  {
   "cell_type": "markdown",
   "metadata": {},
   "source": [
    "### 1. Get all file names of the formatted labeled data"
   ]
  },
  {
   "cell_type": "code",
   "execution_count": 12,
   "metadata": {
    "ExecuteTime": {
     "end_time": "2019-09-02T10:25:49.677193Z",
     "start_time": "2019-09-02T10:25:49.673672Z"
    }
   },
   "outputs": [
    {
     "data": {
      "text/plain": [
       "['Counterpoint.csv',\n",
       " 'Sonata form.csv',\n",
       " 'Decision tree.csv',\n",
       " 'StarCraft II: Wings of Liberty.csv',\n",
       " '[SKIP]Stargate.csv',\n",
       " 'Mental health.csv',\n",
       " 'Prevention science.csv',\n",
       " 'Digital recording.csv',\n",
       " 'Exercise physiology.csv',\n",
       " 'Atmospheric science.csv',\n",
       " 'Evidence-based policy.csv']"
      ]
     },
     "execution_count": 12,
     "metadata": {},
     "output_type": "execute_result"
    }
   ],
   "source": [
    "csvs = []\n",
    "\n",
    "for root, dirs, files in os.walk(\"../../data/user_labeled/labeled_formatted/\"):\n",
    "    csvs += files\n",
    "    \n",
    "csvs"
   ]
  },
  {
   "cell_type": "markdown",
   "metadata": {},
   "source": [
    "### 2. Merge labels with network info for labeled nodes"
   ]
  },
  {
   "cell_type": "code",
   "execution_count": 13,
   "metadata": {
    "ExecuteTime": {
     "end_time": "2019-09-02T10:25:57.562126Z",
     "start_time": "2019-09-02T10:25:52.798066Z"
    }
   },
   "outputs": [],
   "source": [
    "dfs = []\n",
    "\n",
    "unlabeled_path = \"../../data/user_labeled/unlabeled_minmax/\"\n",
    "\n",
    "for filename in csvs:\n",
    "    if \"SKIP\" in filename:\n",
    "        continue\n",
    "        \n",
    "    labeled = filename\n",
    "    unlabeled = filename.replace(\".csv\", \".zip\")\n",
    "    \n",
    "    # get labeled and unlabeled date for merge\n",
    "    labeled_df = pd.read_csv(f\"../../data/user_labeled/labeled_formatted/{labeled}\")\n",
    "    unlabeled_df = pd.read_csv(f\"{unlabeled_path}{unlabeled}\")\n",
    "    \n",
    "    # rename columns in labeled to match those in unlabeled. \n",
    "    labeled_df.rename(columns={\"Topic\": \"node\", \"Before/After\": \"label\"}, inplace=True)\n",
    "    \n",
    "    \n",
    "    merged = labeled_df.merge(unlabeled_df, on=\"node\", how=\"left\")\n",
    "    \n",
    "    dfs.append(merged)\n",
    "    \n"
   ]
  },
  {
   "cell_type": "markdown",
   "metadata": {},
   "source": [
    "### 3. Combine all labeled data and drop NAs. Save to `final_labeled.csv`"
   ]
  },
  {
   "cell_type": "code",
   "execution_count": 14,
   "metadata": {
    "ExecuteTime": {
     "end_time": "2019-09-02T10:26:11.862202Z",
     "start_time": "2019-09-02T10:26:11.852444Z"
    }
   },
   "outputs": [
    {
     "data": {
      "text/plain": [
       "before    141\n",
       "after     137\n",
       "Name: label, dtype: int64"
      ]
     },
     "execution_count": 14,
     "metadata": {},
     "output_type": "execute_result"
    }
   ],
   "source": [
    "total_labeled = dfs[0]\n",
    "for i in range(1, len(dfs)):\n",
    "    df = dfs[i]\n",
    "    total_labeled = pd.concat([total_labeled, df])\n",
    "\n",
    "total_labeled.label.value_counts()"
   ]
  },
  {
   "cell_type": "code",
   "execution_count": 15,
   "metadata": {
    "ExecuteTime": {
     "end_time": "2019-09-02T10:26:30.397375Z",
     "start_time": "2019-09-02T10:26:30.387340Z"
    }
   },
   "outputs": [],
   "source": [
    "total_labeled.dropna().to_csv(\"../../data/user_labeled/final_labeled.csv\", index=False)"
   ]
  },
  {
   "cell_type": "markdown",
   "metadata": {},
   "source": [
    "### 4. Confirm `final_labeled.csv`"
   ]
  },
  {
   "cell_type": "code",
   "execution_count": 16,
   "metadata": {
    "ExecuteTime": {
     "end_time": "2019-09-02T10:26:46.019028Z",
     "start_time": "2019-09-02T10:26:46.009852Z"
    }
   },
   "outputs": [
    {
     "data": {
      "text/html": [
       "<div>\n",
       "<style scoped>\n",
       "    .dataframe tbody tr th:only-of-type {\n",
       "        vertical-align: middle;\n",
       "    }\n",
       "\n",
       "    .dataframe tbody tr th {\n",
       "        vertical-align: top;\n",
       "    }\n",
       "\n",
       "    .dataframe thead th {\n",
       "        text-align: right;\n",
       "    }\n",
       "</style>\n",
       "<table border=\"1\" class=\"dataframe\">\n",
       "  <thead>\n",
       "    <tr style=\"text-align: right;\">\n",
       "      <th></th>\n",
       "      <th>node</th>\n",
       "      <th>label</th>\n",
       "      <th>degree</th>\n",
       "      <th>category_matches_with_source</th>\n",
       "      <th>in_edges</th>\n",
       "      <th>out_edges</th>\n",
       "      <th>shared_neighbors_with_entry_score</th>\n",
       "      <th>centrality</th>\n",
       "      <th>page_rank</th>\n",
       "      <th>adjusted_reciprocity</th>\n",
       "      <th>shortest_path_length_from_entry</th>\n",
       "      <th>shortest_path_length_to_entry</th>\n",
       "      <th>jaccard_similarity</th>\n",
       "      <th>primary_link</th>\n",
       "      <th>similarity_rank</th>\n",
       "    </tr>\n",
       "  </thead>\n",
       "  <tbody>\n",
       "  </tbody>\n",
       "</table>\n",
       "</div>"
      ],
      "text/plain": [
       "Empty DataFrame\n",
       "Columns: [node, label, degree, category_matches_with_source, in_edges, out_edges, shared_neighbors_with_entry_score, centrality, page_rank, adjusted_reciprocity, shortest_path_length_from_entry, shortest_path_length_to_entry, jaccard_similarity, primary_link, similarity_rank]\n",
       "Index: []"
      ]
     },
     "execution_count": 16,
     "metadata": {},
     "output_type": "execute_result"
    }
   ],
   "source": [
    "final_labeled = pd.read_csv(\"../../data/user_labeled/final_labeled.csv\")\n",
    "final_labeled[final_labeled.node == \"Stargate\"]"
   ]
  }
 ],
 "metadata": {
  "kernelspec": {
   "display_name": "Python 3",
   "language": "python",
   "name": "python3"
  },
  "language_info": {
   "codemirror_mode": {
    "name": "ipython",
    "version": 3
   },
   "file_extension": ".py",
   "mimetype": "text/x-python",
   "name": "python",
   "nbconvert_exporter": "python",
   "pygments_lexer": "ipython3",
   "version": "3.7.3"
  }
 },
 "nbformat": 4,
 "nbformat_minor": 2
}
