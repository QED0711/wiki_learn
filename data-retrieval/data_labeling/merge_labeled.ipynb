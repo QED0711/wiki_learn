{
 "cells": [
  {
   "cell_type": "code",
   "execution_count": 1,
   "metadata": {
    "ExecuteTime": {
     "end_time": "2019-08-30T08:30:13.317895Z",
     "start_time": "2019-08-30T08:30:13.093371Z"
    }
   },
   "outputs": [],
   "source": [
    "import os\n",
    "\n",
    "import numpy as np\n",
    "import pandas as pd"
   ]
  },
  {
   "cell_type": "markdown",
   "metadata": {},
   "source": [
    "### 1. Get all file names of the formatted labeled data"
   ]
  },
  {
   "cell_type": "code",
   "execution_count": 8,
   "metadata": {
    "ExecuteTime": {
     "end_time": "2019-08-30T09:09:32.935032Z",
     "start_time": "2019-08-30T09:09:32.931030Z"
    }
   },
   "outputs": [
    {
     "data": {
      "text/plain": [
       "['Counterpoint.csv',\n",
       " 'Starcraft.csv',\n",
       " 'Sonata form.csv',\n",
       " 'Decision tree.csv',\n",
       " '[SKIP]Stargate.csv',\n",
       " 'Exercise_physiology.csv',\n",
       " 'Mental health.csv',\n",
       " 'Prevention science.csv',\n",
       " 'Atmospheric science.csv',\n",
       " 'Evidence-based policy.csv']"
      ]
     },
     "execution_count": 8,
     "metadata": {},
     "output_type": "execute_result"
    }
   ],
   "source": [
    "csvs = []\n",
    "\n",
    "for root, dirs, files in os.walk(\"../../data/user_labeled/labeled_formatted//\"):\n",
    "    csvs += files\n",
    "    \n",
    "csvs"
   ]
  },
  {
   "cell_type": "markdown",
   "metadata": {},
   "source": [
    "### 2. Merge labels with network info for labeled nodes"
   ]
  },
  {
   "cell_type": "code",
   "execution_count": 9,
   "metadata": {
    "ExecuteTime": {
     "end_time": "2019-08-30T09:09:39.342875Z",
     "start_time": "2019-08-30T09:09:36.151656Z"
    }
   },
   "outputs": [],
   "source": [
    "dfs = []\n",
    "\n",
    "for filename in csvs:\n",
    "    if \"SKIP\" in filename:\n",
    "        continue\n",
    "    labeled = filename\n",
    "    unlabeled = filename.replace(\" \", \"_\").replace(\".csv\", \".zip\")\n",
    "    \n",
    "    # get labeled and unlabeled date for merge\n",
    "    labeled_df = pd.read_csv(f\"../../data/user_labeled/labeled_formatted//{labeled}\")\n",
    "    unlabeled_df = pd.read_csv(f\"../../data/user_labeled/unlabeled/{unlabeled}\")\n",
    "    \n",
    "    # rename columns in labeled to match those in unlabeled. \n",
    "    labeled_df.rename(columns={\"Topic\": \"node\", \"Before/After\": \"label\"}, inplace=True)\n",
    "    \n",
    "    \n",
    "    merged = labeled_df.merge(unlabeled_df, on=\"node\", how=\"left\")\n",
    "    \n",
    "    dfs.append(merged)\n",
    "    \n"
   ]
  },
  {
   "cell_type": "markdown",
   "metadata": {},
   "source": [
    "### 3. Combine all labeled data and drop NAs. Save to `final_labeled.csv`"
   ]
  },
  {
   "cell_type": "code",
   "execution_count": 10,
   "metadata": {
    "ExecuteTime": {
     "end_time": "2019-08-30T09:09:42.542328Z",
     "start_time": "2019-08-30T09:09:42.529351Z"
    }
   },
   "outputs": [],
   "source": [
    "total_labeled = dfs[0]\n",
    "for i in range(1, len(dfs)):\n",
    "    df = dfs[i]\n",
    "    total_labeled = pd.concat([total_labeled, df])\n",
    "    \n",
    "total_labeled.dropna().to_csv(\"../../data/user_labeled/final_labeled.csv\", index=False)\n",
    "        "
   ]
  },
  {
   "cell_type": "markdown",
   "metadata": {},
   "source": [
    "### 4. Confirm `final_labeled.csv`"
   ]
  },
  {
   "cell_type": "code",
   "execution_count": 13,
   "metadata": {
    "ExecuteTime": {
     "end_time": "2019-08-30T09:10:05.263860Z",
     "start_time": "2019-08-30T09:10:05.249781Z"
    }
   },
   "outputs": [
    {
     "data": {
      "text/html": [
       "<div>\n",
       "<style scoped>\n",
       "    .dataframe tbody tr th:only-of-type {\n",
       "        vertical-align: middle;\n",
       "    }\n",
       "\n",
       "    .dataframe tbody tr th {\n",
       "        vertical-align: top;\n",
       "    }\n",
       "\n",
       "    .dataframe thead th {\n",
       "        text-align: right;\n",
       "    }\n",
       "</style>\n",
       "<table border=\"1\" class=\"dataframe\">\n",
       "  <thead>\n",
       "    <tr style=\"text-align: right;\">\n",
       "      <th></th>\n",
       "      <th>node</th>\n",
       "      <th>label</th>\n",
       "      <th>degree</th>\n",
       "      <th>category_matches_with_source</th>\n",
       "      <th>in_edges</th>\n",
       "      <th>out_edges</th>\n",
       "      <th>shared_neighbors_with_entry_score</th>\n",
       "      <th>centrality</th>\n",
       "      <th>page_rank</th>\n",
       "      <th>adjusted_reciprocity</th>\n",
       "      <th>shortest_path_length_from_entry</th>\n",
       "      <th>shortest_path_length_to_entry</th>\n",
       "      <th>jaccard_similarity</th>\n",
       "      <th>primary_link</th>\n",
       "      <th>similarity_rank</th>\n",
       "    </tr>\n",
       "  </thead>\n",
       "  <tbody>\n",
       "    <tr>\n",
       "      <th>199</th>\n",
       "      <td>Epidemiology</td>\n",
       "      <td>before</td>\n",
       "      <td>0.421928</td>\n",
       "      <td>0.0</td>\n",
       "      <td>0.344949</td>\n",
       "      <td>1.0</td>\n",
       "      <td>0.004187</td>\n",
       "      <td>1.0</td>\n",
       "      <td>0.385996</td>\n",
       "      <td>1.0</td>\n",
       "      <td>0.2</td>\n",
       "      <td>0.428571</td>\n",
       "      <td>0.0</td>\n",
       "      <td>0.0</td>\n",
       "      <td>0.00323</td>\n",
       "    </tr>\n",
       "  </tbody>\n",
       "</table>\n",
       "</div>"
      ],
      "text/plain": [
       "             node   label    degree  category_matches_with_source  in_edges  \\\n",
       "199  Epidemiology  before  0.421928                           0.0  0.344949   \n",
       "\n",
       "     out_edges  shared_neighbors_with_entry_score  centrality  page_rank  \\\n",
       "199        1.0                           0.004187         1.0   0.385996   \n",
       "\n",
       "     adjusted_reciprocity  shortest_path_length_from_entry  \\\n",
       "199                   1.0                              0.2   \n",
       "\n",
       "     shortest_path_length_to_entry  jaccard_similarity  primary_link  \\\n",
       "199                       0.428571                 0.0           0.0   \n",
       "\n",
       "     similarity_rank  \n",
       "199          0.00323  "
      ]
     },
     "execution_count": 13,
     "metadata": {},
     "output_type": "execute_result"
    }
   ],
   "source": [
    "final_labeled = pd.read_csv(\"../../data/user_labeled/final_labeled.csv\")\n",
    "final_labeled[final_labeled.node == \"Epidemiology\"]"
   ]
  }
 ],
 "metadata": {
  "kernelspec": {
   "display_name": "Python 3",
   "language": "python",
   "name": "python3"
  },
  "language_info": {
   "codemirror_mode": {
    "name": "ipython",
    "version": 3
   },
   "file_extension": ".py",
   "mimetype": "text/x-python",
   "name": "python",
   "nbconvert_exporter": "python",
   "pygments_lexer": "ipython3",
   "version": "3.7.3"
  }
 },
 "nbformat": 4,
 "nbformat_minor": 2
}
