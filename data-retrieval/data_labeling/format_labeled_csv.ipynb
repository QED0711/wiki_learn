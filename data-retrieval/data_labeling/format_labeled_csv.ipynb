{
 "cells": [
  {
   "cell_type": "code",
   "execution_count": 4,
   "metadata": {
    "ExecuteTime": {
     "end_time": "2019-08-30T10:10:09.670643Z",
     "start_time": "2019-08-30T10:10:09.668665Z"
    }
   },
   "outputs": [],
   "source": [
    "import numpy as np\n",
    "import pandas as pd\n",
    "import re\n",
    "\n",
    "import os"
   ]
  },
  {
   "cell_type": "markdown",
   "metadata": {},
   "source": [
    "### 1. Get all csv documents that have been labeled by users"
   ]
  },
  {
   "cell_type": "code",
   "execution_count": 7,
   "metadata": {
    "ExecuteTime": {
     "end_time": "2019-08-30T10:11:49.878735Z",
     "start_time": "2019-08-30T10:11:49.874339Z"
    }
   },
   "outputs": [
    {
     "data": {
      "text/plain": [
       "['Counterpoint.csv',\n",
       " 'Starcraft.csv',\n",
       " 'Sonata form.csv',\n",
       " 'Stargate.csv',\n",
       " 'Decision tree.csv',\n",
       " 'Exercise_physiology.csv',\n",
       " 'Mental health.csv',\n",
       " 'Prevention science.csv',\n",
       " 'Digital recording.csv',\n",
       " 'Atmospheric science.csv',\n",
       " 'Evidence-based policy.csv']"
      ]
     },
     "execution_count": 7,
     "metadata": {},
     "output_type": "execute_result"
    }
   ],
   "source": [
    "csvs = []\n",
    "\n",
    "for root, dirs, files in os.walk(\"../../data/user_labeled/labeled/\"):\n",
    "    csvs += files\n",
    "    \n",
    "csvs"
   ]
  },
  {
   "cell_type": "markdown",
   "metadata": {},
   "source": [
    "### 2. Load in csv documents, format answers to be in consistent form across all user submitted entries"
   ]
  },
  {
   "cell_type": "code",
   "execution_count": 8,
   "metadata": {
    "ExecuteTime": {
     "end_time": "2019-08-30T10:11:54.535525Z",
     "start_time": "2019-08-30T10:11:54.488739Z"
    }
   },
   "outputs": [
    {
     "name": "stdout",
     "output_type": "stream",
     "text": [
      "total:\t 379 \n",
      "\n",
      "before:\t 145\n",
      "after:\t 234\n"
     ]
    }
   ],
   "source": [
    "before = 0\n",
    "after = 0\n",
    "\n",
    "def format_answers(answer):    \n",
    "    try:\n",
    "        answer = answer.lower()\n",
    "        if \"b\" in answer or \"o\" in answer:\n",
    "            return \"before\"\n",
    "        if \"a\" in answer or \"t\" in answer:\n",
    "            return \"after\"\n",
    "        else:\n",
    "            return np.nan\n",
    "    except:\n",
    "        return np.nan\n",
    "\n",
    "for csv in csvs:\n",
    "    df = pd.read_csv(f\"../../data/user_labeled/labeled/{csv}\",skiprows=2)\n",
    "    df[\"Before/After\"] = df[\"Before/After\"].apply(format_answers) \n",
    "    \n",
    "    # keep track of class counts to see if there is imbalance\n",
    "    before += df[\"Before/After\"].value_counts()['before']\n",
    "    after += df[\"Before/After\"].value_counts()['after']\n",
    "    \n",
    "    df.to_csv(f\"../../data/user_labeled/labeled_formatted/{csv}\", index=False)\n",
    "    \n",
    "    \n",
    "print(\"total:\\t\", before + after, \"\\n\")\n",
    "print('before:\\t', before)\n",
    "print('after:\\t', after)\n"
   ]
  },
  {
   "cell_type": "code",
   "execution_count": 10,
   "metadata": {
    "ExecuteTime": {
     "end_time": "2019-08-29T17:59:15.094262Z",
     "start_time": "2019-08-29T17:59:15.091498Z"
    },
    "scrolled": true
   },
   "outputs": [],
   "source": [
    "# pd.read_csv(\"../../data/user_labeled/labeled_formatted/Mental health.csv\")"
   ]
  },
  {
   "cell_type": "code",
   "execution_count": null,
   "metadata": {},
   "outputs": [],
   "source": []
  }
 ],
 "metadata": {
  "kernelspec": {
   "display_name": "Python 3",
   "language": "python",
   "name": "python3"
  },
  "language_info": {
   "codemirror_mode": {
    "name": "ipython",
    "version": 3
   },
   "file_extension": ".py",
   "mimetype": "text/x-python",
   "name": "python",
   "nbconvert_exporter": "python",
   "pygments_lexer": "ipython3",
   "version": "3.7.3"
  }
 },
 "nbformat": 4,
 "nbformat_minor": 2
}
