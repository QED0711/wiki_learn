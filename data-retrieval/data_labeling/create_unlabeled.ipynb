{
 "cells": [
  {
   "cell_type": "code",
   "execution_count": 12,
   "metadata": {
    "ExecuteTime": {
     "end_time": "2019-09-02T09:35:20.471300Z",
     "start_time": "2019-09-02T09:35:20.457039Z"
    }
   },
   "outputs": [
    {
     "name": "stdout",
     "output_type": "stream",
     "text": [
      "The autoreload extension is already loaded. To reload it, use:\n",
      "  %reload_ext autoreload\n"
     ]
    }
   ],
   "source": [
    "%load_ext autoreload\n",
    "%autoreload 1\n",
    "\n",
    "import sys\n",
    "sys.path.append(\"../../utils/\")\n",
    "\n",
    "import os\n",
    "\n",
    "import pandas as pd\n",
    "pd.options.display.max_rows = 110\n",
    "\n",
    "from sklearn.preprocessing import StandardScaler, Normalizer, MinMaxScaler, MaxAbsScaler, RobustScaler\n",
    "\n",
    "from GraphAPI import GraphCreator\n",
    "from graph_helpers import *\n",
    "from evaluations import *\n",
    "from RecommenderPipeline import Recommender\n",
    "\n",
    "from zipfile import ZipFile \n",
    "\n",
    "%aimport GraphAPI\n",
    "%aimport graph_helpers\n",
    "%aimport evaluations\n",
    "%aimport RecommenderPipeline"
   ]
  },
  {
   "cell_type": "code",
   "execution_count": 9,
   "metadata": {
    "ExecuteTime": {
     "end_time": "2019-09-02T09:32:31.352016Z",
     "start_time": "2019-09-02T09:32:31.348051Z"
    }
   },
   "outputs": [],
   "source": [
    "def unlabeled_creator(entry, save_path, threads=10, chunk_size=1, scaler=MinMaxScaler):\n",
    "    # initialize graph creator\n",
    "    gc = GraphCreator(entry, include_see_also=True)\n",
    "    # initialize and fit recommender pipeline\n",
    "    rec = Recommender(gc, threads=threads, chunk_size=chunk_size)\n",
    "    rec.fit(scaler)\n",
    "    \n",
    "    # the dataframe we want to save is now stored in rec.scaled\n",
    "    rec.scaled.to_csv(save_path + entry + \".csv\", index=False)\n",
    "    \n",
    "    "
   ]
  },
  {
   "cell_type": "code",
   "execution_count": 22,
   "metadata": {
    "ExecuteTime": {
     "end_time": "2019-09-02T11:27:50.402174Z",
     "start_time": "2019-09-02T11:27:50.393941Z"
    }
   },
   "outputs": [],
   "source": [
    "articles = [\n",
    "    \"Decision tree\",\n",
    "    \"Digital recording\",\n",
    "    \"Atmospheric science\",\n",
    "    \"Mental health\",\n",
    "    \"Exercise physiology\",\n",
    "    \"Prevention science\",\n",
    "    \"Sonata form\",\n",
    "    \"Counterpoint\",\n",
    "    \"Evidence-based policy\",\n",
    "    \"StarCraft II: Wings of Liberty\",\n",
    "    \n",
    "]"
   ]
  },
  {
   "cell_type": "code",
   "execution_count": 25,
   "metadata": {
    "ExecuteTime": {
     "end_time": "2019-09-02T12:55:18.481629Z",
     "start_time": "2019-09-02T12:29:35.468853Z"
    }
   },
   "outputs": [
    {
     "name": "stdout",
     "output_type": "stream",
     "text": [
      "Decision tree\n",
      "122079 Rows\n",
      "\n",
      "Digital recording\n",
      "488932 Rows\n",
      "\n",
      "Atmospheric science\n",
      "279456 Rows\n",
      "\n",
      "Mental health\n",
      "479964 Rows\n",
      "\n",
      "Exercise physiology\n",
      "253130 Rows\n",
      "\n",
      "Prevention science\n",
      "39051 Rows\n",
      "\n",
      "Sonata form\n",
      "194191 Rows\n",
      "\n",
      "Counterpoint\n",
      "389306 Rows\n",
      "\n",
      "Evidence-based policy\n",
      "199308 Rows\n",
      "\n",
      "StarCraft II: Wings of Liberty\n",
      "290287 Rows\n",
      "\n"
     ]
    }
   ],
   "source": [
    "# PARAMETERS\n",
    "path = \"../../data/user_labeled/unlabeled_normalized/\"\n",
    "scaler = Normalizer\n",
    "\n",
    "for entry in articles:\n",
    "    \n",
    "    print(entry)\n",
    "\n",
    "    # EXECUTION\n",
    "    unlabeled_creator(entry, save_path=path, threads=20, chunk_size=1, scaler=scaler)\n",
    "\n",
    "    # ZIPPING\n",
    "    with ZipFile(path + entry + \".zip\", \"w\")as file:\n",
    "        file.write(path + entry + \".csv\")\n",
    "\n",
    "    # REMOVE OLD CSV\n",
    "    os.remove(path + entry + \".csv\")\n",
    "    \n",
    "    print(pd.read_csv(path + entry + \".zip\").shape[0], \"Rows\\n\")"
   ]
  }
 ],
 "metadata": {
  "kernelspec": {
   "display_name": "Python 3",
   "language": "python",
   "name": "python3"
  },
  "language_info": {
   "codemirror_mode": {
    "name": "ipython",
    "version": 3
   },
   "file_extension": ".py",
   "mimetype": "text/x-python",
   "name": "python",
   "nbconvert_exporter": "python",
   "pygments_lexer": "ipython3",
   "version": "3.7.3"
  }
 },
 "nbformat": 4,
 "nbformat_minor": 2
}
