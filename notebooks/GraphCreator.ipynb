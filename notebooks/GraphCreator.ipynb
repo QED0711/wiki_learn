{
 "cells": [
  {
   "cell_type": "code",
   "execution_count": 1,
   "metadata": {
    "ExecuteTime": {
     "end_time": "2019-08-31T15:36:41.376274Z",
     "start_time": "2019-08-31T15:36:40.781059Z"
    }
   },
   "outputs": [],
   "source": [
    "%load_ext autoreload\n",
    "%autoreload 1\n",
    "\n",
    "import sys\n",
    "sys.path.append(\"../utils/\")\n",
    "\n",
    "from sklearn.preprocessing import StandardScaler, Normalizer, MinMaxScaler, MaxAbsScaler, RobustScaler\n",
    "\n",
    "from GraphAPI import GraphCreator\n",
    "from graph_helpers import *\n",
    "from evaluations import *\n",
    "\n",
    "%aimport GraphAPI\n",
    "%aimport graph_helpers\n",
    "%aimport evaluations"
   ]
  },
  {
   "cell_type": "markdown",
   "metadata": {},
   "source": [
    "## Generating Graph from Entry Point\n",
    "\n",
    "1. We initialize our GraphCreator class and check how many new nodes we will need to query. "
   ]
  },
  {
   "cell_type": "code",
   "execution_count": 2,
   "metadata": {
    "ExecuteTime": {
     "end_time": "2019-08-31T15:36:42.855646Z",
     "start_time": "2019-08-31T15:36:42.531071Z"
    }
   },
   "outputs": [
    {
     "name": "stdout",
     "output_type": "stream",
     "text": [
      "Number of Links to Search: 258 \n",
      "\n",
      "\n",
      "['Tree (graph theory)', 'Causal model', 'Decision tree learning', 'Utility', 'Probability', 'Goal', 'Algorithm', 'Decision support system', 'Operations research', 'Decision analysis'] \n",
      "\n",
      "\n",
      "['Behavior tree (artificial intelligence, robotics and control)', 'Boosting (machine learning)', 'Decision cycle', 'Decision list', 'Decision table', 'Decision tree model', 'Design rationale', 'DRAKON', 'Markov chain', 'Random forest', 'Odds algorithm', 'Topological combinatorics', 'Truth table']\n"
     ]
    }
   ],
   "source": [
    "# include_see_also=False used for validation below.\n",
    "# in deployment, include_see_also should be set to True\n",
    "gc = GraphCreator(\"Decision tree\", include_see_also=False, max_recursize_requests=50) \n",
    "print(\"Number of Links to Search:\", len(gc.next_links), \"\\n\\n\")\n",
    "print(list(gc.primary_nodes.keys()), \"\\n\\n\")\n",
    "print(gc.see_also_articles)"
   ]
  },
  {
   "cell_type": "markdown",
   "metadata": {},
   "source": [
    "2. We query all the nodes linked to/from the entry point (expand our network one level for each node)."
   ]
  },
  {
   "cell_type": "code",
   "execution_count": 3,
   "metadata": {
    "ExecuteTime": {
     "end_time": "2019-08-31T15:36:52.925884Z",
     "start_time": "2019-08-31T15:36:45.493094Z"
    },
    "scrolled": true
   },
   "outputs": [
    {
     "name": "stdout",
     "output_type": "stream",
     "text": [
      "Number of Links After Expansion:  122201\n"
     ]
    }
   ],
   "source": [
    "gc.expand_network_threaded(threads=20, chunk_size=1)\n",
    "print(\"Number of Links After Expansion: \", len(gc.graph.nodes))"
   ]
  },
  {
   "cell_type": "markdown",
   "metadata": {},
   "source": [
    "3. Since some nodes will likely have linked to articles through a redirect link, we need to traverse our graph and ensure that all redirects are assigned to the correct nodes. Once all redirects have been dealt with, we remove any old redirect nodes. "
   ]
  },
  {
   "cell_type": "code",
   "execution_count": null,
   "metadata": {
    "ExecuteTime": {
     "end_time": "2019-08-31T15:30:33.173797Z",
     "start_time": "2019-08-31T15:30:33.064810Z"
    }
   },
   "outputs": [],
   "source": [
    "gc.redraw_redirects()"
   ]
  },
  {
   "cell_type": "markdown",
   "metadata": {},
   "source": [
    "4. Edges are weighted by how many categories two connected nodes have in common. Once we have all our nodes, and we have dealt with redirects, we can add edge weights for our entire graph. "
   ]
  },
  {
   "cell_type": "code",
   "execution_count": null,
   "metadata": {
    "ExecuteTime": {
     "end_time": "2019-08-31T15:30:36.114747Z",
     "start_time": "2019-08-31T15:30:35.302903Z"
    }
   },
   "outputs": [],
   "source": [
    "gc.update_edge_weights()\n",
    "gc.get_edge_weights().head()"
   ]
  },
  {
   "cell_type": "markdown",
   "metadata": {},
   "source": [
    "# Getting Our Feature Set\n",
    "\n",
    "There are two options when generating the feature set:\n",
    "\n",
    "1. we can generate a standard feature set with only the features themselves. To do this, have the `rank` parameter set to `False`.\n",
    "2. We can generate a ranked feature set (set `rank` equal to `True`). For each parameter, this will rank them in order of _best_ to _worst_ (this could be ascending or descending, depending on the context of the feature).\n",
    "\n",
    "After running `get_features_df`, the feature set will be saved in the GraphCreator instance as `feature_df`"
   ]
  },
  {
   "cell_type": "code",
   "execution_count": null,
   "metadata": {
    "ExecuteTime": {
     "end_time": "2019-08-31T15:31:05.084048Z",
     "start_time": "2019-08-31T15:30:39.816267Z"
    }
   },
   "outputs": [],
   "source": [
    "features_df = gc.get_features_df(rank=False)"
   ]
  },
  {
   "cell_type": "markdown",
   "metadata": {},
   "source": [
    "# Similarity Rank\n",
    "\n",
    "Two articles are more similar the more categories they share and the closer they are to each other. "
   ]
  },
  {
   "cell_type": "code",
   "execution_count": null,
   "metadata": {
    "ExecuteTime": {
     "end_time": "2019-08-31T14:42:37.992124Z",
     "start_time": "2019-08-31T14:42:26.073417Z"
    }
   },
   "outputs": [],
   "source": [
    "gc.rank_similarity()\n",
    "gc.features_df.sort_values(\"similarity_rank\", ascending=False).head(10)"
   ]
  },
  {
   "cell_type": "markdown",
   "metadata": {},
   "source": [
    "# Scaling Features\n",
    "\n",
    "We can easily scale our each of our features through the `scale_features_df` method. It will default to `Standard Scaler`, but we can specify alternate scalers in the `scaler` parameter.  "
   ]
  },
  {
   "cell_type": "code",
   "execution_count": null,
   "metadata": {
    "ExecuteTime": {
     "end_time": "2019-08-31T14:42:38.100141Z",
     "start_time": "2019-08-31T14:42:37.993541Z"
    }
   },
   "outputs": [],
   "source": [
    "scaled_feature_df = gc.scale_features_df(scaler=MinMaxScaler, copy=True) # Makes a copy of the df\n",
    "scaled_feature_df.sort_values(\"similarity_rank\", ascending=False).reset_index().drop(\"index\", axis=1)"
   ]
  },
  {
   "cell_type": "markdown",
   "metadata": {},
   "source": [
    "___\n",
    "# Validation\n",
    "\n",
    "Here, we _validate_ our results. For many articles, we already have some user defined links that are highly related to the present article. These are found in the **See Also** section of several Wikipedia articles (some pages do not have them). These are not ordered in importance in any meaningful way, and there are no rating scores.\n",
    "\n",
    "The intuition in this validation is as follows: \n",
    "\n",
    "> _Given that we know some articles are highly related from user input, if the recommendations provided by this system are valid, we would expect to see those **See Also** links ranked relatively high on our list._ \n",
    "\n",
    "_Note: This validation is not meant as **confirmation** or **evaluation** of the results. It only provides us one way of telling if the results we are seeing are reasonably valid. It is important to note that we cannot compare these results across two different articles, as those would be two entirely different network structures, likely with different human labeled links._  \n"
   ]
  },
  {
   "cell_type": "code",
   "execution_count": null,
   "metadata": {
    "ExecuteTime": {
     "end_time": "2019-08-31T14:42:58.204292Z",
     "start_time": "2019-08-31T14:42:38.101225Z"
    }
   },
   "outputs": [],
   "source": [
    "evaluate_metrics(scaled_feature_df, \n",
    "                 on=[\"similarity_rank\", \"centrality\", \"adjusted_reciprocity\", \"page_rank\", \"shortest_path_length_from_entry\", \"jaccard_similarity\"], \n",
    "                 targets=gc.see_also_articles)"
   ]
  },
  {
   "cell_type": "markdown",
   "metadata": {},
   "source": [
    "The chart generated above compares different ranking metrics (left index) for a given article. The most important column, `score`, provides a fast way for us to compare these different metrics. \n",
    "\n",
    "For example, if we see a _score_ of 0.98 for a given ranking metric, The following statement would be true:\n",
    "\n",
    "> All of the human labeled **See Also** links are present within the top 98% of our recommendations. \n",
    "\n",
    "Since the human labeled links comprise a range, it is not possible to get a score of 100%. The `max score possible` column indicates the score that would be achieved if all the human labeled _See Also_ links appeared at the top of our recommendations without any other links intervening.   \n",
    "\n",
    "The `difference` column is an alternative way of looking at the score. If we had a 0.02 in this column, we could say:\n",
    "\n",
    "> All the human labeled **See Also** links are contained within the top 2% of our recommendations. \n",
    "\n",
    "`Total targets` is the number of human labeled _See Also_ links. \n",
    "\n",
    "Because it is possible that different metrics could have similar scores, we want a way to break down the dispersion of the known related links to see if one metric does perform better than another. The trailing four columns provide us with a course way of measuring this dispersion. \n",
    "\n",
    "Each of these columns indicates the percentage of human labeled _See Also_ links captured within a given percentage of the top of our recommendations. For example, if we see a 0.92 in the `% targets in the top 1%` columns, we could say:\n",
    "\n",
    "> 92% of the human labeled **See Also** links appear in the top 1% of our recommendations. \n",
    "\n",
    "The value of these columns is a follows - If two ranking metrics have similar scores, we _might_ consider the better performing one to be the one in which the majority of the human labeled links are higher in our recommendation list. \n",
    "\n",
    "___"
   ]
  },
  {
   "cell_type": "code",
   "execution_count": null,
   "metadata": {
    "ExecuteTime": {
     "end_time": "2019-08-28T19:19:16.548939Z",
     "start_time": "2019-08-28T19:19:16.515283Z"
    }
   },
   "outputs": [],
   "source": [
    "gc.features_df.info()"
   ]
  },
  {
   "cell_type": "code",
   "execution_count": null,
   "metadata": {
    "ExecuteTime": {
     "end_time": "2019-08-28T19:23:32.557089Z",
     "start_time": "2019-08-28T19:23:32.515576Z"
    }
   },
   "outputs": [],
   "source": [
    "scaled_feature_df.sort_values(\"similarity_rank\", ascending=False).reset_index()[['node']]"
   ]
  }
 ],
 "metadata": {
  "kernelspec": {
   "display_name": "Python 3",
   "language": "python",
   "name": "python3"
  },
  "language_info": {
   "codemirror_mode": {
    "name": "ipython",
    "version": 3
   },
   "file_extension": ".py",
   "mimetype": "text/x-python",
   "name": "python",
   "nbconvert_exporter": "python",
   "pygments_lexer": "ipython3",
   "version": "3.7.3"
  }
 },
 "nbformat": 4,
 "nbformat_minor": 2
}
